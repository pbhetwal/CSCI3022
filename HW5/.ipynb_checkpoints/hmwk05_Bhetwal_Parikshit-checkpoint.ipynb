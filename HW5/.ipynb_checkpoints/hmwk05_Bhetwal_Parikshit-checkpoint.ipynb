{
 "cells": [
  {
   "cell_type": "markdown",
   "metadata": {},
   "source": [
    "<a id='top'></a>\n",
    "\n",
    "# Homework 5: Bootstrap, Hypothesis Testing and Regression\n",
    "***\n",
    "\n",
    "**Name**: __Parikshit Bhetwal__ \n",
    "\n",
    "***\n",
    "\n",
    "This assignment is due on Moodle by **5 PM on Friday April 19**. Your solutions to theoretical questions should be done in Markdown/MathJax directly below the associated question.  Your solutions to computational questions should include any specified Python code and results as well as written commentary on your conclusions.  Remember that you are encouraged to discuss the problems with your instructors and classmates, but **you must write all code and solutions on your own**. \n",
    "\n",
    "**NOTES**: \n",
    "\n",
    "- Any relevant data sets should be available under the **Data** module on Canvas, as well as in the zipped folder in which you obtained this assignment. \n",
    "- Do **NOT** load or use any Python packages that are not available in Anaconda 3.6. \n",
    "- Because you can technically evaluate notebook cells in a non-linear order, it's a good idea to do Kernel $\\rightarrow$ Restart & Run All as a check before submitting your solutions.  That way if we need to run your code you will know that it will work as expected. \n",
    "- It is **bad form** to make your reader interpret numerical output from your code.  If a question asks you to compute some value from the data you should show your code output **AND** write a summary of the results in Markdown directly below your code. \n",
    "- You **MUST** leave all of your notebook cells **evaluated** so the graders do not need to re-evaluate them. For 100+ students, this extra time adds up, and makes the graders' lives unnecessarily more difficult.\n",
    "- This probably goes without saying, but... For any question that asks you to calculate something, you **must show all work and justify your answers to receive credit**. Sparse or nonexistent work will receive sparse or nonexistent credit. \n",
    "- Submit only this Jupyter notebook to Canvas.  Do not compress it using tar, rar, zip, etc. \n",
    "\n",
    "---\n",
    "**Shortcuts:**  [Problem 1](#p1) | [Problem 2](#p2) | [Problem 3](#p3) | [Problem 4](#p4) \n",
    "\n",
    "---"
   ]
  },
  {
   "cell_type": "code",
   "execution_count": 1,
   "metadata": {
    "scrolled": true
   },
   "outputs": [],
   "source": [
    "import numpy as np\n",
    "import matplotlib.pyplot as plt\n",
    "import pandas as pd\n",
    "from scipy import stats \n",
    "%matplotlib inline"
   ]
  },
  {
   "cell_type": "markdown",
   "metadata": {},
   "source": [
    "<br>\n",
    "\n",
    "---\n",
    "[Back to top](#top)\n",
    "<a id='p1'></a>\n",
    "\n",
    "### [15 points] Problem 1 - Hypothesis Testing Whether your Co-worker is a Doofus \n",
    "\n",
    "You are working as a Data Scientist for an internet-based hedgehog deliver company. Your co-worker, Daley Jennanigans, is a lovable scamp! Unfortunately, Daley also makes a lot of mistakes throughout the day as the two of you team up to tackle some inference work regarding your company's hedgehog-loving customers. In each case, clearly explain why Daley's hypothesis testing setup or conclusion is incorrect."
   ]
  },
  {
   "cell_type": "markdown",
   "metadata": {},
   "source": [
    "**Part A**: Daley has some data on the characteristics of customers that visited the company's website over the previous month.  He wants to perform an analysis on the proportion of last month's website visitors that bought a hedgehog. Let $X$ be the random variable describing the number of website visitors who bought a hedgehog in the previous month, and suppose that the population proportion of visitors who bought a hedgehog is $p$. Daley is interested to see if the data suggests that more than 20% of website visitors actually buy a hedgehog.  He decides to perform the test with a null hypothesis of $H_0: \\hat{p} = 0.20$. "
   ]
  },
  {
   "cell_type": "markdown",
   "metadata": {
    "collapsed": true
   },
   "source": [
    "The hypothesis testing setup is incorrect here because $\\hat{p}$ is not what we should use. Rather, we should use the population proportion of $p$ which would instead be $H_0: p = 0.20$."
   ]
  },
  {
   "cell_type": "markdown",
   "metadata": {},
   "source": [
    "**Part B**: Daley decides instead to do his hypothesis test with a null hypothesis of $H_0: p < 0.20$.  "
   ]
  },
  {
   "cell_type": "markdown",
   "metadata": {
    "collapsed": true
   },
   "source": [
    "The hypothesis testing setup is incorrect here because the null hypothesis should always be equal to a value, not greater or less than a value. So we instead want $H_0: p = 0.20$. "
   ]
  },
  {
   "cell_type": "markdown",
   "metadata": {},
   "source": [
    "**Part C**: Now Daley is finally on track with reasonable hypotheses of $H_0: p = 0.20$ and $H_1: p > 0.20$. Daley computes for the sample proportion a normalized test-statistic of $z = 2.4$ and states that since $z = 2.4 > 0.01$ there is insufficient statistical evidence at the $\\alpha = 0.01$ significance level to conclude that the proportion of customers who buy a hedgehog is greater than 20%."
   ]
  },
  {
   "cell_type": "markdown",
   "metadata": {
    "collapsed": true
   },
   "source": [
    "The conclusion is incorrect because Daley should not compare the test-statistic to $\\alpha$ but rather the p-value to $\\alpha$."
   ]
  },
  {
   "cell_type": "markdown",
   "metadata": {},
   "source": [
    "**Part D**: Daley is again conducting the hypothesis test of $H_0: p = 0.20$ and $H_1: p > 0.20$, and found the test-statistic $z=2.4$. Daley computes his p-value as:\n",
    "$$\\text{p-value} = \\texttt{stats.norm.cdf(2.4)} = 0.9918$$\n",
    "\n",
    "Since his p-value (0.9918) is greater than the significance level (0.01), Daley again claims that there is insufficient evidence at the 1% significance level to conclude that the proportion of customers who buy a hedgehog is greater than 20%."
   ]
  },
  {
   "cell_type": "markdown",
   "metadata": {
    "collapsed": true
   },
   "source": [
    "The conclusion is incorrect because this is a right-tailed test and thus Daley is finding his p-value incorrectly. If we calculate the actual p-value, we get that his p-value (0.00819) is less than the significance level (0.01) and thus we have sufficient evidence at the 1% significance level to conclude that the proportion of customers who buy a hedgehog is greater than 20%."
   ]
  },
  {
   "cell_type": "code",
   "execution_count": 2,
   "metadata": {},
   "outputs": [
    {
     "name": "stdout",
     "output_type": "stream",
     "text": [
      "p-value = 1-stats.norm.cdf(2.4) = 0.008197535924596155\n"
     ]
    }
   ],
   "source": [
    "p_value = 1-stats.norm.cdf(2.4)\n",
    "print(\"p-value = 1-stats.norm.cdf(2.4) =\",p_value)"
   ]
  },
  {
   "cell_type": "markdown",
   "metadata": {},
   "source": [
    "**Part E**: Daley is again conducting the hypothesis test of $H_0: p = 0.20$ and $H_1: p > 0.20$. Suppose he computes a p-value of $0.03$, and then concludes that there is only a 3% probability that the null hypothesis is true. "
   ]
  },
  {
   "cell_type": "markdown",
   "metadata": {
    "collapsed": true
   },
   "source": [
    "The conclusion is incorrect because the p-value is the probability that we see this data given that the null is true and thus it does _not_ mean that there is only a 3% probability that the null hypothesis is true. Also, he has calculated the p-value incorrectly. "
   ]
  },
  {
   "cell_type": "markdown",
   "metadata": {},
   "source": [
    "<br>\n",
    "\n",
    "---\n",
    "[Back to top](#top)\n",
    "<a id='p2'></a>\n",
    "\n",
    "### [25 points] Problem 2 - Naps vs Coffee for Memory? \n",
    "\n",
    "It is estimated that [about 75% of adults](https://www.ncbi.nlm.nih.gov/pmc/articles/PMC4997286/) in the United States drink coffee. Often, coffee is used to replace the need for sleep. It works alright, or so we think. Let's find out, in this exciting homework problem!\n",
    "\n",
    "[One recent study](https://www.sciencedirect.com/science/article/pii/S1388245703002554) investigated the effects of drinking coffee, taking a nap, and having a [\"coffee-nap\"](https://lifehacker.com/naps-vs-coffee-which-is-better-when-youre-exhausted-1730643671) - the practice of drinking some coffee *and then* having a short nap. The study broke participants up into three groups of 10 participants each, where the groups would have a nap, or have a coffee, or have a coffee-nap, then perform a task where their reaction time was measured. In previous experiments the mean reaction time measurement was found to be approximately normally distributed. The mean reaction times (milliseconds, ms) and standard deviations for the three groups of participants are given in the table below.\n",
    "\n",
    "$$\n",
    "\\begin{array}{c|c|c|c}\n",
    "\\textrm{Group} & \\textrm{Sample Size} & \\textrm{Mean} & \\textrm{Standard Deviation} \\\\\n",
    "\\hline \n",
    "\\textrm{Coffee+Nap} & 10 & 451.3 & 31.9 \\\\ \n",
    "\\textrm{Coffee} & 10 & 494.2 & 39.6 \\\\ \n",
    "\\textrm{Nap} & 10 & 492.8 & 45.2 \\\\ \n",
    "\\end{array}\n",
    "$$\n",
    "\n",
    "**Part A**: Compute a 95% t-confidence interval for the mean reaction time measurement for participants in each of these three groups. (You should find three separate confidence intervals.) Set up your calculations by hand, and report the results in Markdown/MathJax. Of course, you can and should use Python as a calculator.\n",
    "\n",
    "1. Can you make any conclusions regarding whether coffee, naps or both (coffee-naps) are better for faster reaction times?\n",
    "2. Why did we use a t-distribution?"
   ]
  },
  {
   "cell_type": "markdown",
   "metadata": {
    "collapsed": true
   },
   "source": [
    "$\\large CI = \\bar x \\pm t \\cdot \\frac{\\sigma}{\\sqrt{n}}$\n",
    "<br><br>\n",
    "$\\large t = 1.959963984540054$\n",
    "<br><br>\n",
    "$\\large \\text{Coffee+Nap }CI = 451.3 \\pm t \\cdot \\frac{31.9}{\\sqrt{10}}$\n",
    "<br><br>\n",
    "$\\large = [428.48011470011295, 474.1198852998871]$\n",
    "<br><br>\n",
    "$\\large \\text{Coffee }CI = 494.2 \\pm t \\cdot \\frac{39.6}{\\sqrt{10}}$\n",
    "<br><br>\n",
    "$\\large = [465.8718665242781, 522.5281334757218] $\n",
    "<br><br>\n",
    "$\\large \\text{Nap }CI = 492.8 \\pm t \\cdot \\frac{45.2}{\\sqrt{10}}$\n",
    "<br><br>\n",
    "$\\large = [460.46586785094377, 525.1341321490563] $\n",
    "\n",
    "### 1. Can you make any conclusions regarding whether coffee, naps or both (coffee-naps) are better for faster reaction times?\n",
    "We __cannot__ make any conclusions regarding whether coffee, naps or both (coffee-naps) are better for faster reaction times because the CI's are overlapping. \n",
    "\n",
    "### 2. Why did we use a t-distribution?\n",
    "We used a t-distribution because n (10) is small since it is less than 30 and thus we must use a t-distribution when n is less than 30. "
   ]
  },
  {
   "cell_type": "code",
   "execution_count": 3,
   "metadata": {},
   "outputs": [
    {
     "name": "stdout",
     "output_type": "stream",
     "text": [
      "T: 2.2621571627409915 \n",
      "\n",
      "Cofee + Nap CI = [428.48011470011295, 474.1198852998871] \n",
      "\n",
      "Cofee CI = [465.8718665242781, 522.5281334757218] \n",
      "\n",
      "Nap CI = [460.46586785094377, 525.1341321490563] \n",
      "\n"
     ]
    }
   ],
   "source": [
    "alpha = 1 - (0.95)\n",
    "T = stats.t.ppf(1-alpha/2, 9)\n",
    "print(\"T:\", T,\"\\n\")\n",
    "\n",
    "CoffeeAndNapUpper = 451.3 + T * 31.9/np.sqrt(10)\n",
    "CoffeeAndNapLower = 451.3 - T * 31.9/np.sqrt(10)\n",
    "print('Cofee + Nap CI = [' + str(CoffeeAndNapLower) + ', ' + str(CoffeeAndNapUpper) + ']', \"\\n\")\n",
    "\n",
    "CoffeeUpper = 494.2 + T * 39.6/np.sqrt(10)\n",
    "CoffeeLower = 494.2 - T * 39.6/np.sqrt(10)\n",
    "print('Cofee CI = [' + str(CoffeeLower) + ', ' + str(CoffeeUpper) + ']', \"\\n\")\n",
    "\n",
    "NapUpper = 492.8 + T * 45.2/np.sqrt(10)\n",
    "NapLower = 492.8 - T * 45.2/np.sqrt(10)\n",
    "print('Nap CI = [' + str(NapLower) + ', ' + str(NapUpper) + ']', \"\\n\")"
   ]
  },
  {
   "cell_type": "markdown",
   "metadata": {},
   "source": [
    "**Part B**: Use a **rejection region hypothesis test** to determine if there sufficient evidence, at the $\\alpha = 0.05$ significance level, to conclude that taking a nap promotes faster reaction time than drinking coffee.  Be sure to clearly explain the test that you're doing and state all hypotheses. Do all computations in Python, and report results.\n",
    "\n",
    "**Note** that the number of degrees of freedom for a two-sample t-test is $df_1 + df_2 = (n_1-1) + (n_2-1) = n_1 + n_2 - 2$ (where $n_1$ and $n_2$ are the number of data points from each of the two samples). All other mechanics are the same as the two-sample z-tests we know and love."
   ]
  },
  {
   "cell_type": "markdown",
   "metadata": {
    "collapsed": true
   },
   "source": [
    "If $\\large t_{crit} > t_s$ reject the $H_0$\n",
    "<br><br>\n",
    "If $\\large t_{crit} < t_s$  we fail to reject the $H_0$\n",
    "<br><br>\n",
    "$\\large H_0: \\text{Nap Reaction Time} - \\text{Coffee Reaction Time} = 0$\n",
    "<br><br>\n",
    "$\\large H_1: \\text{Nap Reaction Time} - \\text{Coffee Reaction Time} > 0$\n",
    "<br><br>\n",
    "$\\large c = 0$\n",
    "<br><br>\n",
    "$\\large t_s = \\frac{(\\bar x_1 - \\bar x_2) - c}{\\sqrt{\\frac{{s_1}^2}{n_1} + \\frac{{s_2}^2}{n_2}}} = \\frac{(\\bar x_1 - \\bar x_2)}{\\sqrt{\\frac{{s_1}^2}{n_1} + \\frac{{s_2}^2}{n_2}}}$\n",
    "<br><br>\n",
    "$\\large t_s = \\frac{(492.8 - 494.2)}{\\sqrt{\\frac{{45.2}^2}{10} + \\frac{{39.6}^2}{10}}}$\n",
    "<br><br>\n",
    "$\\large t_s = -0.07367196689546883$\n",
    "<br><br>\n",
    "$\\large \\text{degrees of freedom} = 18$\n",
    "<br><br>\n",
    "$\\large t_{crit} = -1.734063606617536$\n",
    "<br><br>\n",
    "$\\large t_{crit} < t_s$ \n",
    "<br>\n",
    "So we fail to reject the null hypothesis using a rejection region hypothesis test.\n",
    "<br><br>\n",
    "As a sanity check:\n",
    "<br><br>\n",
    "$\\large \\text{p-value} = 0.47104196659710473$ \n",
    "<br><br>\n",
    "$\\large \\text{p-value} > 0.05$\n",
    "<br>\n",
    "So we fail to reject the null hypothesis."
   ]
  },
  {
   "cell_type": "code",
   "execution_count": 4,
   "metadata": {},
   "outputs": [
    {
     "name": "stdout",
     "output_type": "stream",
     "text": [
      "T = -0.07367196689546883\n",
      "p-value: 0.47104196659710473\n",
      "T-crit: -1.734063606617536\n"
     ]
    }
   ],
   "source": [
    "meanDiff = 492.8 - 494.2\n",
    "SE = np.sqrt(45.2**2/10 + 39.6**2/10)\n",
    "\n",
    "T = (meanDiff)/SE\n",
    "print(\"T =\",T)\n",
    "\n",
    "print('p-value:', stats.t.cdf(T, 18))\n",
    "\n",
    "\n",
    "T_crit = stats.t.ppf(0.05, 18)\n",
    "print(\"T-crit:\",T_crit)"
   ]
  },
  {
   "cell_type": "markdown",
   "metadata": {},
   "source": [
    "**Part C**: Perform an appropriate hypothesis test (you may use either p-values or rejection region) to determine if there is sufficient evidence, at the $\\alpha = 0.05$ significance level, to conclude that taking a coffee-nap promotes faster reaction time than only drinking coffee, or only having a nap. So, there should be two separate hypothesis tests, but they are seeking to show similar results (one for coffee-nap versus coffee-only, and one for coffee-nap versus nap-only). Be sure to clearly explain the test that you're doing and state all hypotheses. Do all computations in Python, and report results."
   ]
  },
  {
   "cell_type": "markdown",
   "metadata": {},
   "source": [
    "If $\\large t_{crit} > t_s$ reject the $H_0$\n",
    "<br><br>\n",
    "If $\\large t_{crit} < t_s$  we fail to reject the $H_0$\n",
    "\n",
    "### First Test\n",
    "\n",
    "$\\large H_0: \\text{Coffee-Nap} - \\text{Coffee} = 0$\n",
    "<br><br>\n",
    "$\\large H_1: \\text{Coffee-Nap} - \\text{Coffee} > 0$\n",
    "<br><br>\n",
    "$\\large c = 0$\n",
    "<br><br>\n",
    "$\\large t_s = \\frac{(\\bar x_1 - \\bar x_2) - c}{\\sqrt{\\frac{{s_1}^2}{n_1} + \\frac{{s_2}^2}{n_2}}} = \\frac{(\\bar x_1 - \\bar x_2)}{\\sqrt{\\frac{{s_1}^2}{n_1} + \\frac{{s_2}^2}{n_2}}}$\n",
    "<br><br>\n",
    "$\\large t_s = \\frac{(451.3 - 494.2)}{\\sqrt{\\frac{{31.9}^2}{10} + \\frac{{39.6}^2}{10}}}$\n",
    "<br><br>\n",
    "$\\large t_s = -2.6678557635847664$\n",
    "<br><br>\n",
    "$\\large \\text{degrees of freedom} = 18$\n",
    "<br><br>\n",
    "$\\large t_{crit} = -1.734063606617536$\n",
    "<br><br>\n",
    "$\\large t_{crit} > t_s$ \n",
    "<br>\n",
    "So we reject the null hypothesis using a rejection region hypothesis test.\n",
    "\n",
    "### Second Test\n",
    "\n",
    "$\\large H_0: \\text{Coffee-Nap} - \\text{Nap} = 0$\n",
    "<br><br>\n",
    "$\\large H_1: \\text{Coffee-Nap} - \\text{Nap} > 0$\n",
    "<br><br>\n",
    "$\\large c = 0$\n",
    "<br><br>\n",
    "$\\large t_s = \\frac{(\\bar x_1 - \\bar x_2) - c}{\\sqrt{\\frac{{s_1}^2}{n_1} + \\frac{{s_2}^2}{n_2}}} = \\frac{(\\bar x_1 - \\bar x_2)}{\\sqrt{\\frac{{s_1}^2}{n_1} + \\frac{{s_2}^2}{n_2}}}$\n",
    "<br><br>\n",
    "$\\large t_s = \\frac{(451.3 - 492.8)}{\\sqrt{\\frac{{31.9}^2}{10} + \\frac{{45.2}^2}{10}}}$\n",
    "<br><br>\n",
    "$\\large t_s = -2.37214516432695$\n",
    "<br><br>\n",
    "$\\large \\text{degrees of freedom} = 18$\n",
    "<br><br>\n",
    "$\\large t_{crit} = -1.734063606617536$\n",
    "<br><br>\n",
    "$\\large t_{crit} > t_s$ \n",
    "<br>\n",
    "So we reject the null hypothesis using a rejection region hypothesis test."
   ]
  },
  {
   "cell_type": "code",
   "execution_count": 5,
   "metadata": {},
   "outputs": [
    {
     "name": "stdout",
     "output_type": "stream",
     "text": [
      "T_s Coffee-Nap and Coffee = -2.6678557635847664\n",
      "T-crit Coffee-Nap and Coffee: -1.734063606617536 \n",
      "\n",
      "T_s Coffee-Nap and Nap = -2.37214516432695\n",
      "T-crit Coffee-Nap and Nap: -1.734063606617536\n"
     ]
    }
   ],
   "source": [
    "meanDiffCoffee = 451.3 - 494.2\n",
    "SECoffee = np.sqrt(31.9**2/10 + 39.6**2/10)\n",
    "\n",
    "T_sCoffee = (meanDiffCoffee)/SECoffee\n",
    "print(\"T_s Coffee-Nap and Coffee =\", T_sCoffee)\n",
    "\n",
    "T_critCoffee = stats.t.ppf(0.05, 18)\n",
    "print(\"T-crit Coffee-Nap and Coffee:\", T_critCoffee, \"\\n\")\n",
    "\n",
    "meanDiffNap = 451.3 - 492.8\n",
    "SENap = np.sqrt(31.9**2/10 + 45.2**2/10)\n",
    "\n",
    "T_sNap = meanDiffNap/SENap\n",
    "print(\"T_s Coffee-Nap and Nap =\", T_sNap)\n",
    "\n",
    "T_critNap = stats.t.ppf(0.05, 18)\n",
    "print(\"T-crit Coffee-Nap and Nap:\", T_critNap)"
   ]
  },
  {
   "cell_type": "markdown",
   "metadata": {},
   "source": [
    "**Part D:** Is there sufficient evidence at the 95% confidence (5% significance) level to support claim that the reaction time after a coffee-nap is at least 20 ms faster than the reaction time after a coffee only? Fully justify your answer and show all work demonstrating this conclusion using a **p-value hypothesis test**. "
   ]
  },
  {
   "cell_type": "markdown",
   "metadata": {},
   "source": [
    "$\\large t_s = \\frac{(\\bar x_1 - \\bar x_2) - c}{\\sqrt{\\frac{{s_1}^2}{n_1} + \\frac{{s_2}^2}{n_2}}} = \\frac{(\\bar x_1 - \\bar x_2)}{\\sqrt{\\frac{{s_1}^2}{n_1} + \\frac{{s_2}^2}{n_2}}}$\n",
    "<br><br>\n",
    "$\\large t_s = \\frac{(494.2-451.3-20)}{\\sqrt{\\frac{{39.6}^2}{10} + \\frac{{31.9}^2}{10}}}$\n",
    "<br><br>\n",
    "$\\large t_s = 1.424100162845947$\n",
    "<br><br>\n",
    "$\\large p-value = 0.08576155679560282$\n",
    "<br><br>\n",
    "$\\large p-value > 0.05$  \n",
    "So we reject the null hypothesis and thus there is sufficient evidence at the 95% confidence (5% significance) level to support the claim that the reaction time after a coffee-nap is at least 20 ms faster than the reaction time after a coffee only."
   ]
  },
  {
   "cell_type": "code",
   "execution_count": 6,
   "metadata": {},
   "outputs": [
    {
     "name": "stdout",
     "output_type": "stream",
     "text": [
      "T_s Coffee-Nap and Coffee = 1.424100162845947\n",
      "p-value: 0.08576155679560282\n"
     ]
    }
   ],
   "source": [
    "meanDiffCoffee20 = 494.2 - 451.3 - 20\n",
    "SECoffee20 = np.sqrt(39.6**2/10+31.9**2/10)\n",
    "\n",
    "T_sCoffee20 = (meanDiffCoffee20)/SECoffee20\n",
    "print(\"T_s Coffee-Nap and Coffee =\", T_sCoffee20)\n",
    "print('p-value:', 1-stats.t.cdf(T_sCoffee20, 18))"
   ]
  },
  {
   "cell_type": "markdown",
   "metadata": {},
   "source": [
    "**Part E**: Compute a 95% confidence interval for the standard deviation of reaction time for coffee-nap takers. Do all computations in Python, and report the results."
   ]
  },
  {
   "cell_type": "markdown",
   "metadata": {},
   "source": [
    "$\\large CI = [\\sqrt{\\frac{(n-1)s^2}{X^2_{1-\\frac{\\alpha}{2}}}}, \\sqrt{\\frac{(n-1)s^2}{X^2_{\\frac{\\alpha}{2}}}}]$\n",
    "<br><br>\n",
    "$\\large n = 10$\n",
    "<br><br>\n",
    "$\\large s = 31.9$\n",
    "<br><br>\n",
    "My 95% confidence interval for the standard deviation of reaction time for coffee-nap takers is $[21.94194309529309, 58.236964822374404].$"
   ]
  },
  {
   "cell_type": "code",
   "execution_count": 7,
   "metadata": {},
   "outputs": [
    {
     "name": "stdout",
     "output_type": "stream",
     "text": [
      "CI = [21.94194309529309, 58.236964822374404]\n"
     ]
    }
   ],
   "source": [
    "n = 10\n",
    "var = 31.9**2\n",
    "alpha = 1 - (0.95)\n",
    "upCoffeeNapLim = np.sqrt(((n-1)*var)/stats.chi2.ppf((alpha/2), (n-1)))\n",
    "lowCoffeeNapLim = np.sqrt(((n-1)*var)/stats.chi2.ppf(1 - (alpha/2), (n-1)))\n",
    "print('CI = [' + str(lowCoffeeNapLim) + ', ' + str(upCoffeeNapLim) + ']')"
   ]
  },
  {
   "cell_type": "markdown",
   "metadata": {},
   "source": [
    "<br>\n",
    "\n",
    "---\n",
    "[Back to top](#top)\n",
    "<a id='p3'></a>\n",
    "\n",
    "### [40 points] Problem 3 - Simple Linear Regression for Science!\n",
    "\n",
    "From [Google Trends](https://trends.google.com/trends/?geo=US) data, it appears that interest in \"science\" in the United States has been waning since about 2004. Interest is measured relative to the maximum rate of Google searches for that term over the time period (so the maximum is 100). \n",
    "\n",
    "**Part A:** Load up the data in `science_interest.csv` into a Pandas DataFrame. Create two new columns:\n",
    "* `year` should be the year associated with that data point, and\n",
    "* `month` should be the month (1-12) associated with that data point.\n",
    "\n",
    "Then, make a **scatter plot** (using `pyplot.scatter`) of all of the data points, showing how interest in \"science\" has evolved over time. Label only the data point associated with January of each even year, and label with the year (and of course be sure to label your axes)."
   ]
  },
  {
   "cell_type": "code",
   "execution_count": 8,
   "metadata": {},
   "outputs": [
    {
     "data": {
      "image/png": "[encoded data removed]",
      "text/plain": [
       "<Figure size 720x360 with 1 Axes>"
      ]
     },
     "metadata": {
      "needs_background": "light"
     },
     "output_type": "display_data"
    }
   ],
   "source": [
    "df = pd.read_csv(\"science_interest.csv\", header = 1)\n",
    "\n",
    "years =[]\n",
    "months = []\n",
    "\n",
    "for i in range(len(df)):\n",
    "    years.append(int(df['Month'][i][:4]))\n",
    "    months.append(int(df['Month'][i][-2:]))\n",
    "    \n",
    "df['year'] = years\n",
    "df['month'] = months\n",
    "df.rename(columns={'science: (United States)': 'science_interest'}, inplace=True)\n",
    "\n",
    "fig, ax = plt.subplots(figsize=(10,5))\n",
    "\n",
    "sample = df.index[(df['month'] == 1) & (df['year'] % 2 == 0)]\n",
    "\n",
    "plt.scatter(df['Month'], df['science_interest'])\n",
    "ax.set_xticks(sample)\n",
    "ax.set_xticklabels(df.loc[sample, 'year'])\n",
    "\n",
    "ax.set_xlabel(\"Year\", fontsize = 15, labelpad = 20)\n",
    "ax.set_ylabel(\"Interest in Science\", fontsize = 15)\n",
    "ax.set_title(\"Evolution in Interest of Science\", fontsize = 15)\n",
    "\n",
    "plt.show()"
   ]
  },
  {
   "cell_type": "markdown",
   "metadata": {},
   "source": [
    "**Part B:** These data (and the sea-level data from Homework 4) are a **time series**, where the independent variable is *time* and the dependent quantity is interest in science. One of the central assumptions of linear regression is that the data are observations generated by some process, independently of one another. With time series data, we need to be careful because there could be some other process affecting the output data. In particular, **annual cycles** are patterns that reoccur each year and are frequently present in time series data. For example, seasonal patterns of weather are annual cycles.\n",
    "\n",
    "To see what kind of effect time has, make a **line plot** (using `pyplot.plot`) of the interest in science, as a function of time. Again, include all of the data points and, for the x-axis, label only the tick marks associated with January of even years, and be sure to label your axes."
   ]
  },
  {
   "cell_type": "code",
   "execution_count": 9,
   "metadata": {},
   "outputs": [
    {
     "data": {
      "image/png": "[encoded data removed]",
      "text/plain": [
       "<Figure size 720x360 with 1 Axes>"
      ]
     },
     "metadata": {
      "needs_background": "light"
     },
     "output_type": "display_data"
    }
   ],
   "source": [
    "fig, ax = plt.subplots(figsize=(10,5))\n",
    "\n",
    "plt.plot(df['Month'], df['science_interest'])\n",
    "ax.set_xticks(sample)\n",
    "ax.set_xticklabels(df.loc[sample, 'year'])\n",
    "\n",
    "ax.set_xlabel(\"Year\", fontsize = 15, labelpad = 20)\n",
    "ax.set_ylabel(\"Interest in Science\", fontsize = 15)\n",
    "ax.set_title(\"Evolution in Interest of Science\", fontsize = 15)\n",
    "plt.show()"
   ]
  },
  {
   "cell_type": "markdown",
   "metadata": {},
   "source": [
    "**Part C:** Does your plot from Part B suggest that there is some annual cycle to the interest in science? During which months is interest in science highest? What about lowest? Justify your answers using your plot, **and** by computing the mean interest in science for each month. So, compute 12 values and report them in a table. Do **not** just spit out a horizontal list of 12 numbers. That would be yucky to try to read, and we're scientists, dammit.\n",
    "\n",
    "What do you think accounts for the drop(s) in interest in science during those month(s)? Recall that these data are from the United States."
   ]
  },
  {
   "cell_type": "markdown",
   "metadata": {},
   "source": [
    "### Does your plot from Part B suggest that there is some annual cycle to the interest in science? During which months is interest in science highest? What about lowest?\n",
    "My plot from Part B does suggest that there is some annual cycle to the interest in science. It seems to be highest at the beginning of each year and lowest towards the middle of the year, which is a annual cycle. There seems to also be two drops during each year in interest.  \n",
    "\n",
    "### Justify your answers using your plot\n",
    "From my plot alone, I would say that the highest interest is in January since it is the beginning of the year and the lowest interest is in June because it is the middle of the year. \n",
    "\n",
    "### Justify your answers by computing the mean interest in science for each month.\n",
    "By computing the mean interest in science for each month, we find that the highest interest is in January and the lowest interest is in July. \n",
    "\n",
    "### What do you think accounts for the drop(s) in interest in science during those month(s)\n",
    "I think that we can account for these drops in interest in science interest due to the breaks that we have in school in the United States. The first drop I believe is the summer break and the second break is the winter break. "
   ]
  },
  {
   "cell_type": "code",
   "execution_count": 10,
   "metadata": {},
   "outputs": [
    {
     "name": "stdout",
     "output_type": "stream",
     "text": [
      "           Mean Science Interest\n",
      "January                60.937500\n",
      "February               58.562500\n",
      "March                  55.812500\n",
      "April                  55.133333\n",
      "May                    49.733333\n",
      "June                   39.533333\n",
      "July                   36.200000\n",
      "August                 45.466667\n",
      "September              59.133333\n",
      "October                56.533333\n",
      "November               54.000000\n",
      "December               46.933333\n"
     ]
    }
   ],
   "source": [
    "months = df['month'].unique()\n",
    "\n",
    "mean_interest = []\n",
    "for month in months:\n",
    "    mean_interest.append(df.loc[df['month'] == month, 'science_interest'].mean())\n",
    "    \n",
    "table = pd.DataFrame(data = mean_interest, columns = ['Mean Science Interest'], \n",
    "                     index = ['January', 'February', 'March', 'April', 'May', 'June', 'July'\n",
    "                             ,'August', 'September', 'October', 'November', 'December'])\n",
    "print(table)"
   ]
  },
  {
   "cell_type": "markdown",
   "metadata": {},
   "source": [
    "**Part D:** (Spoiler alert!) Since there seems to be an annual cycle, one of the fundamental assumptions of our simple linear regression model is not satisfied. Namely, it is not the case that the model-data residuals, $\\epsilon_i$, are independent of one another.\n",
    "\n",
    "So, we need to process our data a bit further before fitting a regression model. One way to address this is to take the mean of all the data each year and use for analysis the time series of annual mean interest in science. Create a new Pandas DataFrame that consists only of two columns:\n",
    "* `year`, and\n",
    "* `interest`, the mean interest in science from the twelve months in that year."
   ]
  },
  {
   "cell_type": "code",
   "execution_count": 11,
   "metadata": {},
   "outputs": [
    {
     "data": {
      "text/html": [
       "<div>\n",
       "<style scoped>\n",
       "    .dataframe tbody tr th:only-of-type {\n",
       "        vertical-align: middle;\n",
       "    }\n",
       "\n",
       "    .dataframe tbody tr th {\n",
       "        vertical-align: top;\n",
       "    }\n",
       "\n",
       "    .dataframe thead th {\n",
       "        text-align: right;\n",
       "    }\n",
       "</style>\n",
       "<table border=\"1\" class=\"dataframe\">\n",
       "  <thead>\n",
       "    <tr style=\"text-align: right;\">\n",
       "      <th></th>\n",
       "      <th>year</th>\n",
       "      <th>interest</th>\n",
       "    </tr>\n",
       "  </thead>\n",
       "  <tbody>\n",
       "    <tr>\n",
       "      <th>0</th>\n",
       "      <td>2004</td>\n",
       "      <td>77.333333</td>\n",
       "    </tr>\n",
       "    <tr>\n",
       "      <th>1</th>\n",
       "      <td>2005</td>\n",
       "      <td>70.250000</td>\n",
       "    </tr>\n",
       "    <tr>\n",
       "      <th>2</th>\n",
       "      <td>2006</td>\n",
       "      <td>63.416667</td>\n",
       "    </tr>\n",
       "    <tr>\n",
       "      <th>3</th>\n",
       "      <td>2007</td>\n",
       "      <td>58.750000</td>\n",
       "    </tr>\n",
       "    <tr>\n",
       "      <th>4</th>\n",
       "      <td>2008</td>\n",
       "      <td>54.166667</td>\n",
       "    </tr>\n",
       "    <tr>\n",
       "      <th>5</th>\n",
       "      <td>2009</td>\n",
       "      <td>52.166667</td>\n",
       "    </tr>\n",
       "    <tr>\n",
       "      <th>6</th>\n",
       "      <td>2010</td>\n",
       "      <td>47.333333</td>\n",
       "    </tr>\n",
       "    <tr>\n",
       "      <th>7</th>\n",
       "      <td>2011</td>\n",
       "      <td>47.333333</td>\n",
       "    </tr>\n",
       "    <tr>\n",
       "      <th>8</th>\n",
       "      <td>2012</td>\n",
       "      <td>44.666667</td>\n",
       "    </tr>\n",
       "    <tr>\n",
       "      <th>9</th>\n",
       "      <td>2013</td>\n",
       "      <td>44.250000</td>\n",
       "    </tr>\n",
       "    <tr>\n",
       "      <th>10</th>\n",
       "      <td>2014</td>\n",
       "      <td>45.583333</td>\n",
       "    </tr>\n",
       "    <tr>\n",
       "      <th>11</th>\n",
       "      <td>2015</td>\n",
       "      <td>45.750000</td>\n",
       "    </tr>\n",
       "    <tr>\n",
       "      <th>12</th>\n",
       "      <td>2016</td>\n",
       "      <td>42.000000</td>\n",
       "    </tr>\n",
       "    <tr>\n",
       "      <th>13</th>\n",
       "      <td>2017</td>\n",
       "      <td>43.166667</td>\n",
       "    </tr>\n",
       "    <tr>\n",
       "      <th>14</th>\n",
       "      <td>2018</td>\n",
       "      <td>40.083333</td>\n",
       "    </tr>\n",
       "    <tr>\n",
       "      <th>15</th>\n",
       "      <td>2019</td>\n",
       "      <td>43.333333</td>\n",
       "    </tr>\n",
       "  </tbody>\n",
       "</table>\n",
       "</div>"
      ],
      "text/plain": [
       "    year   interest\n",
       "0   2004  77.333333\n",
       "1   2005  70.250000\n",
       "2   2006  63.416667\n",
       "3   2007  58.750000\n",
       "4   2008  54.166667\n",
       "5   2009  52.166667\n",
       "6   2010  47.333333\n",
       "7   2011  47.333333\n",
       "8   2012  44.666667\n",
       "9   2013  44.250000\n",
       "10  2014  45.583333\n",
       "11  2015  45.750000\n",
       "12  2016  42.000000\n",
       "13  2017  43.166667\n",
       "14  2018  40.083333\n",
       "15  2019  43.333333"
      ]
     },
     "execution_count": 11,
     "metadata": {},
     "output_type": "execute_result"
    }
   ],
   "source": [
    "years = df['year'].unique()\n",
    "\n",
    "interest = []\n",
    "for year in years:\n",
    "    interest.append(df.loc[(df['year'] == year),'science_interest'].mean())\n",
    "\n",
    "newDF = pd.DataFrame({'year': years, 'interest': interest})\n",
    "\n",
    "newDF"
   ]
  },
  {
   "cell_type": "markdown",
   "metadata": {},
   "source": [
    "**Part E:** Perform a simple linear regression with `year` as the feature and `interest` as the response (mean annual interest in science).  Report the estimated regression model in the form $Y = \\alpha + \\beta x$. Do all computations in Python. \n",
    "\n",
    "Then make a scatter plot of the mean annual interest in science as a function of year, and overlay the estimated regression line. Label your axes and provide a legend."
   ]
  },
  {
   "cell_type": "code",
   "execution_count": 12,
   "metadata": {},
   "outputs": [
    {
     "name": "stdout",
     "output_type": "stream",
     "text": [
      "Estimated regression model: Y = 4131.6601715686265 + -2.0285539215686272x\n"
     ]
    },
    {
     "data": {
      "image/png": "[encoded data removed]",
      "text/plain": [
       "<Figure size 720x360 with 1 Axes>"
      ]
     },
     "metadata": {
      "needs_background": "light"
     },
     "output_type": "display_data"
    }
   ],
   "source": [
    "slope, intercept, rvalue, pvalue, stderr = stats.linregress(x = newDF['year'], y = newDF['interest'])\n",
    "print('Estimated regression model: Y = ' + str(intercept) + ' + ' + str(slope) + 'x')\n",
    "\n",
    "fig, ax = plt.subplots(figsize=(10,5))\n",
    "\n",
    "plt.scatter(years, interest, label = \"Mean Annual Interest\")\n",
    "plt.plot(years, intercept + slope * years, label = \"Estimated Regression Line\")\n",
    "\n",
    "plt.ylim(top = 100, bottom = 0)\n",
    "\n",
    "plt.legend(fontsize = 13)\n",
    "ax.set_xlabel(\"Year\", fontsize = 15)\n",
    "ax.set_ylabel(\"Mean Interest in Science\", fontsize = 15)\n",
    "ax.set_title(\"Evolution in Interest of Science with Regression Line\", fontsize = 15)\n",
    "\n",
    "plt.show()"
   ]
  },
  {
   "cell_type": "markdown",
   "metadata": {},
   "source": [
    "**Part F**: Give a physical interpretation of the coefficient $\\hat{\\beta}$, estimated from your model. Include addressing whether the relationship between time and interest in science is positive or negative. Fully justify your responses."
   ]
  },
  {
   "cell_type": "markdown",
   "metadata": {},
   "source": [
    "The coefficient $\\hat{\\beta}$ is the slope and thus is interpretated as the change in rate of the interest in science every year. The relationship between time and interest in science is negative. We can see this because the linear regression goes downward, not upward. From the python code below, we can also see that it is negative. "
   ]
  },
  {
   "cell_type": "code",
   "execution_count": 13,
   "metadata": {},
   "outputs": [
    {
     "name": "stdout",
     "output_type": "stream",
     "text": [
      "Slope: -2.0285539215686272\n"
     ]
    }
   ],
   "source": [
    "print(\"Slope:\", slope)"
   ]
  },
  {
   "cell_type": "markdown",
   "metadata": {},
   "source": [
    "**Part G**: What interest in science does your simple linear regression model predict in the year 2030? What about in 2050? What are potential drawbacks to this model for interest in science?"
   ]
  },
  {
   "cell_type": "code",
   "execution_count": 14,
   "metadata": {},
   "outputs": [
    {
     "name": "stdout",
     "output_type": "stream",
     "text": [
      "Simple linear regression model prediction for the year 2030: 13.695710784313633\n",
      "Simple linear regression model prediction for the year 2050: -26.875367647059647\n"
     ]
    }
   ],
   "source": [
    "prediction2030 = intercept + slope * 2030\n",
    "prediction2050 = intercept + slope * 2050\n",
    "print(\"Simple linear regression model prediction for the year 2030:\", prediction2030)\n",
    "print(\"Simple linear regression model prediction for the year 2050:\", prediction2050)"
   ]
  },
  {
   "cell_type": "markdown",
   "metadata": {},
   "source": [
    "### What are potential drawbacks to this model for interest in science?\n",
    "\n",
    "The potential drawback to this model for interest in science is that it predicts that interest in science will become negative, which does not make sense. Interest is science should either be 0 or positive and not negative. "
   ]
  },
  {
   "cell_type": "markdown",
   "metadata": {},
   "source": [
    "**Part H:** Compute a 66% confidence interval for the slope parameter, $\\beta$, ***by hand***. This means performing all calculations yourself in Python, as opposed to calling a simple Python function that gives you the result. Why is this a confidence interval for $\\beta$ and not for $\\hat{\\beta}$?"
   ]
  },
  {
   "cell_type": "markdown",
   "metadata": {},
   "source": [
    "### Why is this a confidence interval for  𝛽  and not for  𝛽̂\n",
    "\n",
    "We do this for $\\beta$ and not for $\\hat{\\beta}$ hat because $\\hat{\\beta}$ has no uncertaintity, we cannot do a CI for it. \n",
    "<br><br>\n",
    "$\\large CI = \\hat{\\beta} \\pm t_{\\frac{\\alpha}{2},\\ n-2} \\cdot SE(\\hat \\beta)$\n",
    "<br><br>\n",
    "$\\large n = 16$\n",
    "<br><br>\n",
    "$\\large \\hat \\beta = \\frac{\\sum_{i=1}^{n} (x_i - \\bar x)(y_i - \\bar y)}{\\sum_{i=1}^{n} (x_i - \\bar x)^2} = -2.0285539215686272$\n",
    "<br><br>\n",
    "$\\large t_{\\frac{\\alpha}{2},\\ n-2} = 0.9878340476382013$\n",
    "<br><br>\n",
    "$\\large SSE = \\sum_i^n (y_i -(\\alpha + \\beta \\cdot x_i))^2 = 379.49666053921896$\n",
    "<br><br>\n",
    "$\\large \\hat \\sigma = \\sqrt{\\frac{SSE}{n-2}} = 5.20642913369902$\n",
    "<br><br>\n",
    "$\\large SE(\\hat \\beta) = \\frac{\\hat \\sigma}{\\sqrt{\\sum_i^n (x_i - \\bar x)^2}} = \\frac{5.20642913369902}{18.439088914585774} = 0.28235826389342944$\n",
    "<br><br>\n",
    "$\\large \\text{Upper Limit} = -2.0285539215686272 + 0.9878340476382013 \\cdot 0.28235826389342944$\n",
    "<br><br>\n",
    "$\\large = -1.7496308148626856$\n",
    "<br><br>\n",
    "$\\large \\text{Lower Limit} = -2.0285539215686272 - 0.9878340476382013 \\cdot 0.28235826389342944$\n",
    "<br><br>\n",
    "$\\large = -2.307477028274569$\n",
    "<br><br>\n",
    "$\\large CI = [-2.307477028274569, \\ -1.7496308148626856]$\n",
    "<br><br>\n",
    "My 66% confidence interval for the slope parameter, $\\beta$ is $[-2.307477028274569, \\ -1.7496308148626856]$."
   ]
  },
  {
   "cell_type": "code",
   "execution_count": 15,
   "metadata": {},
   "outputs": [
    {
     "name": "stdout",
     "output_type": "stream",
     "text": [
      "n: 16\n",
      "My calculated beta: -2.0285539215686272\n",
      "Beta from stats.linregress for comparison: -2.0285539215686272\n",
      "My calculated alpha: 4131.6601715686265\n",
      "Beta from stats.linregress for comparison: 4131.6601715686265\n",
      "t: 0.9878340476382013\n",
      "SSE: 379.49666053921896\n",
      "Sigma hat: 5.20642913369902\n",
      "SE denominator: 18.439088914585774\n",
      "My calculated SE: 0.28235826389342944\n",
      "SE from stats.linregress for comparison: 0.2823582638934282 \n",
      "\n",
      "CI = [-2.307477028274569, -1.7496308148626856]\n"
     ]
    }
   ],
   "source": [
    "n = len(newDF['interest'])\n",
    "print(\"n:\", n)\n",
    "x_bar = newDF['year'].mean()\n",
    "y_bar = newDF['interest'].mean()\n",
    "\n",
    "numerator = 0\n",
    "denominator = 0\n",
    "y_i = newDF['interest']\n",
    "x_i = newDF['year']\n",
    "for i in range(n): \n",
    "        numerator += (x_i[i] - x_bar) * (y_i[i] - y_bar)\n",
    "        denominator += (x_i[i] - x_bar)**2\n",
    "beta = numerator/denominator\n",
    "    \n",
    "print(\"My calculated beta:\", beta)\n",
    "print(\"Beta from stats.linregress for comparison:\", slope)\n",
    "\n",
    "alphaInter = y_bar - (beta*x_bar)\n",
    "print(\"My calculated alpha:\", alphaInter)\n",
    "print(\"Beta from stats.linregress for comparison:\", intercept)\n",
    "\n",
    "alpha = 1 - (0.66)\n",
    "t = stats.t.ppf(1-alpha/2, n-2)\n",
    "print(\"t:\", t)\n",
    "\n",
    "SSE = 0 \n",
    "y = alphaInter + beta * years\n",
    "SE_denom = 0\n",
    "\n",
    "for i in range(n):\n",
    "    SSE += (y_i[i] - y[i])**2\n",
    "    SE_denom += (years[i] - x_bar)**2\n",
    "SE_denom = np.sqrt(SE_denom)\n",
    "\n",
    "print(\"SSE:\", SSE)\n",
    "\n",
    "sigma_hat = np.sqrt(SSE/(n-2))\n",
    "print(\"Sigma hat:\", sigma_hat)\n",
    "\n",
    "print(\"SE denominator:\", SE_denom)\n",
    "SE = sigma_hat/SE_denom\n",
    "print(\"My calculated SE:\", SE)\n",
    "print(\"SE from stats.linregress for comparison:\", stderr, \"\\n\")\n",
    "\n",
    "slopeCIUpperLim = beta + t * SE\n",
    "slopeCILowerLim = beta - t * SE\n",
    "\n",
    "print('CI = [' + str(slopeCILowerLim) + ', ' + str(slopeCIUpperLim) + ']')"
   ]
  },
  {
   "cell_type": "markdown",
   "metadata": {
    "collapsed": true
   },
   "source": [
    "**Part I:** What proportion of the variation in mean annual interest in science is explained by your linear regression model?"
   ]
  },
  {
   "cell_type": "markdown",
   "metadata": {},
   "source": [
    "## The proportion of the variation in mean annual interest in science that is explained by my linear regression model is 0.7866326755553371. "
   ]
  },
  {
   "cell_type": "code",
   "execution_count": 16,
   "metadata": {},
   "outputs": [
    {
     "name": "stdout",
     "output_type": "stream",
     "text": [
      "0.7866326755553371\n"
     ]
    }
   ],
   "source": [
    "rvaluesquare = rvalue**2\n",
    "print(rvaluesquare)"
   ]
  },
  {
   "cell_type": "markdown",
   "metadata": {},
   "source": [
    "**Part J:** Make a scatter plot of the residuals from this simple linear regression model, relative to the annual mean interest data (and be sure to label your axes). Make a conjecture about what kind of additional feature, also based on `year`, should be added to improve the fit of the model. Note that this new model with have your new feature _and_ `year`, making it a _multiple linear regression_ model."
   ]
  },
  {
   "cell_type": "code",
   "execution_count": 17,
   "metadata": {},
   "outputs": [
    {
     "data": {
      "image/png": "[encoded data removed]",
      "text/plain": [
       "<Figure size 720x360 with 1 Axes>"
      ]
     },
     "metadata": {
      "needs_background": "light"
     },
     "output_type": "display_data"
    }
   ],
   "source": [
    "r = newDF['interest'] - (intercept + slope * newDF['year']) \n",
    "\n",
    "fig, ax = plt.subplots(figsize=(10,5))\n",
    "plt.scatter(newDF['year'], r)\n",
    "plt.xlabel(\"Year\", fontsize = 15)\n",
    "plt.ylabel(\"Residuals\", fontsize = 15)\n",
    "plt.title(\"Residuals Relative to the Annual Mean Interest\", fontsize = 15)\n",
    "plt.show()"
   ]
  },
  {
   "cell_type": "markdown",
   "metadata": {},
   "source": [
    "## Make a conjecture about what kind of additional feature, also based on year, should be added to improve the fit of the model.\n",
    "The plot appears to be quadratic and adding an $x^2$ feature ($\\text{year}^2$) should improve the fit of the model. "
   ]
  },
  {
   "cell_type": "code",
   "execution_count": 18,
   "metadata": {},
   "outputs": [
    {
     "name": "stdout",
     "output_type": "stream",
     "text": [
      "R-squared after adding years squared feature (MLR): 0.9690254121657699\n"
     ]
    }
   ],
   "source": [
    "import statsmodels.api as sm \n",
    "\n",
    "newestDF = newDF.copy()\n",
    "newestDF['year_squared'] = newDF['year']**2\n",
    "\n",
    "X = newestDF[['year', 'year_squared']]\n",
    "X = sm.add_constant(X)\n",
    "\n",
    "y = newestDF['interest']\n",
    "\n",
    "model = sm.OLS(y,X).fit()\n",
    "print(\"R-squared after adding years squared feature (MLR):\", model.rsquared)"
   ]
  },
  {
   "cell_type": "markdown",
   "metadata": {},
   "source": [
    "## $R^2$ before adding an $x^2$ feature $(\\text{year}^2)$ is 0.7866326755553371. \n",
    "\n",
    "## After adding an $x^2$ feature $(\\text{year}^2)$, $R^2$ is 0.9690254121657699. Since $R^2$ is higher, the fit of the model is improved. "
   ]
  },
  {
   "cell_type": "markdown",
   "metadata": {},
   "source": [
    "<br>\n",
    "\n",
    "---\n",
    "[Back to top](#top)\n",
    "<a id='p4'></a>\n",
    "\n",
    "### [20 points] Problem 4 - Choose-Your-Own Simple Linear Regression Adventure\n",
    "\n",
    "The interest in science data from the previous problem was from [Google Trends](https://trends.google.com/trends/?geo=US). From that main page, you can enter a particular search term and view the interest in that term over time. By default, the data displayed will be weekly data for the past year. You can ask for different time periods or regions as well (my link above defaults to the United States).\n",
    "\n",
    "**Part A:** Download data from Google Trends for a search term, region and time period of your choice. (Alternatively, you can also use data from whatever source you would like, as long as it is a time series.) Then:\n",
    "* clearly state what your search term, region and time period are (or fully describe your other data set),\n",
    "* load your data as a Pandas DataFrame, and\n",
    "* make a plot of the data over the entire time frame. Be sure to label your axes clearly.\n",
    "\n",
    "**NOTE:** be sure to **leave your plot cell executed** because you are not asked to host the data or provide the data set with the homework submission. If your plot is not readily visible when we open your notebook for grading, then you can earn a maximum of 10 points for this problem. "
   ]
  },
  {
   "cell_type": "markdown",
   "metadata": {},
   "source": [
    "## Clearly state what your search term, region and time period are as follows: \n",
    "- My search term was 'New York'.\n",
    "- My region is the United States.\n",
    "- My time period is 2004-2019. "
   ]
  },
  {
   "cell_type": "code",
   "execution_count": 19,
   "metadata": {},
   "outputs": [
    {
     "data": {
      "image/png": "[encoded data removed]",
      "text/plain": [
       "<Figure size 720x360 with 1 Axes>"
      ]
     },
     "metadata": {
      "needs_background": "light"
     },
     "output_type": "display_data"
    }
   ],
   "source": [
    "NYdf = pd.read_csv(\"NewYork_interest.csv\", header = 1)\n",
    "NYyears =[]\n",
    "NYmonths = []\n",
    "for i in range(len(NYdf)):\n",
    "    NYyears.append(int(NYdf['Month'][i][:4]))\n",
    "    NYmonths.append(int(NYdf['Month'][i][-2:]))\n",
    "NYdf['year'] = NYyears\n",
    "NYdf['month'] = NYmonths\n",
    "NYdf.rename(columns={'New York: (United States)': 'NewYork_interest'}, inplace=True)\n",
    "\n",
    "fig, ax = plt.subplots(figsize=(10,5))\n",
    "\n",
    "sample = NYdf.index[(NYdf['month'] == 1) & (NYdf['year'] % 2 == 0)]\n",
    "\n",
    "plt.scatter(NYdf['Month'], NYdf['NewYork_interest'])\n",
    "ax.set_xticks(sample)\n",
    "ax.set_xticklabels(NYdf.loc[sample, 'year'])\n",
    "\n",
    "ax.set_xlabel(\"Year\", fontsize = 15, labelpad = 20)\n",
    "ax.set_ylabel(\"Interest in New York\", fontsize = 15)\n",
    "ax.set_title(\"Evolution in Interest of New York\", fontsize = 15)\n",
    "\n",
    "plt.show()"
   ]
  },
  {
   "cell_type": "markdown",
   "metadata": {},
   "source": [
    "**Part B:** Based on your figure from Part A, formulate a hypothesis regarding whether or not a statistically significant linear trend exists. Clearly state your null and alternative hypotheses, and the level of significance you will use for this hypothesis test. If you have reason to believe some kind of a trend that is *not linear* exists, say so."
   ]
  },
  {
   "cell_type": "markdown",
   "metadata": {},
   "source": [
    "I will use:\n",
    "<br><br>\n",
    "$\\large H_0: \\hat \\beta = 0$ \n",
    "<br><br>\n",
    "$\\large H_1: \\hat \\beta \\neq 0$\n",
    "<br><br>\n",
    "$\\large \\alpha = 0.05$\n",
    "<br><br>\n",
    "I have ___no___ reason to believe some kind of a trend that is not linear exists. "
   ]
  },
  {
   "cell_type": "markdown",
   "metadata": {},
   "source": [
    "**Part C:** Perform any processing that you need to do in order to satisfy the assumptions of the simple linear regression model. If you do not do any processing, then explain why you believe your data set already satisfies these assumptions (and clearly state the assumptions)."
   ]
  },
  {
   "cell_type": "markdown",
   "metadata": {},
   "source": [
    "One of the central assumptions of linear regression is that the data are observations generated by some process, independently of one another. With time series data, we need to be careful because there could be some other process affecting the output data. In particular, annual cycles are patterns that reoccur each year and are frequently present in time series data. I have made a line plot below to show that there are annual cycles. \n",
    "<br><br>\n",
    "I have also assumed that the data is normally distributed. "
   ]
  },
  {
   "cell_type": "code",
   "execution_count": 20,
   "metadata": {},
   "outputs": [
    {
     "data": {
      "image/png": "[encoded data removed]",
      "text/plain": [
       "<Figure size 720x360 with 1 Axes>"
      ]
     },
     "metadata": {
      "needs_background": "light"
     },
     "output_type": "display_data"
    }
   ],
   "source": [
    "fig, ax = plt.subplots(figsize=(10,5))\n",
    "\n",
    "plt.plot(NYdf['Month'], NYdf['NewYork_interest'])\n",
    "ax.set_xticks(sample)\n",
    "ax.set_xticklabels(NYdf.loc[sample, 'year'])\n",
    "\n",
    "ax.set_xlabel(\"Year\", fontsize = 15, labelpad = 20)\n",
    "ax.set_ylabel(\"Interest in New York\", fontsize = 15)\n",
    "ax.set_title(\"Evolution in Interest of New york\", fontsize = 15)\n",
    "plt.show()\n",
    "\n",
    "## Need to process our data a bit further before fitting a regression model\n",
    "## One way to address this is to take the mean of all the data each year \n",
    "NYyears = NYdf['year'].unique()\n",
    "\n",
    "NYinterest = []\n",
    "for NYyear in NYyears:\n",
    "    NYinterest.append(NYdf.loc[(NYdf['year'] == NYyear),'NewYork_interest'].mean())\n",
    "\n",
    "newNYDF = pd.DataFrame({'year': NYyears, 'interest': NYinterest})"
   ]
  },
  {
   "cell_type": "markdown",
   "metadata": {},
   "source": [
    "**Part D:** Compute **by hand** the p-value associated with the hypothesis test from Part B. Clearly state your conclusion. You may use `scipy.stats.linregress` to check your answer, and you may use Python as a calculator (and to get critical values, for example), but you need to show all your work by hand."
   ]
  },
  {
   "cell_type": "markdown",
   "metadata": {},
   "source": [
    "$\\large t_s = \\frac{\\hat \\beta - c}{SE(\\hat \\beta)}$ \n",
    "<br><br>\n",
    "$\\large c = 0$\n",
    "<br><br>\n",
    "$\\large \\hat \\beta = -3.6906862745098037$ \n",
    "<br><br>\n",
    "$\\large SSE = \\sum_i^n (y_i -(\\alpha + \\beta \\cdot x_i))^2 = 667.1927287581815$\n",
    "<br><br>\n",
    "$\\large \\hat \\sigma = \\sqrt{\\frac{SSE}{n-2}} = 6.903377686518915$\n",
    "<br><br>\n",
    "$\\large SE(\\hat \\beta) = \\frac{\\hat \\sigma}{\\sqrt{\\sum_i^n (x_i - \\bar x)^2}} = \\frac{6.903377686518915}{18.439088914585774} = 0.374388220507911$\n",
    "<br><br>\n",
    "So: \n",
    "<br><br>\n",
    "$\\large t_s = \\frac{-3.6906862745098037}{0.374388220507911} = -9.857912381705978$\n",
    "<br><br>\n",
    "$\\large p-value = 0.00000011149832149183$\n",
    "<br><br>\n",
    "$\\large p-value < 0.05$\n",
    "<br>\n",
    "\n",
    "## So we reject the null hypothesis which is that a statistically significant linear trend _does not_ exist. "
   ]
  },
  {
   "cell_type": "code",
   "execution_count": 21,
   "metadata": {},
   "outputs": [
    {
     "name": "stdout",
     "output_type": "stream",
     "text": [
      "n: 16\n",
      "My calculated beta: -3.6906862745098037\n",
      "Beta from stats.linregress for comparison: -3.6906862745098046\n",
      "My calculated alpha: 7480.81544117647\n",
      "Beta from stats.linregress for comparison: 7480.815441176472\n",
      "SSE: 667.1927287581815\n",
      "Sigma hat: 6.903377686518915\n",
      "SE denominator: 18.439088914585774\n",
      "My calculated SE: 0.374388220507911\n",
      "SE from stats.linregress for comparison: 0.37438822050790743\n",
      "Test statistic: -9.857912381705978 \n",
      "\n",
      "My calculated p-value: 0.00000011149832149183\n",
      "P-value from scipy.stats.linregress for comparison: 0.00000011149832149182\n"
     ]
    }
   ],
   "source": [
    "## For comparison \n",
    "NYslope, NYinter, NYrvalue, NYpvalue, NYstderr = stats.linregress(x = newNYDF['year'], y = newNYDF['interest'])\n",
    "\n",
    "## Calculate slope(beta)\n",
    "NYn = len(newNYDF['interest'])\n",
    "print(\"n:\", NYn)\n",
    "NYx_bar = newNYDF['year'].mean()\n",
    "NYy_bar = newNYDF['interest'].mean()\n",
    "\n",
    "NYnumerator = 0\n",
    "NYdenominator = 0\n",
    "NYy_i = newNYDF['interest']\n",
    "NYx_i = newNYDF['year']\n",
    "for i in range(n): \n",
    "        NYnumerator += (NYx_i[i] - NYx_bar) * (NYy_i[i] - NYy_bar)\n",
    "        NYdenominator += (NYx_i[i] - NYx_bar)**2\n",
    "NYbeta = NYnumerator/NYdenominator\n",
    "    \n",
    "print(\"My calculated beta:\", NYbeta)\n",
    "print(\"Beta from stats.linregress for comparison:\", NYslope)\n",
    "\n",
    "## Calculate intercept(alpha)\n",
    "NYalpha = NYy_bar - (NYbeta*NYx_bar)\n",
    "print(\"My calculated alpha:\", NYalpha)\n",
    "print(\"Beta from stats.linregress for comparison:\", NYinter)\n",
    "\n",
    "## Calculate SSE\n",
    "NYSSE = 0 \n",
    "NY_y = NYalpha + NYbeta * NYx_i\n",
    "NYSE_denom = 0\n",
    "\n",
    "for i in range(NYn):\n",
    "    NYSSE += (NYy_i[i] - NY_y[i])**2\n",
    "    NYSE_denom += (NYx_i[i] - NYx_bar)**2\n",
    "NYSE_denom = np.sqrt(NYSE_denom)\n",
    "\n",
    "print(\"SSE:\", NYSSE)\n",
    "\n",
    "#Calculate sigma hat\n",
    "NYsigma_hat = np.sqrt(NYSSE/(NYn-2))\n",
    "print(\"Sigma hat:\", NYsigma_hat)\n",
    "\n",
    "#Calculate SE\n",
    "print(\"SE denominator:\", NYSE_denom)\n",
    "NYSE = NYsigma_hat/NYSE_denom\n",
    "\n",
    "print(\"My calculated SE:\", NYSE)\n",
    "print(\"SE from stats.linregress for comparison:\",NYstderr)\n",
    "\n",
    "## Calculate test statistic \n",
    "NY_ts = NYbeta/NYSE\n",
    "print(\"Test statistic:\", NY_ts, \"\\n\")\n",
    "\n",
    "##Calculate p-value \n",
    "NYp_value = 2*stats.t.cdf(NY_ts, n-2)\n",
    "print (\"My calculated p-value: {:.20f}\".format(NYp_value))\n",
    "print(\"P-value from scipy.stats.linregress for comparison: {:.20f}\".format(NYpvalue))"
   ]
  }
 ],
 "metadata": {
  "kernelspec": {
   "display_name": "Python 3",
   "language": "python",
   "name": "python3"
  },
  "language_info": {
   "codemirror_mode": {
    "name": "ipython",
    "version": 3
   },
   "file_extension": ".py",
   "mimetype": "text/x-python",
   "name": "python",
   "nbconvert_exporter": "python",
   "pygments_lexer": "ipython3",
   "version": "3.7.1"
  }
 },
 "nbformat": 4,
 "nbformat_minor": 2
}
