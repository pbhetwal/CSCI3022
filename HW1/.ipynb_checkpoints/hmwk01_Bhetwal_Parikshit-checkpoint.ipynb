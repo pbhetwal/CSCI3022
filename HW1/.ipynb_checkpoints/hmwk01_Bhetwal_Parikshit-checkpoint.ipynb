{
 "cells": [
  {
   "cell_type": "markdown",
   "metadata": {},
   "source": [
    "<a id='top'></a>\n",
    "\n",
    "# Homework 1: Data Cleaning and Exploratory Data Analysis \n",
    "***\n",
    "\n",
    "**Name**: Parikshit Bhetwal\n",
    "\n",
    "***\n",
    "\n",
    "This assignment is due on Canvas by **5 PM on Friday February 1**. Your solutions to theoretical questions should be done in Markdown directly below the associated question.  Your solutions to computational questions should include any specified Python code and results as well as written commentary on your conclusions.  Remember that you are encouraged to discuss the problems with your classmates, but **you must write all code and solutions on your own**.\n",
    "\n",
    "**NOTES**: \n",
    "\n",
    "- Any relevant data sets should be available under the **Data** module on Canvas. To make life easier on the graders if they need to run your code, do not change the relative path names here. Instead, move the files around on your computer.\n",
    "- If you're not familiar with typesetting math directly into Markdown then by all means, do your work on paper first and then typeset it later.  Remember that there is a [reference guide](https://math.meta.stackexchange.com/questions/5020/mathjax-basic-tutorial-and-quick-reference) linked on Canvas on writing math in Markdown. **All** of your written commentary, justifications and mathematical work should be in Markdown.\n",
    "- Because you can technically evaluate notebook cells is a non-linear order, it's a good idea to do Kernel $\\rightarrow$ Restart & Run All as a check before submitting your solutions.  That way if we need to run your code you will know that it will work as expected. \n",
    "- It is **bad form** to make your reader interpret numerical output from your code.  If a question asks you to compute some value from the data you should show your code output **AND** write a summary of the results in Markdown directly below your code. \n",
    "- This probably goes without saying, but... For any question that asks you to calculate something, you **must show all work and justify your answers to receive credit**. Sparse or nonexistent work will receive sparse or nonexistent credit. \n",
    "\n",
    "---\n",
    "**Shortcuts:**  [Problem 1](#p1) | [Problem 2](#p2) | [Problem 3](#p3) | [Problem 4](#p4) | [Problem 5](#p5)\n",
    "\n",
    "---"
   ]
  },
  {
   "cell_type": "code",
   "execution_count": 1,
   "metadata": {},
   "outputs": [],
   "source": [
    "import pandas as pd\n",
    "import numpy as np\n",
    "import matplotlib.pylab as plt\n",
    "%matplotlib inline"
   ]
  },
  {
   "cell_type": "markdown",
   "metadata": {},
   "source": [
    "[Back to top](#top)\n",
    "\n",
    "<br>\n",
    "\n",
    "<a/ id='p1'></a>\n",
    "\n",
    "### (10 pts) Problem 1 \n",
    "***\n",
    "\n",
    "![hedgehog](https://www.irishexaminer.com/remote/media.central.ie/media/images/h/hedgehog17_large.jpg?width=648&s=ie-467290)\n",
    "\n",
    "Hedgehogs are undeniably one of the cutest creatures in all of the land, so the University of Colorado Boulder wants to switch its mascot to the hedgehog. Before making the switch, the CU officials need to know whether they will be able to find new hedgehog mascot handlers, similar to the current Ralphie handlers. You are called upon to perform an experiment to order to determine how fit CU Boulder students are for hedgehog-handling. There are too many students at CU for you to test all of their **Hedgehog-Handling Ability** (HHA), so from a roster of all students and their majors, you will randomly test the HHA of one-tenth of the majors from each department on campus. (Assume nobody is a double major, and assume that everybody has a major.) From this sample, you will estimate the mean HHA of all students on campus, and let the CU officials know whether or not CU students will be able to handle hedgehogs.\n",
    "\n",
    "Identify the following: \n",
    "\n",
    "- the population \n",
    "- the sample frame \n",
    "- the sample \n",
    "- the type of sample \n",
    "- the quantity of interest "
   ]
  },
  {
   "cell_type": "markdown",
   "metadata": {},
   "source": [
    "__1) The population:__ The population here would be __all of the students at CU Boulder__. \n",
    "<br> \n",
    "__2) The sample frame:__ The sample frame here is a __roster__ of all of the students at CU Boulder and their respective majors. \n",
    "<br> \n",
    "__3) The sample:__ The sample here (or the subset of the population) would be __one-tenth of the majors from each department__ on the CU Boudler campus. \n",
    "<br> \n",
    "__4) The type of sample:__ The type of sample that we are using here is a __stratified sample__.  \n",
    "__5) The quantity of interest:__ The quantity of interest here that we are testing for is __Hedgehog-Handling Ability (HHA)__. "
   ]
  },
  {
   "cell_type": "markdown",
   "metadata": {},
   "source": [
    "[Back to top](#top)\n",
    "\n",
    "<br>\n",
    "\n",
    "<a/ id='p2'></a>\n",
    "\n",
    "### (20 pts) Problem 2 \n",
    "***\n",
    "\n",
    "A method to investigate the sensitivity of the sample mean and the sample median to extreme outliers and changes in the dataset is to replace one or more elements in a given dataset by a number $y$ and investigate the eﬀect when $y$ changes. To illustrate this, consider the dataset\n",
    "\n",
    "$$\n",
    "y \\quad \n",
    "5.4 \\quad\n",
    "5.0 \\quad\n",
    "6.5 \\quad\n",
    "7.7 \\quad\n",
    "6.0 \\quad\n",
    "1.9\n",
    "$$"
   ]
  },
  {
   "cell_type": "markdown",
   "metadata": {},
   "source": [
    "**Part A**: Compute the sample mean and sample median for $y=2$. Compute them both again for $y=8$."
   ]
  },
  {
   "cell_type": "markdown",
   "metadata": {},
   "source": [
    "## 1) Sample mean for y = 2\n",
    "We have the formula: $\\large\\bar{x}=\\frac{1}{n} \\sum\\limits_{i=1}^n x_i$\n",
    "<br><br> \n",
    "Thus, we would have: $\\large\\frac{2.0 + 5.4 + 5.0 + 6.5 + 7.7 + 6.0 + 1.9}{7.0} = 4.9$\n",
    "## 2) Sample median for y = 2\n",
    "We have the formula: $\\large\\tilde{x}=\\left( \\frac{n+1}{2}\\right)^{\\!th}$ when $\\large n$ is odd\n",
    "<br> <br> \n",
    "We would first order these values from least to greatest. \n",
    "<br><br>\n",
    "So, we would have: $\\large 1.9, 2.0, 5.0, 5.4, 6.0, 6.5, 7.7$\n",
    "<br><br>\n",
    "Thus, our median for $\\large y = 2$ would be $\\large\\left( \\frac{7+1}{2}\\right)^{\\!th}$ value which $\\large = 5.4$ \n",
    "## 3) Sample mean for y = 8 \n",
    "We have the formula: $\\large\\bar{x}=\\frac{1}{n} \\sum\\limits_{i=1}^n x_i$\n",
    "<br><br> \n",
    "Thus, we would have: $\\large\\frac{8.0 + 5.4 + 5.0 + 6.5 + 7.7 + 6.0 + 1.9}{7.0} = 5.8$\n",
    "## 4) Sample median for y = 8\n",
    "We have the formula: $\\large\\tilde{x}=\\left( \\frac{n+1}{2}\\right)^{\\!th}$ when $\\large n$ is odd\n",
    "<br> <br> \n",
    "We would first order these values from least to greatest. \n",
    "<br><br>\n",
    "So, we would have: $\\large 1.9, 5.0, 5.4, 6.0, 6.5, 7.7, 8.0$\n",
    "<br><br>\n",
    "Thus, our median for $\\large y = 8$ would be $\\large\\left( \\frac{7+1}{2}\\right)^{\\!th}$ value which $\\large = 6.0$"
   ]
  },
  {
   "cell_type": "markdown",
   "metadata": {},
   "source": [
    "**Part B**: Is there a value for $y$ that would make the mean of those data equal to $4$? If so, calculate the value of $y$ that makes the mean equal to $4$. If not, clearly explain why not.\n",
    "\n",
    "Is there a value for $y$ that would make the median of those data equal to $4$? If so, calculate the value of $y$ that makes the median equal to $4$. If not, clearly explain why not."
   ]
  },
  {
   "cell_type": "markdown",
   "metadata": {
    "collapsed": true
   },
   "source": [
    "## 1) For the mean to equal 4 we would have the equation: \n",
    "$\\large \\frac{(y + 5.4 + 5.0 + 6.5 + 7.7 + 6.0 + 1.9)}{7} = 4.0$\n",
    "<br><br>\n",
    "$\\large y + 5.4 + 5.0 + 6.5 + 7.7 + 6.0 + 1.9 = 28.0$\n",
    "<br><br>\n",
    "$\\large y + 32.5 = 28$\n",
    "<br><br> \n",
    "$\\large y = 28 - 32.5$\n",
    "<br><br> \n",
    "So we have: $\\large y = -4.5$ for the mean of the data to equal 4\n",
    "<br><br> \n",
    "Our proof: \n",
    "<br><br>\n",
    "$\\large \\frac{(-4.5 + 5.4 + 5.0 + 6.5 + 7.7 + 6.0 + 1.9)}{7} = 4.0$\n",
    "## 2) Why the median can NOT be equal to 4 with the given data\n",
    "We have the formula: $\\large\\tilde{x}=\\left( \\frac{n+1}{2}\\right)^{\\!th}$ when $\\large n$ is odd\n",
    "<br><br> \n",
    "We have that n = 7, so we have to use this equation. This means that we will NOT be taking the average of the middle two values since n is odd. Then, we have that 4.0 is not a value that is already present within the data set. \n",
    "<br><br> \n",
    "Therefore, we can have y = 4.0 to see if it will become the median when a part of the data set. We will do this test because it is the only way that 4.0 could even possibly be the median. \n",
    "<br><br>\n",
    "So, when we order the data from least to greatest when y = 4.0:\n",
    "<br><br> \n",
    "$\\large 1.9, 4.0, 5.0, 5.4, 6.0, 6.5, 7.7$\n",
    "<br><br>\n",
    "Thus, our median for $\\large y = 4.0$ would be $\\large\\left( \\frac{7+1}{2}\\right)^{\\!th}$ value which $\\large = 5.4$ when 4.0 is added to the data set "
   ]
  },
  {
   "cell_type": "markdown",
   "metadata": {},
   "source": []
  },
  {
   "cell_type": "markdown",
   "metadata": {},
   "source": [
    "**Part C**: Compute the sample median for the following cases: \n",
    "- $y=5$ \n",
    "- $y=50$ \n",
    "- $y=5.39$ \n",
    "- $y=5.41$\n",
    "- $y \\to \\infty$ \n",
    "- $y \\to -\\infty$ "
   ]
  },
  {
   "cell_type": "markdown",
   "metadata": {
    "collapsed": true
   },
   "source": [
    "## Median when y = 5\n",
    "Order the data from least to greatest when y = 5.0:\n",
    "<br><Br>\n",
    "$\\large 1.9,5.0,5.0,5.4,6.0,6.5,7.7$\n",
    "<br><br>\n",
    "Thus, our median for $\\large y = 5.0$ would be $\\large\\left( \\frac{7+1}{2}\\right)^{\\!th}$ value which $\\large = 5.4$\n",
    "    \n",
    "## Median when y = 50\n",
    "Order the data from least to greatest when y = 50.0:\n",
    "<br><br>\n",
    "$\\large 1.9,5.0,5.4,6.0,6.5,7.7,50.0$\n",
    "<br><br> \n",
    "Thus, our median for $\\large y = 50.0$ would be $\\large\\left( \\frac{7+1}{2}\\right)^{\\!th}$ value which $\\large = 6.0$\n",
    "\n",
    "## Median when y = 5.39\n",
    "Order the data from least to greatest when y = 5.39:\n",
    "<br><br>\n",
    "$\\large 1.9,5.0,5.39,5.4,6.0,6.5,7.7$\n",
    "<br><br>\n",
    "Thus, our median for $\\large y = 5.39$ would be $\\large\\left( \\frac{7+1}{2}\\right)^{\\!th}$ value which $\\large = 5.4$\n",
    "\n",
    "## Median when y = 5.41\n",
    "Order the data from least to greatest when y = 5.41:\n",
    "<br><br>\n",
    "$\\large 1.9,5.0,5.4,5.41,6.0,6.5,7.7$\n",
    "<br><br>\n",
    "Thus, our median for $\\large y = 5.41$ would be $\\large\\left( \\frac{7+1}{2}\\right)^{\\!th}$ value which $\\large = 5.41$\n",
    "\n",
    "## Median when $y \\to \\infty$ \n",
    "Order the data from least to greatest when $y \\to \\infty$: \n",
    "<br><br>\n",
    "$\\large 1.9,5.0,5.4,6.0,6.5,7.7,y \\to \\infty$\n",
    "<br><br>\n",
    "Thus, our median for $\\large y \\to \\infty$ would be $\\large\\left( \\frac{7+1}{2}\\right)^{\\!th}$ value which $\\large = 6.0$\n",
    "\n",
    "## Median when $y \\to -\\infty$ \n",
    "Order the data from least to greatest when $y \\to -\\infty$:\n",
    "<br><br>\n",
    "$\\large y \\to -\\infty,1.9,5.0,5.4,6.0,6.5,7.7$\n",
    "<br><br>\n",
    "Thus, our median for $\\large y \\to -\\infty$ would be $\\large\\left( \\frac{7+1}{2}\\right)^{\\!th}$ value which $\\large = 5.4$"
   ]
  },
  {
   "cell_type": "markdown",
   "metadata": {},
   "source": [
    "**Part D**: Think about the previous parts, above, and describe in words or mathematical notation the answers to the following two questions:\n",
    "\n",
    "- By varying $y$, what is the set of all the possible values that the sample mean could take on?\n",
    "- By varying $y$, what is the set of all the possible values that the sample median could take on? Specifically, for what sets of $y$ values does the median take on its different possible values?"
   ]
  },
  {
   "cell_type": "markdown",
   "metadata": {},
   "source": []
  },
  {
   "cell_type": "markdown",
   "metadata": {},
   "source": [
    "## Possible values that the sample mean could take on \n",
    "$\\large (-\\infty, \\infty)$ is the set of all possbile values that the sample mean could take on by varying y. \n",
    "## Possible values that the sample median could take on \n",
    "The sets of $y$ values that would change the median are:\n",
    "<br><br>\n",
    "$\\large (-\\infty, 5.40]$ which yields median $\\large 5.4$.\n",
    "<br> \n",
    "$\\large (5.40, 6.0)$ which yields median values from range $\\large 5.4 <$ median $\\large < 6.0$.\n",
    "<br>\n",
    "$\\large [6.0, \\infty)$ which yields median $\\large 6.0$."
   ]
  },
  {
   "cell_type": "markdown",
   "metadata": {},
   "source": [
    "[Back to top](#top)\n",
    "\n",
    "<br>\n",
    "\n",
    "<a/ id='p3'></a>\n",
    "\n",
    "### (20 pts) Problem 3 \n",
    "***\n",
    "\n",
    "Let $x_1, x_2, \\ldots, x_n$ be $n$ observations of a variable of interest.  Recall that the sample mean $\\bar{x}_n$ and sample variance $s^2_n$ are given by \n",
    "\n",
    "$$\n",
    "\\bar{x}_n = \\frac{1}{n}\\sum_{k=1}^n x_k \\quad \\textrm{and} \\quad s^2_n = \\frac{1}{n-1}\\sum_{k=1}^n \\left( x_k - \\bar{x}_n\\right)^2 \\qquad \\tag{Equation 1}\n",
    "$$\n",
    "\n",
    "where here the subscript $n$'s indicate the number of observations in the sample. Notice that a natural computation of the variance requires two passes over the data: one to compute the mean, and a second to subtract the mean from each observation and compute the sum of squares. It is often useful to be able to compute the variance in a single pass, inspecting each value $x_k$ only once; for example, when the data are being collected without enough storage to keep all the values, or when costs of memory access dominate those of computation. In this problem you will explore two methods for such an _online_ computation of the mean.  \n",
    "\n",
    "**Part A**: Show algebraically that the following relation holds between the mean of the first $n-1$ observations and the mean of all $n$ observations: \n",
    "\n",
    "$$\n",
    "\\bar{x}_n = \\bar{x}_{n-1} + \\frac{x_n - \\bar{x}_{n-1}}{n}\n",
    "$$\n",
    "\n",
    "Note that you can get an expression for $\\bar{x}_{n-1}$ by simply replacing $n$ in Equation 1 above with $n-1$."
   ]
  },
  {
   "cell_type": "markdown",
   "metadata": {},
   "source": [
    "We have that:\n",
    "<br><br>\n",
    "$\\large\\bar{x}_{n} = \\frac{1}{n}\\sum_{k=1}^{n-1}x_k+\\frac{1}{n}x_n$\n",
    "<br><br>\n",
    "Then: \n",
    "$\\large\\frac{n-1}{n-1}\\frac{1}{n}\\sum_{k=1}^{n-1}x_k+\\frac{1}{n}x_n$\n",
    "<br><br> \n",
    "Then:\n",
    "$\\large\\frac{n-1}{n}\\frac{1}{n-1}\\sum_{k=1}^{n-1}x_k+\\frac{1}{n}x_n$\n",
    "<br><br>\n",
    "Then: \n",
    "$\\large\\frac{n-1}{n}\\bar{x}_{n-1}+\\frac{1}{n}x_n$\n",
    "<br><br>\n",
    "Then: \n",
    "$\\large\\bar{x}_{n-1}-\\frac{1}{n}\\bar{x}_{n-1}+\\frac{1}{n}x_n$\n",
    "<br><br> \n",
    "Then: \n",
    "$\\large\\bar{x}_{n-1}+\\frac{1}{n}x_n-\\frac{1}{n}\\bar{x}_{n-1}$\n",
    "<br><br>\n",
    "Finally: $\\large\\bar{x}_{n-1}+\\frac{x_n-\\bar{x}_{n-1}}{n}$ and our proof is complete."
   ]
  },
  {
   "cell_type": "markdown",
   "metadata": {},
   "source": [
    "**Part B**: Write a function `my_sample_mean` that takes as its input a numpy array and returns the mean of that numpy array using the formulas from class (written above). Write another function `my_sample_var` that takes as its input a numpy array and returns the variance of that numpy array, again using the formulas from class (written above). You may **not** use any built-in sample mean or variance functions."
   ]
  },
  {
   "cell_type": "code",
   "execution_count": 2,
   "metadata": {},
   "outputs": [],
   "source": [
    "def my_sample_mean(numArray):\n",
    "    ##Assign value of sum with 0 at first \n",
    "    varSum = 0 \n",
    "    ##Loop through given array \n",
    "    for i in numArray: \n",
    "        ##Add up all values within the array, updating our sum variable \n",
    "        varSum = varSum + i\n",
    "    ##Calculate the mean by dividing the sum by the length of the array and then return it \n",
    "    varMean = varSum/len(numArray)\n",
    "    return varMean \n",
    "\n",
    "def my_sample_var(numArray):\n",
    "    ##Assign value of sum with 0 at first \n",
    "    varSum = 0 \n",
    "    ##Loop through given array \n",
    "    for i in numArray:\n",
    "        ##For each value, subtract the mean from it and take the power of 2\n",
    "        varSum = varSum + (i-my_sample_mean(numArray))**2\n",
    "    ##Calculate the sum by dividing the sum by the length of the array-1 and then return it\n",
    "    varVariance = varSum/(len(numArray)-1)\n",
    "    return varVariance"
   ]
  },
  {
   "cell_type": "code",
   "execution_count": 3,
   "metadata": {},
   "outputs": [],
   "source": [
    "##BEGIN MEAN TEST\n",
    "assert my_sample_mean(np.array([1,2,3]))==2, \"Test 1 Failed.\"\n",
    "assert my_sample_mean(np.array([8,8,8]))==8, \"Test 2 Failed.\"\n",
    "assert my_sample_mean(np.array([3.4,6.8,4.6]))==4.933333333333333, \"Test 3 Failed.\"\n",
    "assert my_sample_mean(np.array([9.8765, 8.976, 2.453]))==7.1018333333333326, \"Test 4 Failed.\"\n",
    "##END MEAN TEST \n",
    "\n",
    "##BEGIN VARIANCE TEST \n",
    "assert my_sample_var(np.array([1,2,3]))==1, \"Test 1 Failed.\"\n",
    "assert my_sample_var(np.array([1,9,80]))==1891, \"Test 2 Failed.\"\n",
    "assert my_sample_var(np.array([3.4,4.6,6.8]))==2.9733333333333336, \"Test 3 Failed.\"\n",
    "assert my_sample_var(np.array([2.3,8.9,9.5]))==15.96, \"Test 4 Failed.\"\n",
    "##END VARIANCE TEST"
   ]
  },
  {
   "cell_type": "markdown",
   "metadata": {},
   "source": [
    "**Part C**: Use your functions from Part B to compute the sample mean and sample variance of the following array, which contains the hedgehog-handling abilities (HHA) of a sample of 12 CU Boulder hedgehog handlers.\n",
    "\n",
    "`hha = [98, 26, 83, 56, 60, 39, 81, 19, 72, 78, 94, 42]`"
   ]
  },
  {
   "cell_type": "code",
   "execution_count": 4,
   "metadata": {},
   "outputs": [
    {
     "name": "stdout",
     "output_type": "stream",
     "text": [
      "The sample mean for HHA is: 62.333333333333336\n"
     ]
    }
   ],
   "source": [
    "##HHA SAMPLE MEAN\n",
    "hha = np.array([98, 26, 83, 56, 60, 39, 81, 19, 72, 78, 94, 42])\n",
    "print(\"The sample mean for HHA is:\", my_sample_mean(hha)) "
   ]
  },
  {
   "cell_type": "code",
   "execution_count": 5,
   "metadata": {},
   "outputs": [
    {
     "name": "stdout",
     "output_type": "stream",
     "text": [
      "The sample variance for HHA is: 690.060606060606\n"
     ]
    }
   ],
   "source": [
    "##HHA SAMPLE VARIANCE \n",
    "print(\"The sample variance for HHA is:\", my_sample_var(hha))"
   ]
  },
  {
   "cell_type": "markdown",
   "metadata": {},
   "source": [
    "**Part D**: Implement a third function called `update_mean` that implements the formula whose validity you proved in Part A. Note that this function will need to take as its input three things: $x_n$, $\\bar{x}_{n-1}$ and $n$. A function header is provided for you. This function may be auto-graded, so please do not change the given API - the order of inputs matters! If you change it, you might lose points.\n",
    "\n",
    "Use this function to compute the values that you get from taking the mean of the first hedgehog handler, the first two hedgehog handlers, the first three hedgehog handlers, and so on up to all of the hedgehog handler data points. Store your HHA means in a numpy array called `hha_means`.  Report all 12 estimates in `hha_means`."
   ]
  },
  {
   "cell_type": "code",
   "execution_count": 6,
   "metadata": {},
   "outputs": [
    {
     "name": "stdout",
     "output_type": "stream",
     "text": [
      "[98, 62.0, 69.0, 65.75, 64.6, 60.33333333333333, 63.285714285714285, 57.75, 59.333333333333336, 61.2, 64.18181818181819, 62.333333333333336]\n"
     ]
    }
   ],
   "source": [
    "# Given API:\n",
    "def update_mean(prev_mean, xn, n):\n",
    "    return prev_mean + ((xn-prev_mean)/n)\n",
    "\n",
    "hha_means = []\n",
    "hha_means.append(hha[0])\n",
    "\n",
    "for i in range(1,12):\n",
    "    hha_means.append(update_mean(hha_means[i-1],hha[i],i+1))\n",
    "\n",
    "print(hha_means)"
   ]
  },
  {
   "cell_type": "markdown",
   "metadata": {},
   "source": [
    "The above output is the entire hha_means array printed, so hha_means[0] would be the first estimate. Then, hha_means[1] would be the second estimate and so forth until we have all 12 estimates within hha_means. The very last value in that array would be the final estimate. "
   ]
  },
  {
   "cell_type": "markdown",
   "metadata": {},
   "source": [
    "To ensure your function complies with the given API, run this small test, where we suppose we have a mean of $\\bar{x}_n = 1$ with the first $2$ data points (`prev_mean`), and we update this with the 3rd ($n=3$) data point which is $x_3=2$:"
   ]
  },
  {
   "cell_type": "code",
   "execution_count": 7,
   "metadata": {},
   "outputs": [],
   "source": [
    "assert update_mean(1,2,3)==4/3, \"Warning: function seems broken.\"\n",
    "assert update_mean(62,83,3)==69, \"Warning: function seems broken.\""
   ]
  },
  {
   "cell_type": "markdown",
   "metadata": {},
   "source": [
    "[Back to top](#top)\n",
    "\n",
    "<br>\n",
    "\n",
    "<a/ id='p4'></a>\n",
    "\n",
    "### (25 pts) Problem 4\n",
    "*** \n",
    "Some claim that the final hours aboard the RMS Titanic were marked by \"class warfare\" in which the people with first-class tickets took all the good spots on the lifeboats; others claim that the final hours were characterized by male chivalry, in which the men valiantly gave up their positions in the boats and succumbed bravely to the depths of the Atlantic. \n",
    "\n",
    "We have the data on survival rates by class and by sex, so let's figure out whether there is evidence for these scenarios. Access the Titanic data in `titanic_data.csv` and store it in a Pandas DataFrame. The data contains information pertaining to class status (**Pclass**), survival (**Survived**), and gender (**Sex**) of passengers, among other things. Be sure to use the `titanic_data.csv` data set, *not* the `clean_titanic_data` file from the in-class notebook."
   ]
  },
  {
   "cell_type": "code",
   "execution_count": 8,
   "metadata": {},
   "outputs": [
    {
     "data": {
      "text/html": [
       "<div>\n",
       "<style scoped>\n",
       "    .dataframe tbody tr th:only-of-type {\n",
       "        vertical-align: middle;\n",
       "    }\n",
       "\n",
       "    .dataframe tbody tr th {\n",
       "        vertical-align: top;\n",
       "    }\n",
       "\n",
       "    .dataframe thead th {\n",
       "        text-align: right;\n",
       "    }\n",
       "</style>\n",
       "<table border=\"1\" class=\"dataframe\">\n",
       "  <thead>\n",
       "    <tr style=\"text-align: right;\">\n",
       "      <th></th>\n",
       "      <th>PassengerId</th>\n",
       "      <th>Survived</th>\n",
       "      <th>Pclass</th>\n",
       "      <th>Name</th>\n",
       "      <th>Sex</th>\n",
       "      <th>Age</th>\n",
       "      <th>SibSp</th>\n",
       "      <th>Parch</th>\n",
       "      <th>Ticket</th>\n",
       "      <th>Fare</th>\n",
       "      <th>Cabin</th>\n",
       "      <th>Embarked</th>\n",
       "    </tr>\n",
       "  </thead>\n",
       "  <tbody>\n",
       "    <tr>\n",
       "      <th>0</th>\n",
       "      <td>1</td>\n",
       "      <td>0</td>\n",
       "      <td>3</td>\n",
       "      <td>Braund, Mr. Owen Harris</td>\n",
       "      <td>male</td>\n",
       "      <td>36.0</td>\n",
       "      <td>1</td>\n",
       "      <td>0</td>\n",
       "      <td>A/5 21171</td>\n",
       "      <td>7.2500</td>\n",
       "      <td>NaN</td>\n",
       "      <td>S</td>\n",
       "    </tr>\n",
       "    <tr>\n",
       "      <th>1</th>\n",
       "      <td>2</td>\n",
       "      <td>1</td>\n",
       "      <td>1</td>\n",
       "      <td>Cumings, Mrs. John Bradley (Florence Briggs Th...</td>\n",
       "      <td>female</td>\n",
       "      <td>18.0</td>\n",
       "      <td>1</td>\n",
       "      <td>0</td>\n",
       "      <td>PC 17599</td>\n",
       "      <td>71.2833</td>\n",
       "      <td>C85</td>\n",
       "      <td>C</td>\n",
       "    </tr>\n",
       "    <tr>\n",
       "      <th>2</th>\n",
       "      <td>3</td>\n",
       "      <td>1</td>\n",
       "      <td>3</td>\n",
       "      <td>Heikkinen, Miss. Laina</td>\n",
       "      <td>female</td>\n",
       "      <td>14.0</td>\n",
       "      <td>0</td>\n",
       "      <td>0</td>\n",
       "      <td>STON/O2. 3101282</td>\n",
       "      <td>7.9250</td>\n",
       "      <td>NaN</td>\n",
       "      <td>S</td>\n",
       "    </tr>\n",
       "    <tr>\n",
       "      <th>3</th>\n",
       "      <td>4</td>\n",
       "      <td>1</td>\n",
       "      <td>1</td>\n",
       "      <td>Futrelle, Mrs. Jacques Heath (Lily May Peel)</td>\n",
       "      <td>female</td>\n",
       "      <td>27.0</td>\n",
       "      <td>1</td>\n",
       "      <td>0</td>\n",
       "      <td>113803</td>\n",
       "      <td>53.1000</td>\n",
       "      <td>C123</td>\n",
       "      <td>S</td>\n",
       "    </tr>\n",
       "    <tr>\n",
       "      <th>4</th>\n",
       "      <td>5</td>\n",
       "      <td>0</td>\n",
       "      <td>3</td>\n",
       "      <td>Allen, Mr. William Henry</td>\n",
       "      <td>male</td>\n",
       "      <td>63.0</td>\n",
       "      <td>0</td>\n",
       "      <td>0</td>\n",
       "      <td>373450</td>\n",
       "      <td>8.0500</td>\n",
       "      <td>NaN</td>\n",
       "      <td>S</td>\n",
       "    </tr>\n",
       "  </tbody>\n",
       "</table>\n",
       "</div>"
      ],
      "text/plain": [
       "   PassengerId  Survived  Pclass  \\\n",
       "0            1         0       3   \n",
       "1            2         1       1   \n",
       "2            3         1       3   \n",
       "3            4         1       1   \n",
       "4            5         0       3   \n",
       "\n",
       "                                                Name     Sex   Age  SibSp  \\\n",
       "0                            Braund, Mr. Owen Harris    male  36.0      1   \n",
       "1  Cumings, Mrs. John Bradley (Florence Briggs Th...  female  18.0      1   \n",
       "2                             Heikkinen, Miss. Laina  female  14.0      0   \n",
       "3       Futrelle, Mrs. Jacques Heath (Lily May Peel)  female  27.0      1   \n",
       "4                           Allen, Mr. William Henry    male  63.0      0   \n",
       "\n",
       "   Parch            Ticket     Fare Cabin Embarked  \n",
       "0      0         A/5 21171   7.2500   NaN        S  \n",
       "1      0          PC 17599  71.2833   C85        C  \n",
       "2      0  STON/O2. 3101282   7.9250   NaN        S  \n",
       "3      0            113803  53.1000  C123        S  \n",
       "4      0            373450   8.0500   NaN        S  "
      ]
     },
     "execution_count": 8,
     "metadata": {},
     "output_type": "execute_result"
    }
   ],
   "source": [
    "df = pd.read_csv(\"titanic_data.csv\")\n",
    "df.head()"
   ]
  },
  {
   "cell_type": "markdown",
   "metadata": {},
   "source": [
    "**Part A**: Consider the two claims: class warfare, and male chivalry. Suppose that class warfare occurred in the final hours aboard the Titanic.  What patterns might you expect to see in the data?  Suppose that male chivalry was widespread during the final hours instead. What patterns might you then expect to see in the data?  Explain both of these hypothesized patterns in words. Are these two hypotheses mutually exclusive or not?"
   ]
  },
  {
   "cell_type": "markdown",
   "metadata": {},
   "source": [
    "If __class warfare__ occurred during the final hours aboard the Titanic, then the richer individuals would had a greater chance of surviving than the poorer individuals that were on the Titanic. \n",
    "<br>\n",
    "If __male chivalry__ was widespread during the final hours of the Titanic, then women and children would had a greater chance of surviving than men that were on the Titanic.\n",
    "<br> \n",
    "These two hypotheses are __NOT mutually exclusive__ because there could be male chivalry and class warfare occuring at the same time. The rich could have a greater chance of surviving and men could be seeking to help women and children at the same time. "
   ]
  },
  {
   "cell_type": "markdown",
   "metadata": {},
   "source": [
    "**Part B**: Use Pandas methods to create a clean data set by removing any rows from the DataFrame that are missing values corresponding to **Survived**, **Pclass**, **Age**, or **Sex**. Store the clean data in a DataFrame called dfTitanic. Be sure to show any exploratory work determining if/where there are rows with missing values."
   ]
  },
  {
   "cell_type": "code",
   "execution_count": 9,
   "metadata": {},
   "outputs": [
    {
     "data": {
      "text/html": [
       "<div>\n",
       "<style scoped>\n",
       "    .dataframe tbody tr th:only-of-type {\n",
       "        vertical-align: middle;\n",
       "    }\n",
       "\n",
       "    .dataframe tbody tr th {\n",
       "        vertical-align: top;\n",
       "    }\n",
       "\n",
       "    .dataframe thead th {\n",
       "        text-align: right;\n",
       "    }\n",
       "</style>\n",
       "<table border=\"1\" class=\"dataframe\">\n",
       "  <thead>\n",
       "    <tr style=\"text-align: right;\">\n",
       "      <th></th>\n",
       "      <th>PassengerId</th>\n",
       "      <th>Survived</th>\n",
       "      <th>Pclass</th>\n",
       "      <th>Name</th>\n",
       "      <th>Sex</th>\n",
       "      <th>Age</th>\n",
       "      <th>SibSp</th>\n",
       "      <th>Parch</th>\n",
       "      <th>Ticket</th>\n",
       "      <th>Fare</th>\n",
       "      <th>Cabin</th>\n",
       "      <th>Embarked</th>\n",
       "    </tr>\n",
       "  </thead>\n",
       "  <tbody>\n",
       "    <tr>\n",
       "      <th>0</th>\n",
       "      <td>1</td>\n",
       "      <td>0</td>\n",
       "      <td>3</td>\n",
       "      <td>Braund, Mr. Owen Harris</td>\n",
       "      <td>male</td>\n",
       "      <td>36.0</td>\n",
       "      <td>1</td>\n",
       "      <td>0</td>\n",
       "      <td>A/5 21171</td>\n",
       "      <td>7.2500</td>\n",
       "      <td>NaN</td>\n",
       "      <td>S</td>\n",
       "    </tr>\n",
       "    <tr>\n",
       "      <th>1</th>\n",
       "      <td>2</td>\n",
       "      <td>1</td>\n",
       "      <td>1</td>\n",
       "      <td>Cumings, Mrs. John Bradley (Florence Briggs Th...</td>\n",
       "      <td>female</td>\n",
       "      <td>18.0</td>\n",
       "      <td>1</td>\n",
       "      <td>0</td>\n",
       "      <td>PC 17599</td>\n",
       "      <td>71.2833</td>\n",
       "      <td>C85</td>\n",
       "      <td>C</td>\n",
       "    </tr>\n",
       "    <tr>\n",
       "      <th>2</th>\n",
       "      <td>3</td>\n",
       "      <td>1</td>\n",
       "      <td>3</td>\n",
       "      <td>Heikkinen, Miss. Laina</td>\n",
       "      <td>female</td>\n",
       "      <td>14.0</td>\n",
       "      <td>0</td>\n",
       "      <td>0</td>\n",
       "      <td>STON/O2. 3101282</td>\n",
       "      <td>7.9250</td>\n",
       "      <td>NaN</td>\n",
       "      <td>S</td>\n",
       "    </tr>\n",
       "    <tr>\n",
       "      <th>3</th>\n",
       "      <td>4</td>\n",
       "      <td>1</td>\n",
       "      <td>1</td>\n",
       "      <td>Futrelle, Mrs. Jacques Heath (Lily May Peel)</td>\n",
       "      <td>female</td>\n",
       "      <td>27.0</td>\n",
       "      <td>1</td>\n",
       "      <td>0</td>\n",
       "      <td>113803</td>\n",
       "      <td>53.1000</td>\n",
       "      <td>C123</td>\n",
       "      <td>S</td>\n",
       "    </tr>\n",
       "    <tr>\n",
       "      <th>4</th>\n",
       "      <td>5</td>\n",
       "      <td>0</td>\n",
       "      <td>3</td>\n",
       "      <td>Allen, Mr. William Henry</td>\n",
       "      <td>male</td>\n",
       "      <td>63.0</td>\n",
       "      <td>0</td>\n",
       "      <td>0</td>\n",
       "      <td>373450</td>\n",
       "      <td>8.0500</td>\n",
       "      <td>NaN</td>\n",
       "      <td>S</td>\n",
       "    </tr>\n",
       "  </tbody>\n",
       "</table>\n",
       "</div>"
      ],
      "text/plain": [
       "   PassengerId  Survived  Pclass  \\\n",
       "0            1         0       3   \n",
       "1            2         1       1   \n",
       "2            3         1       3   \n",
       "3            4         1       1   \n",
       "4            5         0       3   \n",
       "\n",
       "                                                Name     Sex   Age  SibSp  \\\n",
       "0                            Braund, Mr. Owen Harris    male  36.0      1   \n",
       "1  Cumings, Mrs. John Bradley (Florence Briggs Th...  female  18.0      1   \n",
       "2                             Heikkinen, Miss. Laina  female  14.0      0   \n",
       "3       Futrelle, Mrs. Jacques Heath (Lily May Peel)  female  27.0      1   \n",
       "4                           Allen, Mr. William Henry    male  63.0      0   \n",
       "\n",
       "   Parch            Ticket     Fare Cabin Embarked  \n",
       "0      0         A/5 21171   7.2500   NaN        S  \n",
       "1      0          PC 17599  71.2833   C85        C  \n",
       "2      0  STON/O2. 3101282   7.9250   NaN        S  \n",
       "3      0            113803  53.1000  C123        S  \n",
       "4      0            373450   8.0500   NaN        S  "
      ]
     },
     "execution_count": 9,
     "metadata": {},
     "output_type": "execute_result"
    }
   ],
   "source": [
    "##Use a subset to check for missing values regarding the ones we are checking for \n",
    "df = df.dropna(subset=[\"Survived\",\"Pclass\",\"Age\",\"Sex\"]) \n",
    "df.head()"
   ]
  },
  {
   "cell_type": "markdown",
   "metadata": {},
   "source": [
    "**Part C**: Compute the fraction of survivors according to class and gender. There are 3 passenger classes and 2 sexes in the data set, so you should report all 6 possible combinations.  Then, answer 3 questions:\n",
    "* **(i)** Within each passenger class, were men or women more/less/equally likely to survive?\n",
    "* **(ii)**  Looking at only the male or only the female passengers, how is passenger class related to the category's survival rate?\n",
    "* **(iii)**  Did men in first class or women in third class have a higher survival rate? "
   ]
  },
  {
   "cell_type": "code",
   "execution_count": 10,
   "metadata": {},
   "outputs": [
    {
     "name": "stdout",
     "output_type": "stream",
     "text": [
      "First class males survived: 0.3870967741935484\n",
      "First class females survived: 0.96\n",
      "\n",
      "Second class males survived: 0.1839080459770115\n",
      "Second class females survived: 0.9310344827586207\n",
      "\n",
      "Third class males survived: 0.13780918727915195\n",
      "Third class females survived: 0.5254237288135594\n"
     ]
    }
   ],
   "source": [
    "#FIRSTCLASS MALES\n",
    "firstMale = df.loc[(df[\"Pclass\"]==1) & (df[\"Sex\"]==\"male\")]\n",
    "lenFirst = len(firstMale)\n",
    "sumFirst = firstMale['Survived'].sum()\n",
    "print(\"First class males survived:\",sumFirst/lenFirst)\n",
    "#FIRSTCLASS FEMALES\n",
    "firstFemale = df.loc[(df[\"Pclass\"]==1) & (df[\"Sex\"]==\"female\")]\n",
    "lenFirst = len(firstFemale)\n",
    "sumFirst = firstFemale['Survived'].sum()\n",
    "print(\"First class females survived:\",sumFirst/lenFirst)\n",
    "print()\n",
    "##SECONDCLASS MALES \n",
    "secondMale = df.loc[(df[\"Pclass\"]==2) & (df[\"Sex\"]==\"male\")]\n",
    "lenSecond = len(secondMale)\n",
    "sumSecond = secondMale['Survived'].sum()\n",
    "print(\"Second class males survived:\",sumSecond/lenSecond)\n",
    "##SECONDCLASS FEMALES \n",
    "secondFemale = df.loc[(df[\"Pclass\"]==2) & (df[\"Sex\"]==\"female\")]\n",
    "lenSecond = len(secondFemale)\n",
    "sumSecond = secondFemale['Survived'].sum()\n",
    "print(\"Second class females survived:\",sumSecond/lenSecond)\n",
    "print()\n",
    "##THIRDCLASS MALES \n",
    "thirdMale = df.loc[(df[\"Pclass\"]==3) & (df[\"Sex\"]==\"male\")]\n",
    "lenThird = len(thirdMale)\n",
    "sumThird = thirdMale['Survived'].sum()\n",
    "print(\"Third class males survived:\",sumThird/lenThird)\n",
    "##THIRDCLASS FEMALES \n",
    "thirdFemale = df.loc[(df[\"Pclass\"]==3) & (df[\"Sex\"]==\"female\")]\n",
    "lenThird = len(thirdFemale)\n",
    "sumThird = thirdFemale['Survived'].sum()\n",
    "print(\"Third class females survived:\",sumThird/lenThird)"
   ]
  },
  {
   "cell_type": "markdown",
   "metadata": {},
   "source": [
    "## (i) Within each passenger class, were men or women more/less/equally likely to survive?\n",
    "Women were always __more__ likely to survive in any passenger class than men. \n",
    "## (ii) Looking at only the male or only the female passengers, how is passenger class related to the category's survival rate?\n",
    "Between the men, first class had the highest survival rate. Second class had the second highest survival rate. Third class had the lowest survival rate. \n",
    "<br> \n",
    "Between the women,  first class had the highest survival rate. Second class had the second highest survival rate. Third class had the lowest survival rate. \n",
    "## (iii) Did men in first class or women in third class have a higher survival rate?\n",
    "Women in third class had a __higher__ survival rate than men in first class. "
   ]
  },
  {
   "cell_type": "markdown",
   "metadata": {},
   "source": [
    "**Part D**: Plot a histogram of all of the passenger ages, using the bin edges $[0,5,10,\\ldots,70,75,80]$ defined by `my_bins` below. How would you characterize the distribution of **AGE**? (By _characterize_ we mean that you should indicate whether the data are unimodal, bimodal, multimodal, symmetric, negatively skewed, positively skewed, etc.)  Be sure to label your axes and use your figure to justify your conclusions."
   ]
  },
  {
   "cell_type": "code",
   "execution_count": 11,
   "metadata": {},
   "outputs": [],
   "source": [
    "my_bins = range(0,85,5)"
   ]
  },
  {
   "cell_type": "code",
   "execution_count": 12,
   "metadata": {},
   "outputs": [
    {
     "data": {
      "text/plain": [
       "Text(0.5, 1.0, 'Ages on the Titanic')"
      ]
     },
     "execution_count": 12,
     "metadata": {},
     "output_type": "execute_result"
    },
    {
     "data": {
      "image/png": "[encoded data removed]",
      "text/plain": [
       "<Figure size 864x432 with 1 Axes>"
      ]
     },
     "metadata": {
      "needs_background": "light"
     },
     "output_type": "display_data"
    }
   ],
   "source": [
    "ages = df['Age']\n",
    "\n",
    "plt.figure(figsize=(12,6))\n",
    "plt.hist(ages, bins=my_bins,edgecolor='black', linewidth=1.2)\n",
    "\n",
    "plt.xlabel(\"Ages in Years\", fontsize = 15)\n",
    "plt.ylabel(\"Frequency of Ages\", fontsize = 15)\n",
    "plt.title(\"Ages on the Titanic\", fontsize = 15)"
   ]
  },
  {
   "cell_type": "markdown",
   "metadata": {},
   "source": [
    "The data is __unimodal__ because there is a peak right around 20. The peak around 0 does not count because there are no values left of it. \n",
    "<br> \n",
    "This data is __positively skewed__ because the data is more frequent towards the left. "
   ]
  },
  {
   "cell_type": "markdown",
   "metadata": {},
   "source": [
    "**Part E**: One might wonder how a passenger's age is related to the likelihood that they would survive the Titanic disaster. To answer this question graphically, plot two density histograms on the same set of axes, showing the distribution of the ages of passengers who survived, and the distribution of the ages of passengers who did not. \n",
    "* Use the bin edges $[0,5,10,\\ldots,70,75,80]$ for both histograms.\n",
    "* This problem is about a *ship* sinking in the *ocean*, so use **coral** and **seagreen** as the facecolors for your histogram boxes.\n",
    "* Plot both histograms on a single set of axes (there should be only one panel in the figure you create), but use Matplotlib/Pandas plotting functionality to make the faces of the histogram boxes somewhat transparent, so both histograms are visible.\n",
    "* Include a legend and label your axes.\n",
    "* Comment on the results. Does your figure suggest that some age ranges are more or less likely to have survived the disaster than other ages? Fully explain your reasoning and use your figure to justify your conclusions.\n",
    "* If you noticed some relationship between age and likelihood of survival, what is one possible explanation?"
   ]
  },
  {
   "cell_type": "code",
   "execution_count": 13,
   "metadata": {},
   "outputs": [
    {
     "data": {
      "text/plain": [
       "<matplotlib.legend.Legend at 0x7f9c6ffa0d68>"
      ]
     },
     "execution_count": 13,
     "metadata": {},
     "output_type": "execute_result"
    },
    {
     "data": {
      "image/png": "[encoded data removed]",
      "text/plain": [
       "<Figure size 864x432 with 1 Axes>"
      ]
     },
     "metadata": {
      "needs_background": "light"
     },
     "output_type": "display_data"
    }
   ],
   "source": [
    "fig, ax = plt.subplots(figsize=(12,6))\n",
    "\n",
    "bins = range(0,85,5)\n",
    "df.loc[(df['Survived']==1)].hist(column = 'Age',density=True,ax=ax,facecolor='coral',edgecolor='black',bins=bins, alpha=0.3, label = \"Survived\")\n",
    "df.loc[(df['Survived']==0)].hist(column = 'Age',density=True,ax=ax,facecolor='seagreen',edgecolor='black',bins=bins, alpha=0.3, label = \"Died\")\n",
    "\n",
    "ax.set_xlabel(\"Ages in Years\",fontdict={'fontsize':15}) \n",
    "ax.set_title(\"Survived vs. Died by Age on the Titanic\",fontdict={'fontsize':15})\n",
    "ax.set_ylabel(\"Density of Ages\",fontdict={'fontsize':15}, labelpad = 10)\n",
    "ax.legend(fontsize=15)"
   ]
  },
  {
   "cell_type": "markdown",
   "metadata": {},
   "source": [
    "## Does your figure suggest that some age ranges are more or less likely to have survived the disaster than other ages?\n",
    "The following age ranges:\n",
    "<br>\n",
    "$\\large(15 - 30)$, $\\large(40 - 50)$, $\\large(55 - 70)$, $\\large(75 - 80)$ \n",
    "<br>\n",
    "Are __more__ likely to have survived the disaster than other ages because the survival rate is higher than the death rate for these age ranges. \n",
    "## If you noticed some relationship between age and likelihood of survival, what is one possible explanation?\n",
    "One possible explanation is that there were more women than men in these age groups and from our previous calculations we know that women have a higher survival rate than men from our previous calculations."
   ]
  },
  {
   "cell_type": "markdown",
   "metadata": {},
   "source": [
    "**Part F:** In Part E, we plotted two *density* histograms, showing the distributions of ages of passengers that survived or did not survive the Titanic disaster. Why would it be misleading for us to have plotted these as *frequency* histograms instead?"
   ]
  },
  {
   "cell_type": "markdown",
   "metadata": {},
   "source": [
    "It would have been misleading because we wouldn't have gotten actual probabilities. If we used a frequency histogram, we would be shown that more deaths occurred for the majority of the age groups rather then more people surviving for some age groups, which we can see from our density histogram. A density histogram normalizes the data such that one subset is not larger than the other. "
   ]
  },
  {
   "cell_type": "markdown",
   "metadata": {},
   "source": [
    "**Part G**: Do the data suggest class warfare, male chivalry, or some combination of both characteristics in the final hours aboard the Titanic?  Justify your conclusion based on the computations done above, or do any other analysis that you like, but be sure to clearly justify your conclusion. "
   ]
  },
  {
   "cell_type": "markdown",
   "metadata": {},
   "source": [
    "From our data we saw that first class survival rates were higher than second class and second class was higher than third class. Additionally, from our data we see that women have higher survival rates than men in each class that there is. Thus, our computations that were done above suggest that there was a combination of both class warfare and male chivalry aboard the Titanic in the final hours. "
   ]
  },
  {
   "cell_type": "markdown",
   "metadata": {},
   "source": [
    "[Back to top](#top)\n",
    "\n",
    "<br>\n",
    "\n",
    "<a/ id='p5'></a>\n",
    "\n",
    "### (25 pts) Problem 5 - FCQ Data from Days of Yore\n",
    "---\n",
    "\n",
    "The `fcq_data.csv` data set on Canvas contains about 12 full academic years of Faculty Course Questionnaire (FCQ) data from the University of Colorado Boulder. The data include the year and term (fall or spring), the course subject and number, the distribution of grades, and other such information. The file `fcq_data_info.xlsx` contains some **metadata**, which describes what all of the columns in the main data file are, and how to interpret some of the measurements. Note that some of the columns from the original data set have been removed in order to make the file size a bit more manageable.\n",
    "\n",
    "First, load the data file, and check out what are all of the available column headers."
   ]
  },
  {
   "cell_type": "code",
   "execution_count": 14,
   "metadata": {},
   "outputs": [
    {
     "name": "stdout",
     "output_type": "stream",
     "text": [
      "Index(['YearTerm', 'Subject', 'Course', 'CourseTitle', 'Activity_Type',\n",
      "       'Hours', 'N_EOT', 'N_ENROLL', 'N_GRADE', 'AVG_GRD', 'PCT_A', 'PCT_B',\n",
      "       'PCT_C', 'PCT_D', 'PCT_F', 'PCT_C_MINUS_OR_BELOW', 'PCT_DF', 'PCT_DFW',\n",
      "       'PCT_WDRAW', 'PCT_INCOMP', 'N_PASS', 'N_NOCRED', 'N_INCOMP',\n",
      "       'Workload_Raw', 'Workload_Hrs_Wk', 'AvgCourse', 'AvgInstructor',\n",
      "       'N_Ret'],\n",
      "      dtype='object')\n"
     ]
    }
   ],
   "source": [
    "df = pd.read_csv(\"fcq_data.csv\")\n",
    "print(df.columns)"
   ]
  },
  {
   "cell_type": "markdown",
   "metadata": {},
   "source": [
    "**Part A:** Suppose we want to restrict our attention to only undergraduate classes in the Computer Science department. Create a new DataFrame called `dfC` consisting only of undergraduate computer science classes. You may decide for yourself how to obtain only the rows corresponding to **undergraduate** and **computer science** courses. How many data points are there total?"
   ]
  },
  {
   "cell_type": "code",
   "execution_count": 15,
   "metadata": {},
   "outputs": [
    {
     "name": "stdout",
     "output_type": "stream",
     "text": [
      "There are 617 data points.\n"
     ]
    }
   ],
   "source": [
    "dfc = df.loc[(df['Subject'] == 'CSCI')&(df['Course'] < 5000)]\n",
    "print(\"There are\",len(dfc), \"data points.\")"
   ]
  },
  {
   "cell_type": "markdown",
   "metadata": {},
   "source": [
    "**Part B:** Using the undergraduate computer science courses DataFrame and the `isnull()` and/or `notnull()` (or `isna`/`notna`) methods in Pandas, determine which column(s) in are missing any data. Also using Pandas methods, report how many values are missing from each of those column(s). Finally, use the `dropna()` method to remove any rows that are missing data. For the remainder of this problem, use the cleaned DataFrame for analysis. How many data points are there in the cleaned DataFrame?"
   ]
  },
  {
   "cell_type": "code",
   "execution_count": 16,
   "metadata": {},
   "outputs": [
    {
     "name": "stdout",
     "output_type": "stream",
     "text": [
      "Column Workload_Raw has 27 missing values.\n",
      "Column Workload_Hrs_Wk has 27 missing values.\n",
      "Column AvgCourse has 27 missing values.\n",
      "Column AvgInstructor has 27 missing values.\n",
      "Column N_Ret has 23 missing values.\n",
      "There are 590 data points in the cleaned DataFrame.\n"
     ]
    }
   ],
   "source": [
    "l = []\n",
    "for column in dfc.columns: \n",
    "    nullSum = sum(dfc[column].isnull())\n",
    "    if(nullSum > 0):\n",
    "        l.append(column)\n",
    "        print(\"Column\", column, \"has\", nullSum, \"missing values.\")\n",
    "dfc = dfc.dropna(subset=l)\n",
    "print(\"There are\", len(dfc), \"data points in the cleaned DataFrame.\")"
   ]
  },
  {
   "cell_type": "markdown",
   "metadata": {},
   "source": [
    "**Part C:** One might hypothesize that students' grades are higher in one credit-hour courses than in regular lecture sections. Note that `Hours` corresponds to the number of credit-hours a class is worth, and that Average Grades are provided in the data set on a GPA-scale (4=A, 3=B, and so on).\n",
    "\n",
    "Compute the mean and median Average Grade for all undergraduate Computer Science courses, and for only the one credit-hour undergraduate Computer Science courses. Report all four of these numbers, and comment on the results. Does your calculation seem to support our hypothesis or not? "
   ]
  },
  {
   "cell_type": "code",
   "execution_count": 17,
   "metadata": {},
   "outputs": [
    {
     "name": "stdout",
     "output_type": "stream",
     "text": [
      "Mean GPA for all undergraduate computer science courses: 3.2308474576271204\n",
      "Median GPA for all undergraduate computer science courses: 3.26\n",
      "\n",
      "Mean GPA for one credit undergraduate computer science courses: 3.532608695652174\n",
      "Median GPA for one credit undergraduate computer science courses: 3.52\n"
     ]
    }
   ],
   "source": [
    "#ALL COURSES (CSCI)\n",
    "meanAll = dfc['AVG_GRD'].mean()\n",
    "medianAll = dfc['AVG_GRD'].median()\n",
    "print(\"Mean GPA for all undergraduate computer science courses:\", meanAll)\n",
    "print(\"Median GPA for all undergraduate computer science courses:\", medianAll)\n",
    "\n",
    "print()\n",
    "\n",
    "#ONE CREDIT COURSES (CSCI)\n",
    "oneCredit = dfc.loc[(dfc['Hours'] == 1)]\n",
    "meanOneCred = oneCredit['AVG_GRD'].mean()\n",
    "medianOneCred = oneCredit['AVG_GRD'].median()\n",
    "print(\"Mean GPA for one credit undergraduate computer science courses:\", meanOneCred)\n",
    "print(\"Median GPA for one credit undergraduate computer science courses:\", medianOneCred)"
   ]
  },
  {
   "cell_type": "markdown",
   "metadata": {},
   "source": [
    "Our calculations thus far seem to support the hypothesis that students' grades are higher in one credit-hour courses than in regular lecture sections. This is so because the mean GPA and median GPA are higher in one credit courses compared to all other courses. "
   ]
  },
  {
   "cell_type": "markdown",
   "metadata": {},
   "source": [
    "**Part D:** Another hypothesis one might want to test using this data set is whether or not students' grades are different based on the course *level* - lower-division (1000s and 2000s) versus upper-division (3000s and 4000s). Create side-by-side box-and-whisker plots to compare the average grades of lower-division computer science courses versus upper-division computer science courses.  Use the box-and-whisker plot conventions discussed in lecture, and be sure to include a legend and label your axes.\n",
    "\n",
    "Comment on the results. Does your figure suggest there is a difference in the distribution of average course grades, depending on whether a class is lower- or upper-division? If you noticed a difference between the two distributions, what is one cause that could explain this difference? Fully explain your reasoning."
   ]
  },
  {
   "cell_type": "code",
   "execution_count": 18,
   "metadata": {},
   "outputs": [
    {
     "data": {
      "text/plain": [
       "Text(0.5, 1.0, 'Upper Division vs. Lower Division Average Grades')"
      ]
     },
     "execution_count": 18,
     "metadata": {},
     "output_type": "execute_result"
    },
    {
     "data": {
      "image/png": "[encoded data removed]",
      "text/plain": [
       "<Figure size 864x432 with 1 Axes>"
      ]
     },
     "metadata": {
      "needs_background": "light"
     },
     "output_type": "display_data"
    }
   ],
   "source": [
    "dfc['lowerDiv'] = (dfc['Course'] < 3000)\n",
    "#By grouping by lowerDiv, we get a boolean if it is lower division as true \n",
    "#If it is upper division, the boolean will be false \n",
    "#i.e. 2700: True, 3100: False\n",
    "boxplot = dfc.boxplot(column = 'AVG_GRD', by = 'lowerDiv', figsize = (12,6))\n",
    "\n",
    "#Formatting \n",
    "boxplot.set_xticklabels(['Upper Division Courses','Lower Division Courses'], fontsize = 15)\n",
    "boxplot.set_xlabel('')\n",
    "boxplot.set_ylabel('Average GPA', fontsize = 15, labelpad = 10)\n",
    "plt.suptitle('')\n",
    "boxplot.set_title('Upper Division vs. Lower Division Average Grades', fontsize = 15)"
   ]
  },
  {
   "cell_type": "markdown",
   "metadata": {},
   "source": [
    "## Does your figure suggest there is a difference in the distribution of average course grades, depending on whether a class is lower- or upper-division?\n",
    "My figure suggests that upper division courses typically had higher grade averages than lower division courses. This is so because the upper division courses have a higher Q1, Q3, and higher median than lower division courses.  \n",
    "## If you noticed a difference between the two distributions, what is one cause that could explain this difference?\n",
    "One possible explanation for higher grade averages in upper division courses could be that students in upper division courses are both more experienced with computer science and with college. Due to this, they may have better studying habits than students in lower division courses. Furthermore, upper division students may have more dedication to their coursework because they are more certain that they want to study the things that are being taught in their courses. "
   ]
  },
  {
   "cell_type": "markdown",
   "metadata": {},
   "source": [
    "**Part E:** One more hypothesis we might want to explore is whether or not there has actually been a large increase in Computer Science enrollments in recent years. There are 12 academic years of data, which means there are 24 distinct semesters (from Fall 2006 to Spring 2018). For each semester, compute the total number of students enrolled in Computer Science courses. Note that you will almost certainly be counting some students twice (or more!), but that's okay - this is still a good measure of the total demand for Computer Science classes. Use the total number of students enrolled at the end of the term as the number of students for each class.\n",
    "\n",
    "Make a plot of the total number of Computer Science students versus the semester, with the most recent semester (Spring 2018) on the right and most distant past (Fall 2006) on the left. Label your axes. For the semester axis (the x-axis), label with the actual semester as a character string, like \"Fall 2006\" or \"Spring 2007\", for example. You may want to look up how to rotate the x-tick labels in order to make the semester name labels fit nicely. Comment on the results and any interesting trends or patterns you notice in Computer Science enrollment numbers."
   ]
  },
  {
   "cell_type": "code",
   "execution_count": 19,
   "metadata": {
    "scrolled": false
   },
   "outputs": [
    {
     "data": {
      "text/plain": [
       "([0,\n",
       "  1,\n",
       "  2,\n",
       "  3,\n",
       "  4,\n",
       "  5,\n",
       "  6,\n",
       "  7,\n",
       "  8,\n",
       "  9,\n",
       "  10,\n",
       "  11,\n",
       "  12,\n",
       "  13,\n",
       "  14,\n",
       "  15,\n",
       "  16,\n",
       "  17,\n",
       "  18,\n",
       "  19,\n",
       "  20,\n",
       "  21,\n",
       "  22,\n",
       "  23],\n",
       " <a list of 24 Text xticklabel objects>)"
      ]
     },
     "execution_count": 19,
     "metadata": {},
     "output_type": "execute_result"
    },
    {
     "data": {
      "image/png": "[encoded data removed]",
      "text/plain": [
       "<Figure size 1008x504 with 1 Axes>"
      ]
     },
     "metadata": {
      "needs_background": "light"
     },
     "output_type": "display_data"
    }
   ],
   "source": [
    "termArr = []\n",
    "totalArr = []\n",
    "\n",
    "for i in range(2006,2019): \n",
    "    for j in [1,7]:\n",
    "        if(str(i)+str(j) != '20061' and str(i)+str(j) != '20187'):\n",
    "            term = dfc.loc[(dfc['YearTerm'] == int(str(i)+str(j)))]\n",
    "            total = term['N_EOT'].sum() \n",
    "            totalArr.append(total)\n",
    "            if(j == 7):\n",
    "                termArr.append(\"Fall \" + str(i) + \" Term\")\n",
    "            if(j == 1):\n",
    "                termArr.append(\"Spring \" + str(i) + \" Term\")\n",
    "                \n",
    "plt.figure(figsize=(14,7))\n",
    "plt.xlabel('Term', fontsize=15, labelpad = 20)\n",
    "plt.ylabel('Number of Students Enrolled in CSCI Courses', fontsize=15, labelpad = 20)\n",
    "plt.title('Course Enrollment in CSCI Courses Over 24 Distinct Semesters', fontsize=15, pad=20)\n",
    "plt.plot(termArr,totalArr)\n",
    "plt.xticks(rotation=90)"
   ]
  },
  {
   "cell_type": "markdown",
   "metadata": {},
   "source": [
    "## Comment on the results and any interesting trends or patterns you notice\n",
    "I noticed that enrollment in CSCI courses has been increasing over the years. Another trend that I noticed was that enrollment tends to slightly drop during spring terms. Finally, I noticed that enrollment in CSCI courses started to grow faster after the spring 2011 term. "
   ]
  },
  {
   "cell_type": "markdown",
   "metadata": {},
   "source": [
    "**Part F:** What is one way we could determine whether or not the Computer Science total enrollment is going up more than we should expect?"
   ]
  },
  {
   "cell_type": "markdown",
   "metadata": {},
   "source": [
    "First, we could track our enrollment rates in CSCI courses throughout the years and how much enrollment is increasing from semester to semester/ year to year. Afterwards, we could create an average enrollment growth plot of __other schools__ who have students enrolling in CSCI courses. Then, if our enrollment growth rate in CSCI courses is higher than the other schools that we compare to, then we would know that our Computer Science total enrollment is going up more than we should expect. "
   ]
  },
  {
   "cell_type": "markdown",
   "metadata": {},
   "source": [
    "**Part G:** Formulate another interesting question you could potentially answer using this data set. You do not need to actually answer it, but just frame the question clearly. What are some of the relevant column(s) in the data set?"
   ]
  },
  {
   "cell_type": "markdown",
   "metadata": {},
   "source": [
    "Another question that we could potentially answer is how the number of credit hours corresponding to a course affects the average grade within that course. This is interesting to me because I hypothesize that courses with more credit hours will have lower average grades in them. The relevant columns for this question would be __'Hours'__ and __'AVG_GRD'__.  "
   ]
  },
  {
   "cell_type": "markdown",
   "metadata": {},
   "source": [
    "[Back to top](#top)"
   ]
  }
 ],
 "metadata": {
  "kernelspec": {
   "display_name": "Python 3",
   "language": "python",
   "name": "python3"
  },
  "language_info": {
   "codemirror_mode": {
    "name": "ipython",
    "version": 3
   },
   "file_extension": ".py",
   "mimetype": "text/x-python",
   "name": "python",
   "nbconvert_exporter": "python",
   "pygments_lexer": "ipython3",
   "version": "3.7.1"
  }
 },
 "nbformat": 4,
 "nbformat_minor": 2
}
