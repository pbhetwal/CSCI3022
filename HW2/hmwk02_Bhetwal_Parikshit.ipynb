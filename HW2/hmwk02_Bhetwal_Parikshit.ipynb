{
 "cells": [
  {
   "cell_type": "markdown",
   "metadata": {},
   "source": [
    "<a id='top'></a>\n",
    "\n",
    "# Homework 2: Introduction to Probability and Simulation \n",
    "***\n",
    "\n",
    "**Name**: __Parikshit Bhetwal__\n",
    "\n",
    "***\n",
    "\n",
    "This assignment is due on Canvas by **5 PM on Friday February 15**. Your solutions to theoretical questions should be done in Markdown directly below the associated question.  Your solutions to computational questions should include any specified Python code and results as well as written commentary on your conclusions.  Remember that you are encouraged to discuss the problems with your classmates, but **you must write all code and solutions on your own**.\n",
    "\n",
    "**NOTES**: \n",
    "\n",
    "- Any relevant data sets should be available under the **Data** module on Canvas, as well as in the zipped folder in which you obtained this assignment. To make life easier on the graders if they need to run your code, do not change the relative path names here. Instead, move the files around on your computer.\n",
    "- If you're not familiar with typesetting math directly into Markdown then by all means, do your work on paper first and then typeset it later.  Remember that there is a [reference guide](https://math.meta.stackexchange.com/questions/5020/mathjax-basic-tutorial-and-quick-reference) linked on Canvas on writing math in Markdown. **All** of your written commentary, justifications and mathematical work should be in Markdown.\n",
    "- Because you can technically evaluate notebook cells in a non-linear order, it's a good idea to do Kernel $\\rightarrow$ Restart & Run All as a check before submitting your solutions.  That way if we need to run your code you will know that it will work as expected. \n",
    "- It is **bad form** to make your reader interpret numerical output from your code.  If a question asks you to compute some value from the data you should show your code output **AND** write a summary of the results in Markdown directly below your code. \n",
    "- This probably goes without saying, but... For any question that asks you to calculate something, you **must show all work and justify your answers to receive credit**. Sparse or nonexistent work will receive sparse or nonexistent credit. \n",
    "\n",
    "---\n",
    "**Shortcuts:**  [Problem 1](#p1) | [Problem 2](#p2) | [Problem 3](#p3) | [Problem 4](#p4)\n",
    "\n",
    "---"
   ]
  },
  {
   "cell_type": "code",
   "execution_count": 1,
   "metadata": {
    "scrolled": true
   },
   "outputs": [],
   "source": [
    "import pandas as pd\n",
    "import numpy as np\n",
    "import matplotlib.pylab as plt\n",
    "%matplotlib inline"
   ]
  },
  {
   "cell_type": "markdown",
   "metadata": {},
   "source": [
    "***\n",
    "<a/ id='p1'></a>\n",
    "[Back to top](#top)\n",
    "\n",
    "### [30 points] Problem 1\n",
    "\n",
    "Courtney, Nick and Jarrod are playing special version of <a href=\"https://en.wikipedia.org/wiki/Monopoly_(game)\">Monopoly</a>. Because the three of them are all scoundrels, they are all currently in Jail. In Monopoly, players roll two 6-sided dice on their turn. In their version of Monopoly, however, to get out of Jail, a player must roll *doubles* (the two dice have the same outcome) and must keep re-rolling the dice until they get doubles during their first turn in Jail. As soon as a player rolls doubles, they are let out of Jail and their turn ends. Let $D$ represent the event that a player rolls doubles.\n",
    "\n",
    "Work the following problems by hand unless otherwise stated (but don't be afraid to simulate to check your result!). It is okay to use Python as a calculator, of course."
   ]
  },
  {
   "cell_type": "markdown",
   "metadata": {},
   "source": [
    "**Part A**: What is the probability that a player will roll doubles on their first, second, or third roll while in jail? Note that if a player rolls doubles on their third roll, for example, then they must *not* have rolled doubles on either of the first two rolls. Keep 4 decimal places in your answer."
   ]
  },
  {
   "cell_type": "markdown",
   "metadata": {},
   "source": [
    "### Probability of doubles on first roll:\n",
    "$\\large P(D) = \\frac{1}{36}+\\frac{1}{36}+\\frac{1}{36}+\\frac{1}{36}+\\frac{1}{36}+\\frac{1}{36} = \\frac{1}{6}$\n",
    "<br>\n",
    "### Probability of doubles on second roll: \n",
    "$\\large P(D_2) = \\frac{1}{6} \\cdot \\frac{5}{6} = \\frac{5}{36}$\n",
    "<br>\n",
    "### Probability of doubles on third roll: \n",
    "$\\large P(D_3) = \\frac{5}{6} \\cdot \\frac{5}{6} \\cdot \\frac{1}{6} = \\frac{25}{216}$\n",
    "### Probability of doubles on first, second, or third roll: \n",
    "$\\large P(D) + P(D_2) + P(D_3) = \\frac{1}{6} + \\frac{5}{36} + \\frac{25}{216} = 0.4213$"
   ]
  },
  {
   "cell_type": "markdown",
   "metadata": {},
   "source": [
    "**Part B:** *The plot thickens!* Darth Ketelsen is well-known to meddle in Jedi affairs. Did I mention that Courtney, Nick and Jarrod are all in Computer Science Jedi training? That's not important for this problem, but it is interesting. \n",
    "\n",
    "Turns out, Darth Ketelsen will occasionally secretly swap out the dice in the Jedi's Monopoly game for a pair of dice that have been weighted. Each of Darth Ketelsen's two dice is weighted such that a 6 is rolled with probability $1/2$, and all the other numbers are equally likely to be rolled. If Darth Ketelsen switches the dice for her weighted ones, she does so before the game begins, and the entire game of Monopoly is played with the same pair of dice, whether they are fair or weighted.\n",
    "\n",
    "What is the probability of rolling doubles on the first, second or third roll while in jail, using Darth Ketelsen's weighted dice? Again, keep 4 decimal places in your answer."
   ]
  },
  {
   "cell_type": "markdown",
   "metadata": {},
   "source": [
    "### We have that:\n",
    "$\\large P(6) = \\frac{1}{2}$\n",
    "<br>\n",
    "\n",
    "### So the probability of rolling the other 5 would be:\n",
    "$\\large P(1) = P(2) = P(3) = P(4) = P(5) = \\frac{1}{2} \\div 5 = 0.1 = \\frac{1}{10}$\n",
    "<br>\n",
    "\n",
    "### Probability of rolling doubles on first roll: \n",
    "$\\large P(D) = (\\frac{1}{10})^{2} + (\\frac{1}{10})^{2} + (\\frac{1}{10})^{2} + (\\frac{1}{10})^{2} + (\\frac{1}{10})^{2} + (\\frac{1}{2})^{2} = \\frac{5}{100} + \\frac{1}{4} = \\frac{3}{10}$\n",
    "\n",
    "### Probability of rolling doubles on second roll:\n",
    "$\\large P(D_2) = \\frac{3}{10} \\cdot \\frac{7}{10} = \\frac{21}{100}$\n",
    "\n",
    "### Probability of rolling doubles on third roll: \n",
    "$\\large P(D_3) = \\frac{7}{10} \\cdot \\frac{7}{10} \\cdot \\frac{3}{10} = \\frac{147}{1000}$\n",
    "\n",
    "### Probability of rolling doubles on first, second, or third roll: \n",
    "$\\large P(D) + P(D_2) + P(D_3) = \\frac{3}{10} + \\frac{21}{100} + \\frac{147}{1000} = 0.6570$ "
   ]
  },
  {
   "cell_type": "markdown",
   "metadata": {},
   "source": [
    "**Part C:** Suppose that before any given game of Monopoly, Darth Ketelsen replaces the normal six-sided dice with her loaded dice with probability $0.25$. Then the players proceed to play their entire game using either the loaded dice, or the fair dice.  It is unknown to the player who is rolling, however, whether they are using the unfair or fair dice. What is the probability that a player gets doubles within three rolls? Keep 4 decimal places in your answer."
   ]
  },
  {
   "cell_type": "markdown",
   "metadata": {},
   "source": [
    "$\\large P(D_3) = P(D_3|Loaded)P(Loaded) + P(D_3|Fair)P(Fair) = \\frac{657}{1000} \\cdot \\frac{1}{4} + \\frac{91}{216} \\cdot \\frac{3}{4} = 0.4802$"
   ]
  },
  {
   "cell_type": "markdown",
   "metadata": {},
   "source": [
    "**Part D:** While it is unknown whether they are playing with Darth Ketelsen's unfair dice, or with fair dice, Courtney, Jarrod and Nick are armed and dangerous... with *probability theory*, that is! Well, probability theory and lightsabers.\n",
    "\n",
    "Suppose that starting from jail, all three of Courtney, Jarrod and Nick have taken one turn, and all three of them have managed to roll doubles within 3 rolls. If you were not given this information, you would assume that there is a probability of $0.25$ that they are playing with Darth Ketelsen's unfair dice. But now, given this information, what is the probability that they are playing with the unfair dice?"
   ]
  },
  {
   "cell_type": "markdown",
   "metadata": {},
   "source": [
    "$\\large P(Loaded|D_3) = \\frac{{P(D_3|Loaded)}^{3}P(Loaded)}{P(D_3|Loaded)^{3}P(Loaded) + P(D_3|Fair)^{3}P(Fair)} = \\frac{(\\frac{657}{1000})^{3} \\cdot \\frac{1}{4}}{(\\frac{657}{1000})^{3}\\cdot \\frac{1}{4} + (\\frac{91}{216})^{3} \\cdot \\frac{3}{4}} = 0.5583$"
   ]
  },
  {
   "cell_type": "markdown",
   "metadata": {},
   "source": [
    "**Part E**:  First, work out **by hand** a formula for the probability in general that Courtney, Jarrod and Nick are playing with Darth Ketelsen's unfair dice, given that $n$ players in a row have gotten out of jail by rolling doubles within 3 rounds. That is, you want to find a formula for $P(U \\mid D_n)$ in terms of $n$.\n",
    "\n",
    "Then, define a function `prob_unfair` to calculate $P(U \\mid D_n)$.  This function should only take one positive integer argument, $n$.\n",
    "\n",
    "Verify that your function is performing as expected by checking your answer to **Part D** by plugging in $n=3$."
   ]
  },
  {
   "cell_type": "markdown",
   "metadata": {},
   "source": [
    "$\\large P(U|D_n) = \\frac{{P(D_n|U)}^{n}P(U)}{P(D_n|U)^{n}P(U) + P(D_n|U^{c})^{n}P(U^{c})} = \\frac{(\\frac{657}{1000})^{n} \\cdot \\frac{1}{4}}{(\\frac{657}{1000})^{n}\\cdot \\frac{1}{4} + (\\frac{91}{216})^{n} \\cdot \\frac{3}{4}}$"
   ]
  },
  {
   "cell_type": "code",
   "execution_count": 2,
   "metadata": {},
   "outputs": [
    {
     "name": "stdout",
     "output_type": "stream",
     "text": [
      "When n is 3 the probability is: 0.5583407133594117\n",
      "\n",
      "Thus, this matches with part D.\n"
     ]
    }
   ],
   "source": [
    "def prob_unfair(n):\n",
    "    #Unfair\n",
    "    D3Unfair = (657/1000) \n",
    "    Unfair = (1/4)\n",
    "    \n",
    "    #Fair\n",
    "    D3Fair = (91/216)\n",
    "    Fair = (3/4)\n",
    "    return ((D3Unfair**n)*Unfair)/(((D3Unfair**n)*Unfair) + ((D3Fair**n)*Fair))\n",
    "\n",
    "print(\"When n is 3 the probability is:\",prob_unfair(3))\n",
    "print(\"\\nThus, this matches with part D.\")"
   ]
  },
  {
   "cell_type": "markdown",
   "metadata": {},
   "source": [
    "**Part F:**  What is the smallest value of $n$ players in a row rolling doubles within 3 rounds that would lead to a higher-than-90% probability that the dice are unfair?  Plugging larger and larger values for $n$ into your `prob_unfair` function is a very reasonable way to check this."
   ]
  },
  {
   "cell_type": "markdown",
   "metadata": {},
   "source": [
    "The smallest value of $\\large n$ players in a row rolling doubles within 3 rounds that would lead to higher-than-90% probability that the dice are unfair is:\n",
    "<br>\n",
    "$\\large n = 8$"
   ]
  },
  {
   "cell_type": "code",
   "execution_count": 3,
   "metadata": {},
   "outputs": [
    {
     "name": "stdout",
     "output_type": "stream",
     "text": [
      "When n is 4: 0.6634659662977052\n",
      "When n is 5: 0.7545680810684909\n",
      "When n is 6: 0.8274231452894566\n",
      "When n is 7: 0.8820326514381409\n",
      "When n is 8: 0.9210113971568146\n"
     ]
    }
   ],
   "source": [
    "print(\"When n is 4:\", prob_unfair(4))\n",
    "print(\"When n is 5:\", prob_unfair(5))\n",
    "print(\"When n is 6:\", prob_unfair(6))\n",
    "print(\"When n is 7:\", prob_unfair(7))\n",
    "print(\"When n is 8:\", prob_unfair(8))"
   ]
  },
  {
   "cell_type": "markdown",
   "metadata": {},
   "source": [
    "**Part G:** Jarrod, Courtney and Nick are becoming suspicious that the dice they are playing with are unfair. They decide to keep track of how frequently each player rolls doubles. They will roll the dice `n_trials` number of times, and make a plot of their running estimate of the probability of rolling doubles, from the moment they start rolling until they finally finish all `n_trials` rolls. So, the x-axis of their plot will be the number of rolls, and the y-axis will be the running estimate of the probability of rolling doubles with the given dice, with the number of trials given by the x-axis.\n",
    "\n",
    "Write code to run 4 independent simulations of 1,000 trials each to estimate the probability of rolling doubles using the fair dice, and another 4 independent simulations to estimate the probability of rolling doubles using Darth Ketelsen's loaded dice, and plot their running estimate curves on the same set of axes. \n",
    "\n",
    "In order to more easily distinguish between the loaded dice estimates and the fair dice estimates, plot the loaded dice estimates as lines using the color `tomato` and plot the fair dice estimates using the color `seagreen`. Be sure to label your axes and include a legend.\n",
    "\n",
    "Finally, comment on how many flips appear to be necessary before Jarrod, Courtney and Nick might become convinced of what type of dice they are playing with (fair or unfair). Justify your answer fully using your figure."
   ]
  },
  {
   "cell_type": "code",
   "execution_count": 26,
   "metadata": {},
   "outputs": [
    {
     "data": {
      "text/plain": [
       "Text(0.5, 1.0, 'Number of Trials vs Probability of Doubles')"
      ]
     },
     "execution_count": 26,
     "metadata": {},
     "output_type": "execute_result"
    },
    {
     "data": {
      "image/png": "[encoded data removed]",
      "text/plain": [
       "<Figure size 864x432 with 1 Axes>"
      ]
     },
     "metadata": {
      "needs_background": "light"
     },
     "output_type": "display_data"
    }
   ],
   "source": [
    "#Number of trials\n",
    "n_trials = 1000\n",
    "def fairDie(): \n",
    "    #Array of fair die \n",
    "    dice = [1,2,3,4,5,6]\n",
    "    #Create arrays with random choice from the fair die with size n_trials\n",
    "    diceA = np.random.choice(dice, size=n_trials)\n",
    "    diceB = np.random.choice(dice, size=n_trials)\n",
    "    #Create an array when diceA equals diceB\n",
    "    ifDoubles = (diceA == diceB)\n",
    "    #Take the cumulative sum of the previous array \n",
    "    return ifDoubles.cumsum()/np.arange(1,1001)\n",
    "\n",
    "#Similar to fairDie implementation \n",
    "def unfairDie(): \n",
    "    dice = [1,2,3,4,5,6,6,6,6,6]\n",
    "    diceA = np.random.choice(dice, size=n_trials)\n",
    "    diceB = np.random.choice(dice, size=n_trials)\n",
    "    ifDoubles = (diceA == diceB)\n",
    "    return ifDoubles.cumsum()/np.arange(1,1001)\n",
    "\n",
    "#Two arrays for our fair die and unfair die \n",
    "totalFair = [] \n",
    "totalUnfair = []\n",
    "fig, ax = plt.subplots(figsize=(12,6))\n",
    "#Append to previous arrays \n",
    "for i in range(4):\n",
    "    totalFair.append(fairDie())\n",
    "    totalUnfair.append(unfairDie())\n",
    "#Plotting \n",
    "for j in range(4):\n",
    "    #So we only have two labels \n",
    "    if(j == 0): \n",
    "        plt.plot(np.arange(1,1001), totalFair[j], color = \"tomato\", label = \"Fair Dice\")\n",
    "        plt.plot(np.arange(1,1001), totalUnfair[j], color = \"seagreen\", label = \"Unfair Dice\")\n",
    "    else:\n",
    "        plt.plot(np.arange(1,1001), totalFair[j], color = \"tomato\")\n",
    "        plt.plot(np.arange(1,1001), totalUnfair[j], color = \"seagreen\")\n",
    "plt.legend(fontsize = 14)\n",
    "plt.xlabel(\"Number of Trials\", fontsize = 18)\n",
    "plt.ylabel(\"Probability of Doubles\", fontsize = 18)\n",
    "plt.title(\"Number of Trials vs Probability of Doubles\", fontsize = 18)"
   ]
  },
  {
   "cell_type": "markdown",
   "metadata": {},
   "source": [
    "# Comment on how many flips appear to be necessary before Jarrod, Courtney and Nick might become convinced of what type of dice they are playing with (fair or unfair)\n",
    "The amount of flips is about __100__ when it becomes apparent that the probability of doubles changes with the type of dice they have. Thus, __100 flips__ appear to be necessary before Jarrod, Courtney and Nick might become convinced of what type of dice they are playing with (fair or unfair). We can make this observation because around 100 flips the difference between the probability of doubles with fair dice versus unfair dice becomes apparent on the figure that I have displayed. "
   ]
  },
  {
   "cell_type": "markdown",
   "metadata": {},
   "source": [
    "***\n",
    "<a/ id='p2'></a>\n",
    "[Back to top](#top)\n",
    "\n",
    "### [25 points] Problem 2\n",
    "\n",
    "Sonic and Amy are two average hedgehogs who have to run around campus every day for classes and hobbies. When they leave the Engineering Center (E) from their Data Science class, they like to go to 5 other places on campus: the Gym ($G~$) to exercise, the Library ($L~$) to learn, the Hill ($H~$) to grab a sandwich, Weathertech Cafe ($W~$) for a pizza, and the mountains ($M~$) to frolic with their marmot friends.\n",
    "\n",
    "Here are some rules governing their movements throughout the fair city of Boulder:\n",
    "* When Sonic and/or Amy is leaving one location, they randomly select one of the available adjacent locations, with equal probability.\n",
    "* This includes back-tracking, but note that to return to their original location would require 2 moves.\n",
    "* Assume that all moves require the same amount of time.\n",
    "* They are also not allowed to stay put; they always must move to some *other* adjacent location.\n",
    "* Sonic and Amy also act **independently** of one another. That is, the probability that Sonic goes from one place to another is independent of Amy's movements.\n",
    "\n",
    "<img src=\"http://www.cs.colorado.edu/~tonyewong/home/resources/sonic_and_amy_statespace.png\" style=\"width: 300px;\"/>"
   ]
  },
  {
   "cell_type": "markdown",
   "metadata": {},
   "source": [
    "**Part A**: Amy is currently at the Gym and she has worked up quite an appetite! She wants to go to either the Hill or the Weathertech Cafe, and is soooooooo hungry that she must land on exactly the $H$ or $W$ node in exactly one or two moves. Compute (by hand) the probability that Amy ends up at the the Hill ($H$) or the Weathertech Cafe ($W$) in exactly one or two moves, given that she is starting from the Gym ($G$). "
   ]
  },
  {
   "cell_type": "markdown",
   "metadata": {},
   "source": [
    "# One move to H  from G\n",
    "$\\large P(H_1) = \\frac{1}{3}$\n",
    "<br>\n",
    "because there are three possible places to go from the Gym $(G)$ to get to the Hill $(H)$. \n",
    "# Two moves to H from G\n",
    "$\\large P(H_2) = \\frac{1}{3}\\cdot \\frac{1}{4} = \\frac{1}{12}$\n",
    "<br> \n",
    "because there are three possible places to go from the Gym $(G)$ and then 4 possible places to go to from the Library $(L)$ to get to the Hill $(H)$. \n",
    "# Two moves to W from G \n",
    "$\\large P(W_2) = \\frac{1}{3}\\cdot\\frac{1}{4} + \\frac{1}{3}\\cdot\\frac{1}{3} = \\frac{7}{36}$\n",
    "<br><br>\n",
    "because we can either go from $G \\rightarrow L \\rightarrow W$ or from $G \\rightarrow E \\rightarrow W$. So, from the Gym $(G)$ we have 3 possible ways to go, from the Library $(L)$ we have 3 possible ways to go, and from the Engineering Center $(E)$ we have 3 possible ways to go. \n",
    "# Probability that Amy ends up at the the Hill or the Weathertech Cafe in exactly one or two moves, given that she is starting from the Gym\n",
    "$\\large \\frac{1}{3}+\\frac{1}{12}+\\frac{7}{36} = \\frac{11}{18} = 0.6111$\n",
    "<br>\n",
    "When we add up all the former probabilties. "
   ]
  },
  {
   "cell_type": "markdown",
   "metadata": {},
   "source": [
    "**Part B**: Suppose that Amy is at the Gym and Sonic is working late at the Engineering Center. Later, they both leave and wander around, randomly and independently of one another, as described above.\n",
    "1. What is the probability that they run into each other in the same location on the first location visited?  \n",
    "2. Given their two initial locations, what is the probability that they meet at the Hill after 2 moves?"
   ]
  },
  {
   "cell_type": "markdown",
   "metadata": {},
   "source": [
    "# Question 1\n",
    "- After one move, Sonic could either end up at the Weathertech Cafe $(W)$, the Library $(L)$, or the Gym $(G)$.\n",
    "- After one move, Amy could either end up at the the Hill $(H)$, the Library $(L)$, or the Engineering Center $(E)$.\n",
    "- From these two observations, we know that the only place that they could run into each other is the Library $(L)$.\n",
    "<br><br>\n",
    "$\\large P(Sonic_{L}) = \\frac{1}{3}$ \n",
    "<br>\n",
    "because Sonic has three possible places to go and $L$ is one of them. \n",
    "<br><br>\n",
    "$\\large P(Amy_{L}) = \\frac{1}{3}$\n",
    "<br>\n",
    "because Amy has three possible places to go and $L$ is one of them. \n",
    "<br><br> \n",
    "$\\large P(Sonic_{L} \\cap Amy_{L}) =  \\frac{1}{3} \\cdot \\frac{1}{3} = \\frac{1}{9} = 0.111\\bar1$\n",
    "<br> \n",
    "Is the probability that they run into each other in the same location on the first location visited. \n",
    "\n",
    "# Question 2\n",
    "- The only ways for Sonic to get to the hill in two moves is to go to the Library first $(L)$ and then the Hill $(H)$ or the $(G)$ first and the Hill $(H)$.\n",
    "- The only way for Amy to get to the hill in two moves is to go to the Library first $(L)$ and then the Hill $(H)$.\n",
    "<br><br> \n",
    "$\\large P(Sonic_{H2}) = (\\frac{1}{3} \\cdot \\frac{1}{4}) + (\\frac{1}{3} \\cdot \\frac{1}{3}) = \\frac{7}{36}$ \n",
    "<br>\n",
    "because Sonic has three possible places to go from the Engineering Center $(E)$ and then four possible places from the Library $(L)$ or three possible places to go from the Engineering Center $(E)$ and then three possible places to go from the Gym $(G)$.\n",
    "<br><br> \n",
    "$\\large P(Amy_{H2}) = \\frac{1}{3} \\cdot \\frac{1}{4} = \\frac{1}{12}$ \n",
    "<br>\n",
    "because Amy has three possible places to go from the Gym $(G)$ and then four possible places from the Library $(L)$. \n",
    "<br><br>\n",
    "$\\large P(Sonic_{H2} \\cap Amy_{H2}) = \\frac{1}{12} \\cdot \\frac{7}{36} = \\frac{7}{432} = 0.01620$\n",
    "<br> \n",
    "Is the probability that they both meet at the Hill after 2 moves. "
   ]
  },
  {
   "cell_type": "markdown",
   "metadata": {},
   "source": [
    "**Part C**: Write a simulation to confirm that your by-hand calculations in **Parts A** and **B** are correct. Make sure you run your simulations for enough trials that your estimates are reasonably close to your analytic results. In addition to showing your code, you should explain in Markdown (not just in code comments) what your code is doing and why it is a reasonable approximation of the probabilities in **Parts A** and **B**."
   ]
  },
  {
   "cell_type": "markdown",
   "metadata": {},
   "source": [
    "# Part A Code Explanation \n",
    "- First, I have declared the amount of trials that we will be running for, I chose 50000 because I believe it is a sufficient number of trials to have reasonably close estimates. \n",
    "- Secondly, I declared G, L, and E as the Gym, Library, and Engineering Center as arrays with their possible destinations in one single move. \n",
    "- Third, I declared a counter called counter that keeps track of when we end up at W(Weathertech Cafe) or H(The Hill) in either one move or two moves, which is what we want.\n",
    "- Fourth, I created a loop for the number of trials I declared and within it I have: \n",
    "    - A varialbe called oneMove that randomizes a destination from the Gym \n",
    "    - Then, we check to see if in one move we get to the Hill \n",
    "        - If we do, we increment the counter \n",
    "        - We know that there is only one way to get to the Hill in one move \n",
    "        - We know that we cannot get to the Weathertech Cafe in one move, so we don't need to check for it \n",
    "    - Another way to get to W or H is from L, so we check to see if in one move we get to L \n",
    "        - If we do end up at L in one move, I have a variable called twoMovesL that randomizes possible destinations from L \n",
    "        - If we either land on H or W from this twoMovesL variable, we increment the counter since this would be the ways to either get to H or W from L in two moves \n",
    "    - Otherwise, we check to see if we got to E from G beause that is another way to get to W\n",
    "        - twoMovesE varialbe randomizes the choices we have from E\n",
    "        - If we get to W from E, we increment the counter\n",
    "        - We cannot get to H from E in two moves, so we don't check \n",
    "- Finally, we print counter/trials since this would get us the estimated probability we want for part A\n",
    "<br>\n",
    "This is a reasonable approximation for Part A because I get incredibly close to the 0.6111 I had in Part A. \n",
    "\n",
    "# Part B - Question 1 Code Explanation \n",
    "- I am using the trials, G, L, and E variables defined from the last problem for this problem as well \n",
    "- First, I declared a counter called counterB1 that'll keep track of when both Amy and Sonic end up at the same spot in their first move \n",
    "- Second, I created a loop for the number of trials I declared and within it I have: \n",
    "    - A varialbe called SonicOne that randomizes the destination for Sonic in one move (from E) \n",
    "    - A varialbe called AmyOne that randomizes the destination for Amy in move move (from G) \n",
    "        - We only randomize from their starting positions because we are checking where they end up in two moves \n",
    "    - Next, I have an if statement to checks to see if SonicOne and AmyOne are the same since we randomized their destination in one move earlier\n",
    "    - If Sonic and Amy are equal, they are in the same place and thus we can increment the counter\n",
    "- Finally, we print counterB1/trials since this would get us the estimated probability we want for part B-1\n",
    "<br>\n",
    "This is a reasonable approximation for Part B-1 because I get incredibly close to the 0.1111 I had in Part B-1.\n",
    "\n",
    "# Part B - Question 2 Code Explanation \n",
    "- I am using the trials, G, L, and E variables defined from the problem A for this problem as well \n",
    "- First, I declared a counter called counterB2 to keep track of when both Amy and Sonic end up at the Hill in two moves \n",
    "- Second, I created a loop for the number of trials I declared and within it I have:  \n",
    "    - A variable called SonicB2One that randomizes the destination for Sonic in one move (from E) \n",
    "    - A varialbe called AmyB2One that randomizes the destination for Amy in move move (from G)\n",
    "    - Sonic can either end up at G or L and still is able to get to H in two moves after one move  \n",
    "    - Amy can only end up at L and get to H in two moves after one move \n",
    "    - So, I then have two if statements that either check if Sonic and Amy are at G and L respectively or L and L respectively \n",
    "    - I then have a variable called SonicB2Two and AmyB2Two that randomizes their destinations from either (G and L) or (L and L) respectively. \n",
    "    - After that random destination picking, we check to see if both Amy and Sonic are at H in both these previously mentioned if statements \n",
    "    - If they both are at H, then we increment the counter \n",
    "- Finally, we print counterB2/trials since this would get us the estimated probability we want for part B-2\n",
    "<br>\n",
    "This is a reasonable approximation for Part B-2 because I get incredibly close to the 0.01620 I had in Part B-2."
   ]
  },
  {
   "cell_type": "code",
   "execution_count": 17,
   "metadata": {},
   "outputs": [
    {
     "name": "stdout",
     "output_type": "stream",
     "text": [
      "Part A: Probability that Amy ends up at the the Hill or the Weathertech Cafe in exactly one or two moves: 0.6122\n",
      "Part B - 1: probability that they run into each other in the same location on the first move: 0.11032\n",
      "Part B - 2: Probability that they meet at the Hill after 2 moves: 0.01612\n"
     ]
    }
   ],
   "source": [
    "#The number of trials I shall be running \n",
    "trials = 50000 \n",
    "#The possible destinations from the Gym\n",
    "G = ['H','L','E']\n",
    "#The possible destinations from The Library \n",
    "L = ['H','G','E','W']\n",
    "#The possible destinations from the Engineering Center\n",
    "E = ['L','G','W']\n",
    "    \n",
    "'''Part A: Compute the probability that Amy ends up \n",
    "at the the Hill ( 𝐻 ) or the Weathertech Cafe ( 𝑊 ) \n",
    "in exactly one or two moves, given that she is starting from the Gym ( 𝐺 ).'''\n",
    "#The counter to keep track of landing on W or H in one or two moves \n",
    "counter = 0 \n",
    "#Loop through our number of trials \n",
    "for i in range(trials):\n",
    "    #Randomize a choice from the Gym, this is equivalent to one move \n",
    "    oneMove = np.random.choice(G)\n",
    "    #If in one move we get to H, increment the counter \n",
    "    #This is the only way to get to H in one move from G \n",
    "    if(oneMove == 'H'):\n",
    "        counter = counter + 1\n",
    "    #Else, another way to get to H or W is from L \n",
    "    elif(oneMove == 'L'):\n",
    "        #Randomize a destination from L \n",
    "        twoMovesL = np.random.choice(L)\n",
    "        #If we land at either H or W, increment the counter\n",
    "        if(twoMovesL == 'H' or twoMovesL == 'W'):\n",
    "            counter = counter + 1\n",
    "    #Otherwise, check to see if we got to E from G, this is another way to get to W\n",
    "    #NOTE: CANNNOT GET TO H FROM E \n",
    "    elif(oneMove == 'E'): \n",
    "        #Randomize destinations from E \n",
    "        twoMovesE = np.random.choice(E)\n",
    "        #If we get to W, increment the counter\n",
    "        if(twoMovesE == 'W'): \n",
    "            counter = counter + 1\n",
    "print(\"Part A: Probability that Amy ends up at the the Hill or the Weathertech Cafe in exactly one or two moves:\", counter/trials)\n",
    "\n",
    "'''Part B - 1. What is the probability that they run into each other \n",
    "in the same location on the first location visited? '''\n",
    "#A counter that keeps track of if Amy and Sonic are on the same spot \n",
    "counterB1 = 0 \n",
    "#Loop through our number of trials \n",
    "for i in range(trials):\n",
    "    #Randomize a destination for Sonic from the Engineering Center \n",
    "    SonicOne = np.random.choice(E)\n",
    "    #Randomize a destination for Amy from the Gym \n",
    "    AmyOne = np.random.choice(G)\n",
    "    #If Amy and Sonic at the same location \n",
    "    if(SonicOne == AmyOne): \n",
    "        #Increment the counter\n",
    "        counterB1 = counterB1 + 1\n",
    "print(\"Part B - 1: probability that they run into each other in the same location on the first move:\", counterB1/trials)\n",
    "\n",
    "'''Part B - 2: Given their two initial locations, what is the probability that \n",
    "they meet at the Hill after 2 moves?''' \n",
    "#A counter that keeps track of if Amy and Sonic end up at the Hill in two moves \n",
    "counterB2 = 0\n",
    "#Loop through our number of trials \n",
    "for i in range(trials):\n",
    "    #Randomize a destination for Sonic from the Engineering Center \n",
    "    SonicB2One = np.random.choice(E)\n",
    "    #Randomize a destination for Amy from the Gym \n",
    "    AmyB2One = np.random.choice(G)\n",
    "    #Sonic can get to H from either (G or L) from his start (E)\n",
    "    #If Sonic is on G and Amy on L \n",
    "    if(SonicB2One == 'G' and AmyB2One == 'L'): \n",
    "        #Randomize Sonics destination from G \n",
    "        SonicB2Two = np.random.choice(G)\n",
    "        #Randomize Amys destination from L \n",
    "        AmyB2Two = np.random.choice(L)\n",
    "        #If they are both on the Hill afterwards \n",
    "        if(SonicB2Two == 'H' and AmyB2Two == \"H\"):\n",
    "            #Increment the counter\n",
    "            counterB2 = counterB2 + 1 \n",
    "    #Sonic is at the Library and Amy is too \n",
    "    elif(SonicB2One == 'L' and AmyB2One == 'L'): \n",
    "        #Randomize destinations for both Amy and Sonic \n",
    "        SonicB2Two = np.random.choice(L)\n",
    "        AmyB2Two = np.random.choice(L)\n",
    "        #If they are both at the Hill \n",
    "        if(SonicB2Two == 'H' and AmyB2Two == \"H\"):\n",
    "            #Increment the counter \n",
    "            counterB2 = counterB2 + 1 \n",
    "print(\"Part B - 2: Probability that they meet at the Hill after 2 moves:\", counterB2/trials)"
   ]
  },
  {
   "cell_type": "markdown",
   "metadata": {},
   "source": [
    "**Part D:** Use your simulation from Part C, possibly with some modification, to estimate the **long-run proportion of time that the hedgehogs spend in the mountains**. You can estimate this using the following technique:\n",
    "* walk a hedgehog around the graph for a very large number of steps (at least 100,000 steps), \n",
    "* keep track of which location the hedgehog is at, at each step, then\n",
    "* the proportion of their time spent at any given location may be estimated as the number of times they are at the Mountains node ($M$), divided by the total number of steps.\n",
    "\n",
    "You may be left wondering: Where should I start my hedgehog? That is very weird question, but totally valid here! It turns out that **it should not matter** where you start the hedgehog. Verify this by making your estimate from three different starting locations. Be sure to include some commentary in Markdown to state your answer for the long-run proportion of time that the hedgehogs spend in the mountains, and comment on whether it appears to depend on the initial location."
   ]
  },
  {
   "cell_type": "code",
   "execution_count": 6,
   "metadata": {},
   "outputs": [
    {
     "name": "stdout",
     "output_type": "stream",
     "text": [
      "Proportion of time spent in the mountains when starting at L : 0.0614\n",
      "Proportion of time spent in the mountains when starting at L : 0.06168\n",
      "Proportion of time spent in the mountains when starting at E : 0.06315\n"
     ]
    }
   ],
   "source": [
    "#Number of steps \n",
    "n_steps = 100000\n",
    "\n",
    "#All the nodes \n",
    "start = ['M','H','G','E','W','L']\n",
    "\n",
    "#Individual nodes \n",
    "M = ['H']\n",
    "H = ['G','L','M']\n",
    "G = ['H','L','E'] \n",
    "E = ['L','G','W']\n",
    "W = ['L','E']\n",
    "L = ['H','G','E','W'] \n",
    "\n",
    "def Walk(walk):\n",
    "    #Counter when at Mountains node\n",
    "    counterM = 0 \n",
    "    #Loop n_steps\n",
    "    for i in range(n_steps):\n",
    "        #Check if at respective nodes\n",
    "        #If at mountains, increment counterM\n",
    "        if(walk == 'M'): \n",
    "            counterM = counterM + 1\n",
    "            walk = np.random.choice(M)\n",
    "        elif(walk == 'H'):\n",
    "            walk = np.random.choice(H)\n",
    "        elif(walk == 'G'):\n",
    "            walk = np.random.choice(G)\n",
    "        elif(walk == 'E'):\n",
    "            walk = np.random.choice(E)\n",
    "        elif(walk == 'W'):\n",
    "            walk = np.random.choice(W)\n",
    "        elif(walk == 'L'):\n",
    "            walk = np.random.choice(L)\n",
    "    print(\"Proportion of time spent in the mountains when starting at\",walk,\":\",counterM/n_steps) \n",
    "    \n",
    "#Test walk estimates from three different starting locations.\n",
    "Walk(start[0])\n",
    "Walk(start[1])\n",
    "Walk(start[2])"
   ]
  },
  {
   "cell_type": "markdown",
   "metadata": {},
   "source": [
    "# Answer for the long-run proportion of time that the hedgehogs spend in the mountains\n",
    "The long-run proportion of time that the hedgehogs spend in the mountains is rougly about:\n",
    "<br>\n",
    "$\\large 0.06$\n",
    "\n",
    "# Comment on whether it appears to depend on the initial location\n",
    "The differences that I noticed were incredilby miniscule. It was about a 0.001 difference in proportion of time that the hedgehogs spent in the mountains when I changed the initial location. Thus, the proportion of time spent in the mountains for the hedgehogs __DOES NOT__ appear to depend on the initial location. "
   ]
  },
  {
   "cell_type": "markdown",
   "metadata": {},
   "source": [
    "***\n",
    "<a/ id='p3'></a>\n",
    "[Back to top](#top)\n",
    "\n",
    "### [20 points] Problem 3  \n",
    "\n",
    "After years of Computer Science Jedi training, Tony has attained the rank of Master is training two aspiring young apprentices: Nick and Courtney. For their training and Tony’s amusement, Nick and Courtney are having a lightsaber duel with the following rules:\n",
    "* The duel is composed of a number of rounds.\n",
    "* Each round consists of Nick trying to strike Courtney with his lightsaber, then Courtney trying to strike Nick with her lightsaber.\n",
    "* If Nick strikes Courtney, then he is awarded a point. Similarly, if Courtney strikes Nick, then she is also awarded a point.\n",
    "* If a round ends in a tie (i.e., either both strike each other or both miss), then Nick and Courtney proceed to another round. If a round ends with one apprentice scoring a point but the other does not, then the apprentice who scored a point wins the duel.\n",
    "\n",
    "Let $C$ be the event that \"Courtney wins the duel\", $E$ be the event that \"the duel ends after the first round of lightsaber strikes\", and $R$ be the event that \"the duel continues after the first round of lightsaber strikes\".  Suppose that the result of any given lightsaber strike is independent of the other strikes, Courtney successfully lands her lightsaber strikes with probability $p$, and Nick lands his strikes with probability $q$.\n",
    "\n",
    "**Part A**: The duel will continue until Courtney or Nick wins.  What is the sample space $\\Omega$ for this \"experiment\"?  Represent the outcomes of individual lightsaber strikes by $H$ for a hit and $M$ for a miss, and assume that Courtney has the first strike in each round. At the very least, your answer should include all of the events in $\\Omega$ that include one or two rounds, followed by \"...\" to show that you have established a pattern."
   ]
  },
  {
   "cell_type": "markdown",
   "metadata": {},
   "source": [
    "$\\large \\Omega = \n",
    "\\{M,H\\},\\{H,M\\},\n",
    "\\{M,M,M,H\\},\n",
    "\\{M,M,H,M\\},\n",
    "\\{H,H,M,H\\},\n",
    "\\{H,H,H,M\\}...$"
   ]
  },
  {
   "cell_type": "markdown",
   "metadata": {},
   "source": [
    "**Part B**: Determine $P(C \\mid E)$ in terms of $p$ and $q$."
   ]
  },
  {
   "cell_type": "markdown",
   "metadata": {},
   "source": [
    "$\\large \\Omega_{Round1} = \\{M,H\\},\\{H,M\\},\\{H,H\\},\\{M,M\\}$\n",
    "<br><br>\n",
    "$\\large P(E) = \\{M,H\\},\\{H,M\\} = P(C \\cup C^c) = p(1-q) + q(1-p)$\n",
    "<br><br>\n",
    "$\\large P(C | E) = \\frac{P(C \\cap E)}{P(E)} = \\frac{p(1-q)}{p(1-q) + q(1-p)}$"
   ]
  },
  {
   "cell_type": "markdown",
   "metadata": {},
   "source": [
    "**Part C**: Explain in words why events $C$ and $R$ should be independent. "
   ]
  },
  {
   "cell_type": "markdown",
   "metadata": {},
   "source": [
    "Courtney not winning would not affect what happens in the next round. Nick not winning would not affect what happens in the next round. Just because there is a next round does not affect if Courtney or Nick will win. Thus, $C$ and $R$ should be independent. "
   ]
  },
  {
   "cell_type": "markdown",
   "metadata": {},
   "source": [
    "**Part D**: Use the Law of Total Probability to show that $P(C) = p(1-q) + (2pq - p - q +1) P(C \\mid R)$. "
   ]
  },
  {
   "cell_type": "markdown",
   "metadata": {},
   "source": [
    "$\\large P(C) = P(C \\mid E)P(E) + P(C \\mid R)P(R)$\n",
    "<br><br>\n",
    "$\\large P(C) = \\frac{p(1-q)}{p(1-q) + q(1-p)} \\cdot (p(1-q) + q(1-p)) + P(C\\mid R)P(R)$\n",
    "<br><br>\n",
    "$\\large P(C) = p(1-q) + P(C\\mid R)P(R)$\n",
    "<br><br>\n",
    "$\\large P(R) = P(E^c) = 1 - [p(1-q) + q(1-p)] = 1 - [p-pq + q -pq] = 1 - [-2pq + p + q]$\n",
    "<br><br>\n",
    "$\\large P(R) = 2pq - p - q + 1$\n",
    "<br><br>\n",
    "$\\large P(C) = p(1-q) + P(C\\mid R)(2pq - p - q + 1)$\n",
    "<br><br>\n",
    "$\\large P(C) = p(1-q) + (2pq - p - q + 1)P(C\\mid R)$\n",
    "<br><br>\n",
    "Thus, I have shown that $P(C) = p(1-q) + (2pq - p - q +1) P(C \\mid R)$. "
   ]
  },
  {
   "cell_type": "markdown",
   "metadata": {},
   "source": [
    "**Part E**: Use **Part D** and the fact from **Part C** that events $C$ and $R$ are independent to determine $P(C)$ in terms of $p$ and $q$. "
   ]
  },
  {
   "cell_type": "markdown",
   "metadata": {},
   "source": [
    "Given the information that $C$ and $R$ are independent:\n",
    "<br><br>\n",
    "$\\large P(C \\mid R) = P(C)$\n",
    "<br><br>\n",
    "$\\large P(C) = p(1-q) + (2pq - p - q +1)P(C)$\n",
    "<br><br>\n",
    "$\\large P(C)- (2pq - p - q +1)P(C) = p(1-q)$\n",
    "<br><br>\n",
    "$\\large P(C)[1-(2pq - p - q +1)] = p(1-q)$\n",
    "<br><br>\n",
    "$\\large P(C)[-2pq + p + q] = p(1-q)$\n",
    "<br><br>\n",
    "$\\large P(C)[p + q -2pq] = p(1-q)$\n",
    "<br><br>\n",
    "$\\large P(C) = \\frac{p(1 - q)}{p + q - 2pq} = \\frac{p(1-q)}{p(1-q) + q(1-p)}$"
   ]
  },
  {
   "cell_type": "markdown",
   "metadata": {},
   "source": [
    "**Part F**: Explain why the answers to **Part B** and **Part E** are the same. "
   ]
  },
  {
   "cell_type": "markdown",
   "metadata": {},
   "source": [
    "The answers to __Part B__ and __Part E__ are the same because events C and E are independent. So, we have: \n",
    "<br><br>\n",
    "$\\large P(C \\mid E) = P(C)$\n",
    "<br><br> \n",
    "C and E are independent because we have shown that: \n",
    "<br><br>\n",
    "$\\large P(C) = \\frac{p(1-q)}{p(1-q) + q(1-p)}$\n",
    "<br><br>\n",
    "$\\large P(C \\mid E) = \\frac{p(1-q)}{p(1-q) + q(1-p)}$\n",
    "<br><br>\n",
    "Courtney's probability that wins the duel will not change whether the duel ends after the first round of lightsaber strikes or not."
   ]
  },
  {
   "cell_type": "markdown",
   "metadata": {},
   "source": [
    "**Part G**: Explain the significance of the solution technique for $P(C)$ outlined in **Part D** and **Part E**.  Why did we go this route instead of computing $P(C)$ directly?  Can we always use such techniques?  What assumption did we need to make in order to use this solution approach?"
   ]
  },
  {
   "cell_type": "markdown",
   "metadata": {},
   "source": [
    "# Why did we go this route instead of computing $P(C)$ directly?\n",
    "We did not know at first that C and R were independent so we went this route instead of computing $P(C)$ directly. \n",
    "\n",
    "# Can we always use such techniques?\n",
    "No, because we can't follow these techniques when the events are mutually exclusive. \n",
    "\n",
    "# What assumption did we need to make in order to use this solution approach?\n",
    "We needed to assume that events C and R were independent to use this solution approach. "
   ]
  },
  {
   "cell_type": "markdown",
   "metadata": {},
   "source": [
    "***\n",
    "<a/ id='p4'></a>\n",
    "[Back to top](#top)\n",
    "\n",
    "### [25 points] Problem 4\n",
    "\n",
    "In this problem you will write some code to simulate the game of **Miniopoly** (a very rough approximation of <a href=\"https://en.wikipedia.org/wiki/Monopoly_(game)\">Monopoly</a>).  The game consists of a round board with 40 \"squares\" numbered from $0$ to $39$, where squares $0$ and would-be $40$ are [coincident](https://en.wikipedia.org/wiki/Coincident) and called **GO**.  A player starts on **GO** with \\$200 in their pocket.  On each turn the player rolls a pair of dice and then moves a number of spaces equal to the sum of the dice.  Landing on different squares have different results: \n",
    "\n",
    "- Squares 2, 7, 17, 22, 33, and 36 cause you to draw a card.  The cards tell you to collect \\$50 or \\$100, or pay the bank \\$25 or \\$100.  There is always an equal probability associated with each of these possible cards.\n",
    "\n",
    "<p> </p>\n",
    "\n",
    "- Square 20 is **Free Parking**. If a player lands on Square 20, then they are awarded a Free Parking Bonus of \\$500. This should be a generic input variable to your `miniopoly_turn` function called `bonus`, so you can modify it later. But, the default value for `bonus` should be \\$500.\n",
    "\n",
    "<p> </p>\n",
    "\n",
    "- Square 30 is **Go To Jail**. (So if a player has landed on Square 30, then you know they have been to jail.)\n",
    "\n",
    "<p> </p>\n",
    "\n",
    "- If a player starts a turn from **Jail** she rolls two dice: \n",
    "\n",
    "    - If the player rolls doubles (i.e. the dice have equal values), then the player moves from Square 10 a number of squares equal to the sum of the dice\n",
    "    \n",
    "    - If the player rolls anything other than doubles, then she pays the bank \\$20 and remains in **Jail** \n",
    "    \n",
    "<p> </p>\n",
    "\n",
    "- If the player passes or lands on **GO** (square 0) she collects \\$200. \n",
    "\n",
    "<p> </p>\n",
    "\n",
    "- If the player lands on any other square not mentioned above, she pays the bank an amount equal to the square's number (e.g. if she lands on Square 29 she pays the bank \\$29). \n",
    "\n",
    "<p> </p>\n",
    "\n",
    "If at any point the player has \\$0 or less they go bankrupt and the game ends.\n",
    "\n",
    "See [here](http://www.cs.colorado.edu/~tonyewong/home/resources/miniopoly_example.png) for an example of the Miniopoly board layout.\n",
    "\n",
    "<br>\n",
    "\n",
    "**Part A**: Complete the function `miniopoly_turn` below. The function should simulate one turn of Miniopoly.  It should take as arguments the player's current location on the board as well as the player's current cash reserves and the amount of the Free Parking (Square 20) bonus, and return the player's new location and cash reserves after the turn has completed. Note that if a player goes bankrupt during the game you should return their cash as 0 instead of a negative value.\n",
    "\n",
    "**Warning:** This function will be auto-graded, so do **not** change the form of the function inputs/outputs (API)."
   ]
  },
  {
   "cell_type": "code",
   "execution_count": 7,
   "metadata": {},
   "outputs": [],
   "source": [
    "# GIVEN code - do not change the inputs/outputs!\n",
    "def miniopoly_turn(state, cash, bonus=500):\n",
    "    \n",
    "    #If at any point the player has $0 or less they go bankrupt and the game ends.\n",
    "    if(cash == 0):\n",
    "        return state, cash\n",
    "    \n",
    "    #On each turn the player rolls a pair of dice\n",
    "    diceA = np.random.choice(6)+1\n",
    "    diceB = np.random.choice(6)+1\n",
    "    \n",
    "    \n",
    "    #If a player starts a turn from Jail she rolls two dice:\n",
    "    if(state == 30):\n",
    "        if(diceA==diceB):\n",
    "            state = 10+(diceA+diceB)\n",
    "        else:\n",
    "            cash = cash-20\n",
    "            return state, cash\n",
    "        \n",
    "    #On each turn the player rolls a pair of dice and then moves a number of spaces equal to the sum of the dice.\n",
    "    else: \n",
    "        state = state + (diceA+diceB)\n",
    "    \n",
    "    #If a player lands on Square 20, then they are awarded a Free Parking Bonus of $500.\n",
    "    if(state == 20):\n",
    "        cash = cash + bonus\n",
    "        return state,cash\n",
    "    \n",
    "    #Squares 0 and would-be 40 are coincident and called GO.\n",
    "    if(state >= 40):\n",
    "        cash = cash+200\n",
    "        state = state-40\n",
    "        \n",
    "    #Squares 2, 7, 17, 22, 33, and 36 cause you to draw a card.\n",
    "    if(state in [2, 7, 17, 22, 33, 36]):\n",
    "        cash = cash + np.random.choice([50,100,-25,-100])\n",
    "        return state, cash \n",
    "    \n",
    "    #Square 30 is Go To Jail. \n",
    "    if(state == 30):\n",
    "        return state, cash \n",
    "    \n",
    "    #If the player lands on any other square not mentioned above, \n",
    "    #she pays the bank an amount equal to the square's number\n",
    "    elif(state not in [0,20]): \n",
    "        cash = cash-state\n",
    "        return state, cash \n",
    "    else:\n",
    "        return state, cash"
   ]
  },
  {
   "cell_type": "markdown",
   "metadata": {},
   "source": [
    "**Part B**: Use your function from **Part A** to simulate at least 5000 games of Miniopoly for 20 turns, 40 turns and 60 turns, and make a **density** histogram of the player's cash at the end of the game under all 3 scenarios for number of turns. The histogram box faces should be slightly transparent, so as to be able to tell the 3 game-length scenarios apart. For all three histograms, use bins of width \\$250, starting at 0 on the left and extending as far to the right as needed. As always, be sure to label your axes and include an informative legend.\n",
    "\n",
    "Comment on how the histogram shape changes as the game progresses. Namely, how does the length of the game affect the distribution of players' cash? How many modes are there, and why?"
   ]
  },
  {
   "cell_type": "code",
   "execution_count": 27,
   "metadata": {},
   "outputs": [
    {
     "data": {
      "text/plain": [
       "<matplotlib.legend.Legend at 0x7f250a07cef0>"
      ]
     },
     "execution_count": 27,
     "metadata": {},
     "output_type": "execute_result"
    },
    {
     "data": {
      "image/png": "[encoded data removed]",
      "text/plain": [
       "<Figure size 864x432 with 1 Axes>"
      ]
     },
     "metadata": {
      "needs_background": "light"
     },
     "output_type": "display_data"
    }
   ],
   "source": [
    "def Simulate(turns): \n",
    "    state,cash = 0,200\n",
    "    for turn in range(turns): \n",
    "        state, cash = miniopoly_turn(state, cash)\n",
    "        if(cash <= 0):\n",
    "            return 0\n",
    "    return cash\n",
    "     \n",
    "games = 5000\n",
    "twentyGames = np.zeros(games)\n",
    "fortyGames = np.zeros(games)\n",
    "sixtyGames = np.zeros(games)\n",
    "for game in range(games):\n",
    "    twentyGames[game] = (Simulate(20))\n",
    "    fortyGames[game] = (Simulate(40))\n",
    "    sixtyGames[game] = (Simulate(60))\n",
    "    \n",
    "twentyGames = pd.Series(twentyGames)\n",
    "fortyGames = pd.Series(fortyGames)\n",
    "sixtyGames = pd.Series(sixtyGames)\n",
    "\n",
    "fig, ax = plt.subplots(figsize=(12,6))\n",
    "bins = range(0,5000,250)\n",
    "twentyGames.hist(edgecolor = 'black', ax = ax, color = \"steelblue\", alpha = 0.6, density = True, bins = bins, label = \"Twenty Turns\")\n",
    "fortyGames.hist(edgecolor = 'black', ax = ax, color = \"seagreen\", alpha = 0.6, density = True, bins = bins, label = \"Forty Turns\")\n",
    "sixtyGames.hist(edgecolor = 'black', ax = ax, color = \"coral\", alpha = 0.6, density = True, bins = bins, label = \"Sixty Turns\")\n",
    "ax.set_xlabel(\"Cash\", fontsize = 18)\n",
    "ax.set_ylabel(\"Density\", fontsize = 18)\n",
    "ax.set_title(\"Density of Cash at End of Game with 20, 40, and 60 Turn Games\", fontsize = 18)\n",
    "ax.legend(fontsize = 16)"
   ]
  },
  {
   "cell_type": "markdown",
   "metadata": {},
   "source": [
    "# How does the length of the game affect the distribution of players' cash\n",
    "As the games become longer, player's tend to hold more money at the end of them. So, players will have less cash when games are shorter and more cash when games are longer. \n",
    "# How many modes are there, and why?\n",
    "This graph is bimodal because there is a peak from the 0-1000 range and there is a peak from the 1000-3000 range as well. "
   ]
  },
  {
   "cell_type": "markdown",
   "metadata": {},
   "source": [
    "**Part C**: Use your code from **Parts A and B** to estimate the probability that a player goes bankrupt in the first 40 turns of the game. Use at least 10,000 simulations.\n",
    "\n",
    "Then, run a set of at least 10,000 simulations to estimate the probability that a player goes bankrupt in the first 40 turns of the game if you remove the Free Parking Bonus of \\$500, so if a player lands on Square 20, nothing happens. Here, you should be able to easily adapt your calls to the `miniopoly_turn` function to remove the Free Parking Bonus.\n",
    "\n",
    "A common criticism of the Free Parking Bonus is that it makes Monopoly games take much longer to play. Do your results support this claim? How does the Free Parking rule seem to affect the Miniopoly games? Fully explain and justify your answers.\n",
    "\n",
    "Do you like the Free Parking bonus rule?"
   ]
  },
  {
   "cell_type": "code",
   "execution_count": 9,
   "metadata": {},
   "outputs": [
    {
     "name": "stdout",
     "output_type": "stream",
     "text": [
      "Probability of going bankrupt with the bonus: 0.1338\n",
      "Probability of going bankrupt without the bonus: 0.1845\n"
     ]
    }
   ],
   "source": [
    "games = 10000 \n",
    "counterBonus = 0 \n",
    "for game in range(games):\n",
    "    if(Simulate(40) == 0): \n",
    "        counterBonus = counterBonus + 1\n",
    "print(\"Probability of going bankrupt with the bonus:\", counterBonus/games)\n",
    "\n",
    "counter = 0 \n",
    "def SimulateNoBonus(turns):\n",
    "    state,cash = 0,200\n",
    "    for turn in range(turns): \n",
    "        state, cash = miniopoly_turn(state, cash, bonus=0)\n",
    "        if(cash <= 0):\n",
    "            return 0 \n",
    "    return cash\n",
    "\n",
    "for game in range(games):\n",
    "    if(SimulateNoBonus(40) == 0):\n",
    "        counter = counter + 1\n",
    "print(\"Probability of going bankrupt without the bonus:\", counter/games)"
   ]
  },
  {
   "cell_type": "markdown",
   "metadata": {},
   "source": [
    "# Do your results support this claim? \n",
    "My results support the claim that the Free Parking Bonus makes Monopoly games take much longer to play. This is so because as we can see from my results from Miniopoly games, there is a less likely chance to go bunkrupt when one has this bonus. If you are less likely to go bankrupt, you will have a longer game. \n",
    "\n",
    "# How does the Free Parking rule seem to affect the Miniopoly games?\n",
    "The Free Parking rule affects the Miniopoly games by making it less likely for one to go bankrupt than if they did not have the rule. We can make this conclusion because from the results we can see that there is about a 4-5% difference of going bankrupt when one does not have a bonus. \n",
    "\n",
    "# Do you like the Free Parking bonus rule?\n",
    "I like the Free Parking bonus rule because it allows you to play the game for longer. I find that longer games are more enjoyable if one is with good company. "
   ]
  },
  {
   "cell_type": "markdown",
   "metadata": {},
   "source": [
    "**Part D**: (Note: For the rest of this problem, use a Free Parking Bonus of \\$500.)\n",
    "\n",
    "Use your code from the previous parts to estimate the probability that a player ***does not*** go bankrupt in the first 40 turns _given_ that they have landed on Free Parking at least once.  Is a player more or less likely to go bankrupt if they've landed on Free Parking? Use at least 10,000 simulations of 40-turn games, and keep at least 4 decimal places in your answer."
   ]
  },
  {
   "cell_type": "code",
   "execution_count": 10,
   "metadata": {},
   "outputs": [
    {
     "name": "stdout",
     "output_type": "stream",
     "text": [
      "Probability of not being bankrupt in the first 40 turns if you were on Free Parking at least once: 0.9995\n"
     ]
    }
   ],
   "source": [
    "def NotBankrupt(turns):\n",
    "    state, cash = 0,200\n",
    "    freeParking = False\n",
    "    for turn in range(turns):\n",
    "        state, cash = miniopoly_turn(state,cash)\n",
    "        #If we are at Free Parking\n",
    "        if(state == 20):\n",
    "            #Set freeParking to true \n",
    "            freeParking = True\n",
    "        #If we are bankrupt \n",
    "        if(cash <= 0):\n",
    "            #Return 0 if bankrupt and at freeParking \n",
    "            if(freeParking == True):\n",
    "                return 0\n",
    "            #Else, restart our simulation \n",
    "            else:\n",
    "                return NotBankrupt(turns)\n",
    "            \n",
    "    #If we were not bankrupt and were at freeParking, return cash\n",
    "    if(freeParking == True):\n",
    "        return cash\n",
    "    #Otherwise, if we never ended up at freeParking, run the simulation again \n",
    "    else:\n",
    "        return NotBankrupt(turns)\n",
    "\n",
    "notBankrupt = 0 \n",
    "for i in range(0,10000):\n",
    "    if(NotBankrupt(40) > 0):\n",
    "        notBankrupt = notBankrupt + 1\n",
    "print(\"Probability of not being bankrupt in the first 40 turns if you were on Free Parking at least once:\",notBankrupt/10000)"
   ]
  },
  {
   "cell_type": "markdown",
   "metadata": {},
   "source": [
    "# Is a player more or less likely to go bankrupt if they've landed on Free Parking?\n",
    "A player is incredibly less likely to go bankrupt if they've landed on Free Parking at least once because from our calculation we see that this probability is very close to 1. "
   ]
  },
  {
   "cell_type": "markdown",
   "metadata": {},
   "source": [
    "**Part E**: Use your code from the previous parts to estimate the probability (either directly or using Bayes' Rule) that a player has landed on Free Parking at least once, given that the player did not go bankrupt in the first 40 turns."
   ]
  },
  {
   "cell_type": "code",
   "execution_count": 33,
   "metadata": {},
   "outputs": [
    {
     "name": "stdout",
     "output_type": "stream",
     "text": [
      "Probability that you landed on Free Parking at least once if you didn't go bankrupt: 0.6139\n"
     ]
    }
   ],
   "source": [
    "def landedOnFreeParking(turns):\n",
    "    state, cash = 0,200\n",
    "    for turn in range(turns):\n",
    "        state, cash = miniopoly_turn(state,cash)\n",
    "        if(state == 20):\n",
    "            if(cash >= 0): \n",
    "                return 1\n",
    "        if(cash <= 0): \n",
    "            return 0 \n",
    "         \n",
    "notInJail = 0\n",
    "for game in range(10000):\n",
    "    if(landedOnFreeParking(40)==1):\n",
    "        notInJail = notInJail + 1\n",
    "print(\"Probability that you landed on Free Parking at least once if you didn't go bankrupt:\", notInJail/10000)"
   ]
  }
 ],
 "metadata": {
  "kernelspec": {
   "display_name": "Python 3",
   "language": "python",
   "name": "python3"
  },
  "language_info": {
   "codemirror_mode": {
    "name": "ipython",
    "version": 3
   },
   "file_extension": ".py",
   "mimetype": "text/x-python",
   "name": "python",
   "nbconvert_exporter": "python",
   "pygments_lexer": "ipython3",
   "version": "3.7.1"
  }
 },
 "nbformat": 4,
 "nbformat_minor": 2
}
