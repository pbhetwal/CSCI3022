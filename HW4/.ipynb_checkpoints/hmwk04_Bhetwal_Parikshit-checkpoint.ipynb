{
 "cells": [
  {
   "cell_type": "markdown",
   "metadata": {},
   "source": [
    "<a/ id='top'></a>\n",
    "# Homework 4: Confidence intervals, hypothesis testing, and p-values\n",
    "***\n",
    "\n",
    "**Name**: __Parikshit Bhetwal__\n",
    "\n",
    "***\n",
    "\n",
    "This assignment is due on Moodle by **5 PM on Friday 5 April**. Your solutions to theoretical questions should be done in Markdown/MathJax directly below the associated question.  Your solutions to computational questions should include any specified Python code and results as well as written commentary on your conclusions.  Remember that you are encouraged to discuss the problems with your instructors and classmates, but **you must write all code and solutions on your own**. \n",
    "\n",
    "**NOTES**: \n",
    "\n",
    "- Any relevant data sets should be available under the **Data** module on Canvas, as well as in the zipped folder in which you obtained this assignment. \n",
    "- Do **NOT** load or use any Python packages that are not available in Anaconda 3.6. \n",
    "- Because you can technically evaluate notebook cells in a non-linear order, it's a good idea to do Kernel $\\rightarrow$ Restart & Run All as a check before submitting your solutions.  That way if we need to run your code you will know that it will work as expected. \n",
    "- It is **bad form** to make your reader interpret numerical output from your code.  If a question asks you to compute some value from the data you should show your code output **AND** write a summary of the results in Markdown directly below your code. \n",
    "- You **MUST** leave all of your notebook cells **evaluated** so the graders do not need to re-evaluate them. For 100+ students, this extra time adds up, and makes the graders' lives unnecessarily more difficult.\n",
    "- This probably goes without saying, but... For any question that asks you to calculate something, you **must show all work and justify your answers to receive credit**. Sparse or nonexistent work will receive sparse or nonexistent credit. \n",
    "- Submit only this Jupyter notebook to Canvas.  Do not compress it using tar, rar, zip, etc. \n",
    "\n",
    "---\n",
    "**Shortcuts:**  [Problem 1](#p1) | [Problem 2](#p2) | [Problem 3](#p3) | [Problem 4](#p4) | [Problem 5](#p5)  \n",
    "\n",
    "---"
   ]
  },
  {
   "cell_type": "code",
   "execution_count": 3,
   "metadata": {
    "scrolled": true
   },
   "outputs": [],
   "source": [
    "import numpy as np\n",
    "import math\n",
    "import scipy.stats as stats\n",
    "import matplotlib.pyplot as plt\n",
    "import pandas as pd\n",
    "%matplotlib inline"
   ]
  },
  {
   "cell_type": "markdown",
   "metadata": {},
   "source": [
    "<br>\n",
    "\n",
    "---\n",
    "<a/ id='p1'></a>\n",
    "[Back to top](#top)\n",
    "### [20 points] Problem 1 - Exploring Confidence Intervals \n",
    "\n",
    "The [Gumbel](https://en.wikipedia.org/wiki/Gumbel_distribution) distribution is one of several distributions frequently used to model environmental extremes (for example, extreme temperatures and sea levels).  It is also fairly asymmetric, and thus interesting for investigating confidence intervals.  It is implemented in scipy.stats as [gumbel_r](https://docs.scipy.org/doc/scipy/reference/generated/scipy.stats.gumbel_r.html), where the appendix \"\\_r\" denotes the right-skewed version of the Gumbel distribution (as opposed to the left-skewed)."
   ]
  },
  {
   "cell_type": "markdown",
   "metadata": {},
   "source": [
    "**Part A**: Complete the following code cell to plot a histogram of 100 realizations from the Gumbel distribution with parameters $\\mu=8$ (location) and $\\beta=2$ (scale).  Be sure to leave this cell executed before turning in your assignment! Make your histogram faces coral with gray edges."
   ]
  },
  {
   "cell_type": "code",
   "execution_count": 87,
   "metadata": {},
   "outputs": [
    {
     "data": {
      "text/plain": [
       "Text(0.5, 1.0, '100 Realizations From the Gumbel Distribution')"
      ]
     },
     "execution_count": 87,
     "metadata": {},
     "output_type": "execute_result"
    },
    {
     "data": {
      "image/png": "[encoded data removed]",
      "text/plain": [
       "<Figure size 576x288 with 1 Axes>"
      ]
     },
     "metadata": {
      "needs_background": "light"
     },
     "output_type": "display_data"
    }
   ],
   "source": [
    "mu = 8\n",
    "beta = 2\n",
    "n_sample = 100\n",
    "x = stats.gumbel_r.rvs(scale = beta, loc = mu, size = n_sample)\n",
    "\n",
    "fig, ax = plt.subplots(nrows=1, ncols=1, figsize=(8,4))\n",
    "\n",
    "# Your code goes here!\n",
    "plt.hist(x, facecolor = 'coral', edgecolor = 'gray')\n",
    "plt.ylabel(\"Frequency\", fontsize = 15)\n",
    "plt.xlabel(\"Realizations\", fontsize = 15)\n",
    "plt.title(\"100 Realizations From the Gumbel Distribution\", fontsize = 15)"
   ]
  },
  {
   "cell_type": "markdown",
   "metadata": {},
   "source": [
    "**Part B:** Look up the analytical mean and variance of the Gumbel distribution with parameters $\\mu=8$ and $\\beta=2$ and calculate them here by hand.  Note that the Euler–Mascheroni constant can be accessed via `np.euler_gamma`. Note that the version of the Gumbel we are using is *right-skewed*, and is the version used to model maximal extreme events.\n",
    "\n",
    "Use the empirical mean from your sample in **Part A**, and the true variance of the Gumbel distribution to compute by hand a 95% confidence interval for the mean."
   ]
  },
  {
   "cell_type": "markdown",
   "metadata": {
    "collapsed": true
   },
   "source": [
    "### Analytical Mean\n",
    "$\\large \\mu + \\beta \\gamma$\n",
    "<br><br>\n",
    "$\\large = 8 + 2 \\cdot 0.5772156649015329 = 9.15444$\n",
    "\n",
    "### Empirical Mean\n",
    "$\\large 9.11145$\n",
    "<br>\n",
    "__NOTE__: This will change every time I restart and run all the cells, so I used the first one I got. \n",
    "\n",
    "### Variance\n",
    "$\\large \\frac{\\pi^2}{6}\\beta^2$\n",
    "<br><br>\n",
    "$\\large = \\frac{\\pi^2}{6} \\cdot 2^2 = 6.57974$\n",
    "\n",
    "### Confidence Interval with Empirical Mean and The True Variance\n",
    "$\\large CI = \\bar x \\pm z \\cdot \\frac{\\sigma}{\\sqrt{n}}$\n",
    "<br><br>\n",
    "$\\large 9.111451181973967 + 1.959963984540054 \\cdot \\sqrt{\\frac{\\frac{2\\pi ^2}{3}}{100}}$\n",
    "<br><br>\n",
    "$\\large 9.111451181973967 - 1.959963984540054 \\cdot \\sqrt{\\frac{\\frac{2\\pi ^2}{3}}{100}}$\n",
    "<br><br>\n",
    "$\\large CI = [8.60870,\\ 9.61420]$"
   ]
  },
  {
   "cell_type": "code",
   "execution_count": 88,
   "metadata": {},
   "outputs": [
    {
     "name": "stdout",
     "output_type": "stream",
     "text": [
      "Euler-Mascheroni constant: 0.5772156649015329\n",
      "Empirical mean: 9.199724836255303\n",
      "Z critical: 1.959963984540054\n"
     ]
    }
   ],
   "source": [
    "print(\"Euler-Mascheroni constant: {}\".format(np.euler_gamma))\n",
    "print(\"Empirical mean: {}\".format(np.mean(x)))\n",
    "alpha = 1 - (0.95)\n",
    "Z = stats.norm.ppf(1-alpha/2)\n",
    "print(\"Z critical: {}\".format(Z))"
   ]
  },
  {
   "cell_type": "markdown",
   "metadata": {},
   "source": [
    "**Part C:  A theoretical interlude.** When Amy, the famous hedgehog data scientist, ran her solution code for **Part B**, she obtained a 95% confidence interval of $[8.81, 9.82]$ for the mean of the $Gum(\\mu=8, \\beta=2)$ distribution. For each of the following, explain why or why not the situation described is correct, given the technical definition of a 95% confidence interval we went over in class.\n",
    "\n",
    "**(i)** If you had no other evidence regarding true mean of the $Gum(\\mu=8, \\beta=2)$ distribution, you could say there is a 95% chance that its true mean falls between 8.81 and 9.82.\n",
    "\n",
    "**(ii)** If a class of 100 students all construct 95% confidence intervals for the mean of the $Gum(\\mu=8, \\beta=2)$ distribution, then we expect about 95 of their CIs to contain the true mean, and about 5 of them to miss the true mean.\n",
    "\n",
    "**(iii)** If we sample 100 random variables from the $Gum(\\mu=8, \\beta=2)$ distribution, then roughly 95% of them will be between 8.81 and 9.82."
   ]
  },
  {
   "cell_type": "markdown",
   "metadata": {
    "collapsed": true
   },
   "source": [
    "## __(i) is incorrect__ because the CI is a statement about the mean, not a confidence. \n",
    "\n",
    "## __(ii) is correct__ because the CI is a statement about the mean, thus 95% of their CI's would contain the true mean and 5% would not (95 and 5 people respectively). \n",
    "\n",
    "## __(iii) is incorrect__ because the CI is not concerned with random variables, but rather with means. "
   ]
  },
  {
   "cell_type": "markdown",
   "metadata": {},
   "source": [
    "**Part D:** In this part you'll write a function to investigate the _coverage properties_ of a confidence interval for the mean of the Gumbel distribution. Complete the following function to randomly sample $m=500$ sample means with sample size $n=100$ for the Gumbel distribution with parameters $\\mu=8$ and $\\beta=2$.  For each random sample, compute the 66% confidence interval for the mean. Note that you actually know the variance for the true population distribution, $\\sigma^2$ from Part B.  Your function should do two things: \n",
    "\n",
    "1. Report the proportion of confidence intervals that successfully cover the true mean of the distribution \n",
    "2. Make a plot of 50 randomly selected confidence intervals. Overlay the intervals on the line $y=\\textrm{True mean}$ (from **Part B**). Color confidence intervals steelblue if they cover the true mean, and coral if they don't.  \n",
    "\n",
    "Be sure to leave this cell executed before turning in your assignment!"
   ]
  },
  {
   "cell_type": "code",
   "execution_count": 5,
   "metadata": {},
   "outputs": [
    {
     "name": "stdout",
     "output_type": "stream",
     "text": [
      "Proportion of confidence intervals that successfully cover the true mean of the distribution: 0.66\n"
     ]
    },
    {
     "data": {
      "image/png": "[encoded data removed]",
      "text/plain": [
       "<Figure size 864x432 with 1 Axes>"
      ]
     },
     "metadata": {
      "needs_background": "light"
     },
     "output_type": "display_data"
    }
   ],
   "source": [
    "# GIVEN CODE:\n",
    "\n",
    "def confidence_intervals(m=500, n=100):\n",
    "    mu = 8\n",
    "    beta = 2\n",
    "    \n",
    "    # Your code goes here!\n",
    "    expectedMean = mu + beta * np.euler_gamma\n",
    "    pi_part = math.pi**2\n",
    "    variance = (2*pi_part)/3\n",
    "    alpha = 1 - (0.66)\n",
    "    Z = stats.norm.ppf(1-alpha/2)\n",
    "    lower = []\n",
    "    upper = []\n",
    "    for i in range(m): \n",
    "        x = stats.gumbel_r.rvs(scale = beta, loc = mu, size = n)\n",
    "        x_bar = np.mean(x)\n",
    "        lower.append(x_bar - Z * math.sqrt(variance/n))\n",
    "        upper.append(x_bar + Z * math.sqrt(variance/n))\n",
    "    \n",
    "    counter = 0\n",
    "    for i in range(m): \n",
    "        l = lower[i]\n",
    "        u = upper[i]\n",
    "        if (l <= expectedMean and expectedMean <= u):\n",
    "            counter+=1\n",
    "    print(\"Proportion of confidence intervals that successfully cover the true mean of the distribution:\",counter/m)\n",
    "    \n",
    "    indexList = list(range(m))\n",
    "    \n",
    "    randomList = np.random.choice(indexList, size=50, replace=False)\n",
    "    \n",
    "    fig, ax = plt.subplots(figsize=(12,6))\n",
    "    for i in range(len(randomList)):\n",
    "        l = lower[randomList[i]]\n",
    "        u = upper[randomList[i]]\n",
    "        if (l <= expectedMean and expectedMean <= u):\n",
    "            ax.plot([i+1,i+1],[l,u], color='steelblue')\n",
    "        else:\n",
    "            ax.plot([i+1,i+1],[l,u], color='coral')\n",
    "    plt.plot([0,51],[expectedMean, expectedMean], color='black')\n",
    "    plt.xlabel(\"Trial Number\", fontsize = 15)\n",
    "    plt.ylabel(\"Interval\", fontsize = 15)\n",
    "    plt.title(\"CI's and Whether or Not They Cover True Mean\", fontsize = 15)\n",
    "    \n",
    "confidence_intervals()"
   ]
  },
  {
   "cell_type": "markdown",
   "metadata": {},
   "source": [
    "**Part E:** Does the proportion of confidence intervals that cover the true mean of the distribution agree with the theory described in class?  Justify your conclusion. "
   ]
  },
  {
   "cell_type": "markdown",
   "metadata": {
    "collapsed": true
   },
   "source": [
    "### The theory described in class would state that if we have a 66% confidence interval, we would expect about 66% of randomly generated confidence intervals to cover the true mean. The proportion I got is incredibly close to 66% and thus it agrees with the theory described in class. "
   ]
  },
  {
   "cell_type": "markdown",
   "metadata": {},
   "source": [
    "---\n",
    "\n",
    "<a id='p2'></a>\n",
    "[Back to top](#top)\n",
    "\n",
    "### [20 points] Problem 2 - Taco Town!!\n",
    "\n",
    "You're an intern in the office of the City of Boulder's official Food Rater, and in order to support her in her extremely important job, you have to determine whether Taco Bell or Del Taco has the empirically better tacos. \n",
    "\n",
    "\"Don't worry,\" you tell your boss. \"I'll have you know I graduated top of my class from CU Boulder, and I've been involved in numerous data science operations on difficult data sets - many of which are hedgehog-related - and I have over 300 confirmed confidence intervals. I am trained in Numpy and Pandas and I'm the top data scientist in the entire campus.\"\n",
    "\n",
    "\"Weird flex but OK,\" your boss responds, and gives you the data. The data set consists of 100 diners who ate both Taco Bell and Del Taco, and rated their meal enjoyment at each. As is often the case with fast food taco establishments, each diner ate alone and each meal was followed by about 3 weeks of intense therapy, so the diners and meals may all be considered to be independent of one another. The meal enjoyment ratings are in units of *mehs*, where lower values denote more disgust and a worse meal, and higher values are better."
   ]
  },
  {
   "cell_type": "markdown",
   "metadata": {},
   "source": [
    "**Part A:** Import the data set `taco_time.csv` as a Pandas DataFrame.\n",
    "\n",
    "Then, plot a density histogram of the data. Include both Taco Bell and Del Taco on the same set of axes. Be sure to label your axes, and make the histogram faces slightly transparent and include a legend, so we can tell the two data sets apart. Use colors for each restaurant that are representative of that restaurant's logo or branding.\n",
    "\n",
    "Finally, formulate a hypothesis about which restaurant has the higher mean meal enjoyment."
   ]
  },
  {
   "cell_type": "code",
   "execution_count": 6,
   "metadata": {},
   "outputs": [
    {
     "data": {
      "text/plain": [
       "<matplotlib.legend.Legend at 0x7f4d6a0215c0>"
      ]
     },
     "execution_count": 6,
     "metadata": {},
     "output_type": "execute_result"
    },
    {
     "data": {
      "image/png": "[encoded data removed]",
      "text/plain": [
       "<Figure size 792x396 with 1 Axes>"
      ]
     },
     "metadata": {
      "needs_background": "light"
     },
     "output_type": "display_data"
    }
   ],
   "source": [
    "df = pd.read_csv(\"taco_time.csv\")\n",
    "TB = df['Taco Bell']\n",
    "DT = df['Del Taco']\n",
    "\n",
    "fig, ax = plt.subplots(figsize=(11,5.5))\n",
    "TB.hist(density=True,ax=ax,facecolor='purple',edgecolor='pink',alpha=0.4, label = \"Taco Bell\")\n",
    "DT.hist(density=True,ax=ax,facecolor='red',edgecolor='yellow',alpha=0.4, label = \"Del Taco\")\n",
    "\n",
    "plt.xlabel(\"Meal Enjoyment\", fontsize = 15)\n",
    "plt.ylabel(\"Density\", fontsize = 15)\n",
    "plt.title(\"Meal Enjoyment at Taco Bell vs Del Taco\", fontsize = 15)\n",
    "plt.legend(fontsize = 15)"
   ]
  },
  {
   "cell_type": "markdown",
   "metadata": {},
   "source": [
    "## Formulate a hypothesis about which restaurant has the higher mean meal enjoyment.\n",
    "My hypothesis is that Taco Bell will have a higher mean meal enjoyment than Del Taco because it has more density towards higher meal enjoyment. "
   ]
  },
  {
   "cell_type": "markdown",
   "metadata": {},
   "source": [
    "**Part B:** Compute a 95% confidence interval for the mean enjoyment of Taco Bell meals, and a separate 95% confidence interval for the mean enjoyment of Del Taco meals. You can use Python as a calculator, but the set-up and groundwork for your computation should be in Markdown/MathJax.\n",
    "\n",
    "Based on those confidence intervals, can we conclude that the means are different at the 95% level of confidence?"
   ]
  },
  {
   "cell_type": "markdown",
   "metadata": {
    "collapsed": true
   },
   "source": [
    "### For Taco Bell \n",
    "$\\large CI = \\bar x \\pm z \\cdot \\frac{\\sigma}{\\sqrt{n}}$\n",
    "<br><br>\n",
    "$\\large -0.11369182761473999 + 1.959963984540054 \\cdot \\frac{1.8730655634885462}{\\sqrt{100}}$\n",
    "<br><br>\n",
    "$\\large -0.11369182761473999 - 1.959963984540054 \\cdot \\frac{1.8730655634885462}{\\sqrt{100}}$\n",
    "<br><br>\n",
    "$\\large CI = [-0.48080,\\ 0.25342]$\n",
    "\n",
    "### For Del Taco \n",
    "$\\large CI = \\bar x \\pm z \\cdot \\frac{\\sigma}{\\sqrt{n}}$\n",
    "<br><br>\n",
    "$\\large -0.8343471961220464 + 1.959963984540054 \\cdot \\frac{1.90007795488315}{\\sqrt{100}}$\n",
    "<br><br>\n",
    "$\\large -0.8343471961220464 - 1.959963984540054 \\cdot \\frac{1.90007795488315}{\\sqrt{100}}$\n",
    "<br><br>\n",
    "$\\large CI = [-1.20676,\\ -0.46194]$\n",
    "\n",
    "### Can we conclude that the means are different at the 95% level of confidence?\n",
    "No, we cannot because the two CI's that we calculated overlap. "
   ]
  },
  {
   "cell_type": "code",
   "execution_count": 7,
   "metadata": {},
   "outputs": [
    {
     "name": "stdout",
     "output_type": "stream",
     "text": [
      "Taco Bell mean: -0.11369182761473999\n",
      "Taco Bell standard deviation: 1.8730655634885462\n",
      "Taco Bell n: 100\n",
      "\n",
      "Del Taco mean: -0.8343471961220464\n",
      "Del Taco standard deviation: 1.90007795488315\n",
      "Del Taco n: 100\n",
      "\n",
      "Z critical: 1.959963984540054\n"
     ]
    }
   ],
   "source": [
    "TBmean = np.mean(TB)\n",
    "TBsd = np.std(TB)\n",
    "TBn = len(TB)\n",
    "\n",
    "DTmean = np.mean(DT)\n",
    "DTsd = np.std(DT)\n",
    "DTn = len(DT)\n",
    "\n",
    "alpha = 1 - (0.95)\n",
    "Z = stats.norm.ppf(1-alpha/2)\n",
    "\n",
    "print(\"Taco Bell mean: {}\".format(TBmean))\n",
    "print(\"Taco Bell standard deviation: {}\".format(TBsd))\n",
    "print(\"Taco Bell n: {}\\n\".format(TBn))\n",
    "\n",
    "print(\"Del Taco mean: {}\".format(DTmean))\n",
    "print(\"Del Taco standard deviation: {}\".format(DTsd))\n",
    "print(\"Del Taco n: {}\\n\".format(DTn))\n",
    "\n",
    "print(\"Z critical: {}\".format(Z))"
   ]
  },
  {
   "cell_type": "markdown",
   "metadata": {},
   "source": [
    "**Part C:** Compute a 95% confidence interval for the difference between the mean enjoyment of Taco Bell and Del Taco food. "
   ]
  },
  {
   "cell_type": "markdown",
   "metadata": {},
   "source": [
    "I will be using: \n",
    "<br><br>\n",
    "$\\large \\bar x_1 - \\bar x_2 \\pm z_{\\frac{\\alpha}{2}} \\cdot \\sqrt{\\frac{{s_1}^2}{n_1} + \\frac{{s_2}^2}{n_2}}$\n",
    "<br><br>\n",
    "To compute a 95% confidence interval for the difference between the mean enjoyment of Taco Bell and Del Taco food. This 95% confidence interval is below. "
   ]
  },
  {
   "cell_type": "code",
   "execution_count": 8,
   "metadata": {},
   "outputs": [
    {
     "name": "stdout",
     "output_type": "stream",
     "text": [
      "CI = [0.19772056483659495, 1.243590172178018]\n"
     ]
    }
   ],
   "source": [
    "CIlower = TBmean - DTmean - Z * math.sqrt(TBsd**2/100 + DTsd**2/100)\n",
    "CIupper = TBmean - DTmean + Z * math.sqrt(TBsd**2/100 + DTsd**2/100)\n",
    "print('CI = [' + str(CIlower) + ', ' + str(CIupper) + ']')"
   ]
  },
  {
   "cell_type": "markdown",
   "metadata": {},
   "source": [
    "**Part D:** Comment on how the results from this two-sample confidence interval compare to the results from the separate one-sample confidence intervals. In 1-2 sentences, discuss how these results confirm, disprove, or otherwise relate to your hypothesis from Part A."
   ]
  },
  {
   "cell_type": "markdown",
   "metadata": {
    "collapsed": true
   },
   "source": [
    "### From the one-sample CIs, we could not make a decision about whether Del Taco or Taco Bell has a higher mean enjoyment. From the two-sample confidence interval, we can. \n",
    "\n",
    "### When the two-sample CI includes 0, we cannot decide whether one is better than the other. The two-sample CI, however, does not include 0 and thus we can decide whether Del Taco or Taco Bell has a higher mean enjoyment. \n",
    "\n",
    "### We can see that because the two-sample CI is positive and we had Taco Bell mean - Del Taco mean in the CI calculations, we know that Taco Bell has a higher mean enjoyment than Del Taco. \n",
    "\n",
    "### We have failed to reject the hypothesis which was Taco Bell has a higher mean meal enjoyment than Del Taco. Thus, we have not disproved that Taco Bell has a higher mean meal enjoyment than Del Taco. "
   ]
  },
  {
   "cell_type": "markdown",
   "metadata": {},
   "source": [
    "---\n",
    "[Back to top](#top)\n",
    "<a id='p3'></a>\n",
    "\n",
    "### [20 points] Problem 3 - Evaluating Vehicle Performance \n",
    "\n",
    "A [1983 study](http://citeseerx.ist.psu.edu/viewdoc/download?doi=10.1.1.34.6358&rep=rep1&type=pdf) evaluated the gas mileage of a variety of cars manufactured between 1970 and 1983. The study also compiled other interesting attributes for each vehicle, but we will focus on the number of cylinders in the engine for this problem. More information on the data is available [here](https://archive.ics.uci.edu/ml/machine-learning-databases/auto-mpg/). Gas mileage is measured in miles-per-gallon, or mpg.\n",
    "\n",
    "**Part A:** Read the data set and store as a Pandas DataFrame. You will need figure out what additional arguments to `pd.read_csv()` must be provided in order to read the data set properly, based on what represents a separation between two columns of data.\n",
    "\n",
    "Then, be sure to give all of the columns informative names, if they do not already have some.\n",
    "\n",
    "Finally, use `drop_na()` to drop any rows with missing values. Missing values are reported with a \"?\"."
   ]
  },
  {
   "cell_type": "code",
   "execution_count": 4,
   "metadata": {},
   "outputs": [
    {
     "data": {
      "text/html": [
       "<div>\n",
       "<style scoped>\n",
       "    .dataframe tbody tr th:only-of-type {\n",
       "        vertical-align: middle;\n",
       "    }\n",
       "\n",
       "    .dataframe tbody tr th {\n",
       "        vertical-align: top;\n",
       "    }\n",
       "\n",
       "    .dataframe thead th {\n",
       "        text-align: right;\n",
       "    }\n",
       "</style>\n",
       "<table border=\"1\" class=\"dataframe\">\n",
       "  <thead>\n",
       "    <tr style=\"text-align: right;\">\n",
       "      <th></th>\n",
       "      <th>mpg</th>\n",
       "      <th>cylinders</th>\n",
       "      <th>displacement</th>\n",
       "      <th>horsepower</th>\n",
       "      <th>weight</th>\n",
       "      <th>acceleration</th>\n",
       "      <th>model year</th>\n",
       "      <th>origin</th>\n",
       "      <th>car name</th>\n",
       "    </tr>\n",
       "  </thead>\n",
       "  <tbody>\n",
       "    <tr>\n",
       "      <th>0</th>\n",
       "      <td>18.0</td>\n",
       "      <td>8</td>\n",
       "      <td>307.0</td>\n",
       "      <td>130.0</td>\n",
       "      <td>3504.0</td>\n",
       "      <td>12.0</td>\n",
       "      <td>70</td>\n",
       "      <td>1</td>\n",
       "      <td>chevrolet chevelle malibu</td>\n",
       "    </tr>\n",
       "    <tr>\n",
       "      <th>1</th>\n",
       "      <td>15.0</td>\n",
       "      <td>8</td>\n",
       "      <td>350.0</td>\n",
       "      <td>165.0</td>\n",
       "      <td>3693.0</td>\n",
       "      <td>11.5</td>\n",
       "      <td>70</td>\n",
       "      <td>1</td>\n",
       "      <td>buick skylark 320</td>\n",
       "    </tr>\n",
       "    <tr>\n",
       "      <th>2</th>\n",
       "      <td>18.0</td>\n",
       "      <td>8</td>\n",
       "      <td>318.0</td>\n",
       "      <td>150.0</td>\n",
       "      <td>3436.0</td>\n",
       "      <td>11.0</td>\n",
       "      <td>70</td>\n",
       "      <td>1</td>\n",
       "      <td>plymouth satellite</td>\n",
       "    </tr>\n",
       "    <tr>\n",
       "      <th>3</th>\n",
       "      <td>16.0</td>\n",
       "      <td>8</td>\n",
       "      <td>304.0</td>\n",
       "      <td>150.0</td>\n",
       "      <td>3433.0</td>\n",
       "      <td>12.0</td>\n",
       "      <td>70</td>\n",
       "      <td>1</td>\n",
       "      <td>amc rebel sst</td>\n",
       "    </tr>\n",
       "    <tr>\n",
       "      <th>4</th>\n",
       "      <td>17.0</td>\n",
       "      <td>8</td>\n",
       "      <td>302.0</td>\n",
       "      <td>140.0</td>\n",
       "      <td>3449.0</td>\n",
       "      <td>10.5</td>\n",
       "      <td>70</td>\n",
       "      <td>1</td>\n",
       "      <td>ford torino</td>\n",
       "    </tr>\n",
       "  </tbody>\n",
       "</table>\n",
       "</div>"
      ],
      "text/plain": [
       "    mpg  cylinders  displacement horsepower  weight  acceleration  model year  \\\n",
       "0  18.0          8         307.0      130.0  3504.0          12.0          70   \n",
       "1  15.0          8         350.0      165.0  3693.0          11.5          70   \n",
       "2  18.0          8         318.0      150.0  3436.0          11.0          70   \n",
       "3  16.0          8         304.0      150.0  3433.0          12.0          70   \n",
       "4  17.0          8         302.0      140.0  3449.0          10.5          70   \n",
       "\n",
       "   origin                   car name  \n",
       "0       1  chevrolet chevelle malibu  \n",
       "1       1          buick skylark 320  \n",
       "2       1         plymouth satellite  \n",
       "3       1              amc rebel sst  \n",
       "4       1                ford torino  "
      ]
     },
     "execution_count": 4,
     "metadata": {},
     "output_type": "execute_result"
    }
   ],
   "source": [
    "dfMPG = pd.read_csv('auto-mpg.data', sep = \"\\s+\", names = ['mpg', 'cylinders', 'displacement', 'horsepower', 'weight', 'acceleration', 'model year', 'origin', 'car name']) \n",
    "\n",
    "# More processing code should go here!\n",
    "dfMPG = dfMPG.replace(to_replace=\"?\", value=np.nan)\n",
    "dfMPG = dfMPG.dropna()\n",
    "dfMPG.head()"
   ]
  },
  {
   "cell_type": "markdown",
   "metadata": {},
   "source": [
    "**Part B**: Assuming the data in this sample are representative of cars from the 1970-1983 time period, find a 90% confidence interval for the mean gas mileage (mpg) of all vehicles from this period. Can we conclude that the mean gas mileage is higher than 20 mpg? Be sure to show all calculations in Python. "
   ]
  },
  {
   "cell_type": "markdown",
   "metadata": {},
   "source": [
    "$\\large CI = \\bar x \\pm z \\cdot \\frac{\\sigma}{\\sqrt{n}}$"
   ]
  },
  {
   "cell_type": "code",
   "execution_count": 5,
   "metadata": {},
   "outputs": [
    {
     "name": "stdout",
     "output_type": "stream",
     "text": [
      "Mean: 23.44591836734694\n",
      "Z critical: 1.6448536269514722\n",
      "Standard deviation: 7.805007486571799\n",
      "n: 392\n",
      "\n",
      "CI = [22.797496657205375, 24.094340077488507]\n"
     ]
    }
   ],
   "source": [
    "mean = dfMPG['mpg'].mean()\n",
    "alpha = 1 - (0.90)\n",
    "Z = stats.norm.ppf(1-alpha/2)\n",
    "sd = dfMPG['mpg'].std()\n",
    "n = len(dfMPG['mpg'])\n",
    "\n",
    "mpgCIupper = mean + Z * sd/np.sqrt(n)\n",
    "mpgCIlower = mean - Z * sd/np.sqrt(n)\n",
    "print(\"Mean:\",mean)\n",
    "print(\"Z critical:\",Z)\n",
    "print(\"Standard deviation:\", sd)\n",
    "print(\"n:\", n)\n",
    "print()\n",
    "print('CI = [' + str(mpgCIlower) + ', ' + str(mpgCIupper) + ']')"
   ]
  },
  {
   "cell_type": "markdown",
   "metadata": {},
   "source": [
    "## Can we conclude that the mean gas mileage is higher than 20 mpg?\n",
    "We can conclude, with 90% certainty, that the mean gas mileage is greater than 20 mpg for cars from the 1970-1983 time period because the CI does not include 20 within it. "
   ]
  },
  {
   "cell_type": "markdown",
   "metadata": {},
   "source": [
    "**Part C**: You are considering buying a new car, but since [gas prices have recently increased dramatically](https://www.energy.gov/eere/vehicles/fact-915-march-7-2016-average-historical-annual-gasoline-pump-price-1929-2015), you are concerned about getting good fuel economy.\n",
    "\n",
    "Using an appropriate *hypothesis test*, can you conclude at the $\\alpha=0.01$ significance level that the mean gas mileage for vehicles with 4 or 6 cylinder engines is more than 10 mpg better than the mean gas mileage for vehicles with 8 cylinder engines? You may consider two populations here: those vehicles with 4 or 6 cylinders, and those vehicles with 8 cylinders in their engines. Be sure to clearly describe your hypotheses and methodology, and show all relevant computations in Python. "
   ]
  },
  {
   "cell_type": "markdown",
   "metadata": {},
   "source": [
    "$\\large H_0 =$ Mean gas mileage for vehicles with 4 or 6 cylinders - mean gas mileage for vehicles with 8 cylinder engines =  10mpg. \n",
    "<br><br>\n",
    "$\\large H_1 =$ Mean gas mileage for vehicles with 4 or 6 cylinders - mean gas mileage for vehicles with 8 cylinder engines >  10mpg.  \n",
    "<br><br>\n",
    "$\\large SE = \\sqrt{\\frac{{s_1}^2}{n_1} + \\frac{{s_2}^2}{n_2}}$\n",
    "<br><br>\n",
    "$\\large d = 10$\n",
    "<br><br>\n",
    "$\\large tS = [(\\bar x_1 - \\bar x_2) - d]/SE$\n",
    "<br><br>\n",
    "$\\large Z_{crit} = 2.3263478740408408$ \n",
    "<br><br>\n",
    "$\\large tS = 3.2418504505148653$ \n",
    "<br><br>\n",
    "$\\large tS > Z_{crit}$\n",
    "<br><br>\n",
    "$\\large p = 0.0005937816137021601$\n",
    "<br><br>\n",
    "$\\large p < 0.01$ \n",
    "\n",
    "## Thus, we reject the null hypothesis because the test statistic is greater than z critical and because the p-value is less than the significance level. We reject the null hypothesis that mean gas mileage for vehicles with 4 or 6 cylinders - mean gas mileage for vehicles with 8 cylinder engines =  10mpg."
   ]
  },
  {
   "cell_type": "code",
   "execution_count": 6,
   "metadata": {},
   "outputs": [
    {
     "name": "stdout",
     "output_type": "stream",
     "text": [
      "Z critical: 2.3263478740408408\n",
      "Test statistic: 3.2418504505148653\n",
      "P-value: 0.0005937816137021601\n"
     ]
    }
   ],
   "source": [
    "fourSix = dfMPG.loc[((dfMPG['cylinders'] == 4) | (dfMPG['cylinders'] == 6))]\n",
    "fourSix = fourSix['mpg']\n",
    "\n",
    "eight = dfMPG.loc[(dfMPG['cylinders'] == 8)]\n",
    "eight = eight['mpg']\n",
    "\n",
    "meanfourSix = fourSix.mean()\n",
    "meaneight = eight.mean()\n",
    "mean = meanfourSix - meaneight\n",
    "\n",
    "varfourSix = fourSix.var()\n",
    "vareight = eight.var()\n",
    "\n",
    "nfourSix = len(fourSix)\n",
    "neight = len(eight)\n",
    "SE = math.sqrt(varfourSix/nfourSix + vareight/neight)\n",
    "\n",
    "d = 10\n",
    "\n",
    "\n",
    "ts = (mean-d)/SE\n",
    "Z_crit = stats.norm.ppf(0.99)\n",
    "print(\"Z critical:\", Z_crit)\n",
    "print(\"Test statistic:\",ts)\n",
    "p_val = 1-stats.norm.cdf(ts)\n",
    "print(\"P-value:\", p_val)"
   ]
  },
  {
   "cell_type": "markdown",
   "metadata": {},
   "source": [
    "---\n",
    "[Back to top](#top)\n",
    "<a id='p4'></a>\n",
    "\n",
    "### [20 points] Problem 4 - Grab bag!\n",
    "\n"
   ]
  },
  {
   "cell_type": "markdown",
   "metadata": {},
   "source": [
    "<img src=\"http://blog.localditch.com/wp-content/uploads/2011/01/sonic4.jpg\" style=\"width: 400px;\"/>\n",
    "\n",
    "**Part A**: You work for an engineering firm that has been hired to construct a corkscrew-shaped looped path for hedgehogs to run on and collect gold rings. Thousands of hedgehogs will run along this path each day, so structural failure means injury or death for many wonderful little creatures. \n",
    "\n",
    "You are in charge of quality control for the average strength of carbon fiber that will be used to construct the corkscrew path. Thinking back fondly to your days in CSCI 3022, you set up a hypothesis test in which your alternative hypothesis is that the strength of the carbon fiber is below tolerance, and therefore unsafe. What is the null hypothesis? Would you rather have a low Type I error rate or a low Type II error rate? Explain."
   ]
  },
  {
   "cell_type": "markdown",
   "metadata": {},
   "source": [
    "We have: \n",
    "<br><br>\n",
    "$\\large H_1 =$ The strength of the carbon fiber is below tolerance, and therefore unsafe.\n",
    "<br><br>\n",
    "So:\n",
    "<br><br>\n",
    "$\\large H_0 =$ The strength of the carbon fiber is equal or greater to tolerance, and therefore safe.\n",
    "<br><br>\n",
    "I would rather have a low type II error rate because if we get a type II error it would mean that hedgehogs would die since we would fail to reject the null hypothesis but the null hypothesis is false. "
   ]
  },
  {
   "cell_type": "markdown",
   "metadata": {},
   "source": [
    "**Part B**: Amy, the famous hedgehog data scientist, is working for the same engineering firm as you. She is a legend around the office! Word around the water cooler is that out of all of the 95% confidence intervals that Amy has constructed, 931 of them have turned out to actually capture the true population mean. Since Amy is a data science wizard and you can be sure she is constructing her confidence intervals correctly and collecting and using her data honestly, about how many 95% confidence intervals would you expect her to have constructed total? Explain your reasoning fully with words as well as some math."
   ]
  },
  {
   "cell_type": "markdown",
   "metadata": {},
   "source": [
    "$\\large \\frac{95}{931} = \\frac{100}{x}$\n",
    "<br><br>\n",
    "$\\large 95 \\cdot x = 100 \\cdot 931$\n",
    "<br><br>\n",
    "$\\large x = \\frac{100 \\ \\cdot \\ 931}{95}$\n",
    "<br><br>\n",
    "$\\large x = 980$\n",
    "\n",
    "## I expect Amy to have constructed __980__ 95% confidence intervals. \n",
    "\n",
    "### This is because by the definition of confidence intervals, 95% of the total CI's she took would contain the true mean. "
   ]
  },
  {
   "cell_type": "markdown",
   "metadata": {},
   "source": [
    "**Part C**: As part of an outreach program, you and Amy are visiting a local elementary school to talk to the students about data science. What a riot! One of the more astute students asks you a question: \"In general, which is wider: a 95% confidence interval or a 99% confidence interval?\"\n",
    "\n",
    "How would you explain this to these young students, who are not fluent in any kind of science? (So, for example, spouting off theory and words like \"mean\" and \"z critical value\" probably won't mean anything to them.)"
   ]
  },
  {
   "cell_type": "markdown",
   "metadata": {},
   "source": [
    "## Think of a CI as a bag. Then, think of something called the \"mean\" as the best candy that there is. Let us say you to try to catch 100 pieces of candy with your bag and your bag does 95% well at catching candy. So, you will be catching more candy than if you had a bag that does 90% well at catching candy and you will be 95% confident you will catch the best candy that there is. Now, let's say that you have  a another bag and this bag does 99% well at catching candy. This time, you will be catching more candy than if you had a bag that does 95% well at catching candy and you will be 99% confident you will catch the best candy that there is. Because you are catching more candy with the bag that does 99% well at catching candy, this bag will be wider and so you would have a better chance of catching the best candy that there is. In other words, the 99% confidence interval is wider. "
   ]
  },
  {
   "cell_type": "markdown",
   "metadata": {},
   "source": [
    "**Part D:** You observe a sample of 73 pygmy hedgehogs and find that 49 of them are fantastic pets. Then, you observe a sample of 58 long-eared hedgehogs and find that 51 of them are fantastic pets.\n",
    "\n",
    "Is there statistical evidence at the 0.05 significance level that the true proportion of long-eared hedgehogs that make fantastic pets is 10% higher than the true proportion of pygmy hedgehogs that make fantastic pets? Perform a test that computes and properly interprets a p-value."
   ]
  },
  {
   "cell_type": "markdown",
   "metadata": {},
   "source": [
    "$\\large H_0 =$ Proportion of long-eared hedgehogs that make fantastic pets - true proportion of pygmy hedgehogs that make fantastic pets = 10%\n",
    "<br><br>\n",
    "$\\large H_1 =$ Proportion of long-eared hedgehogs that make fantastic pets - true proportion of pygmy hedgehogs that make fantastic pets > 10%\n",
    "<br><br>\n",
    "$\\large  T_S = \\frac{p_1 - p_2 - 0.1}{\\sqrt{\\frac{p_1 \\cdot ( 1 - p_1 )}{n_1} + \\frac{p_2 \\cdot (1 - p_2)}{n_2}}}$ \n",
    "<br><br>\n",
    "$\\large T_S = \\frac{\\frac{51}{58} - \\frac{49}{73} - 0.1}{\\sqrt{\\frac{\\frac{51}{58} \\cdot ( 1 - \\frac{51}{58} )}{58} + \\frac{\\frac{49}{73} \\cdot (1 - \\frac{49}{73})}{73}}} = 1.55147$ \n",
    "<br><br>\n",
    "$\\large \\text({p-value} = 0.060394950555197724) > (\\text{significance level} = 0.05)$\n",
    "<br><br>\n",
    "## So, because the p-value is greater than the significance level, we know that it is not significant enough to reject the null hypothesis. "
   ]
  },
  {
   "cell_type": "code",
   "execution_count": 12,
   "metadata": {},
   "outputs": [
    {
     "name": "stdout",
     "output_type": "stream",
     "text": [
      "P-Value: 0.060394950555197724\n",
      "Significance Level: 0.05\n"
     ]
    }
   ],
   "source": [
    "p1 = 51/58\n",
    "p2 = 49/73\n",
    "n1 = 58\n",
    "n2 = 73\n",
    "SE = np.sqrt(((p1 * (1-p1))/n1) + ((p2 * (1-p2))/n2))\n",
    "Z = (p1-p2-0.1)/SE\n",
    "p_value = 1 - stats.norm.cdf(Z)\n",
    "print(\"P-Value:\", p_value)\n",
    "print(\"Significance Level:\", 0.05)"
   ]
  },
  {
   "cell_type": "markdown",
   "metadata": {},
   "source": [
    "**Part E**: Let $X$ be a normally-distributed random variable representing the difficulty of a homework problem in CSCI 3022. You draw from it more times than you care to count during the Spring 2019 semester and get the following values, stored in the numpy array **toughness**, below. Compute a 90% confidence interval for the _standard deviation_ in problem toughness."
   ]
  },
  {
   "cell_type": "code",
   "execution_count": 13,
   "metadata": {},
   "outputs": [],
   "source": [
    "toughness = np.array([7.7778,6.9459,5.8248,9.1111,6.0180,5.0898,7.0380,8.9273,2.9614,5.8387,6.0231])"
   ]
  },
  {
   "cell_type": "markdown",
   "metadata": {},
   "source": [
    "$\\large CI = [\\sqrt{\\frac{(n-1)s^2}{X^2_{1-\\frac{\\alpha}{2}}}}, \\sqrt{\\frac{(n-1)s^2}{X^2_{\\frac{\\alpha}{2}}}}]$"
   ]
  },
  {
   "cell_type": "code",
   "execution_count": 14,
   "metadata": {},
   "outputs": [
    {
     "name": "stdout",
     "output_type": "stream",
     "text": [
      "CI = [1.294838689983604, 2.7910017777609895]\n"
     ]
    }
   ],
   "source": [
    "n = len(toughness)\n",
    "var = np.var(toughness, ddof = 1)\n",
    "alpha = 1 - (0.90)\n",
    "upLim = np.sqrt(((n-1)*var)/stats.chi2.ppf((alpha/2), (n-1)))\n",
    "lowLim = np.sqrt(((n-1)*var)/stats.chi2.ppf(1 - (alpha/2), (n-1)))\n",
    "print('CI = [' + str(lowLim) + ', ' + str(upLim) + ']')"
   ]
  },
  {
   "cell_type": "markdown",
   "metadata": {},
   "source": [
    "### The above is the 90% confidence interval for the standard deviation in problem toughness."
   ]
  },
  {
   "cell_type": "markdown",
   "metadata": {},
   "source": [
    "---\n",
    "\n",
    "<a id='p5'></a>\n",
    "[Back to top](#top)\n",
    "\n",
    "### [20 points] Problem 5 - Lies, damned lies, and statistics\n",
    "\n",
    "![frazz](http://3.bp.blogspot.com/-SbQUWRfHFXk/VdN8YWAy0WI/AAAAAAAAJLw/Ij5E0CbYk6g/s1600/lies3.gif)\n",
    "\n",
    "Legend of your Data Science prowess has spread o'er the land. You have been contacted by a shadowy organization to assess whether there is statistical evidence for sea-level rise in the area of Key West, Florida. You obtain from the University of Hawaii Sea Level Center's [gigantic repository of sea-level data](https://uhslc.soest.hawaii.edu/data/?rq) the daily mean sea levels file included in the zip folder for this assignment. The columns are, in order, the year, month, day-of-month and measured sea level (in millimeters)."
   ]
  },
  {
   "cell_type": "markdown",
   "metadata": {},
   "source": [
    "**Part A:** Load the data `sealevel_keywest.csv` into a Pandas DataFrame. Rename the columns as something meaningful in the context of this problem. Print to the screen the first 7 rows from your updated DataFrame."
   ]
  },
  {
   "cell_type": "code",
   "execution_count": 15,
   "metadata": {},
   "outputs": [
    {
     "data": {
      "text/html": [
       "<div>\n",
       "<style scoped>\n",
       "    .dataframe tbody tr th:only-of-type {\n",
       "        vertical-align: middle;\n",
       "    }\n",
       "\n",
       "    .dataframe tbody tr th {\n",
       "        vertical-align: top;\n",
       "    }\n",
       "\n",
       "    .dataframe thead th {\n",
       "        text-align: right;\n",
       "    }\n",
       "</style>\n",
       "<table border=\"1\" class=\"dataframe\">\n",
       "  <thead>\n",
       "    <tr style=\"text-align: right;\">\n",
       "      <th></th>\n",
       "      <th>year</th>\n",
       "      <th>month</th>\n",
       "      <th>day-of-month</th>\n",
       "      <th>sea level</th>\n",
       "    </tr>\n",
       "  </thead>\n",
       "  <tbody>\n",
       "    <tr>\n",
       "      <th>0</th>\n",
       "      <td>1913</td>\n",
       "      <td>1</td>\n",
       "      <td>20</td>\n",
       "      <td>1453</td>\n",
       "    </tr>\n",
       "    <tr>\n",
       "      <th>1</th>\n",
       "      <td>1913</td>\n",
       "      <td>1</td>\n",
       "      <td>21</td>\n",
       "      <td>1439</td>\n",
       "    </tr>\n",
       "    <tr>\n",
       "      <th>2</th>\n",
       "      <td>1913</td>\n",
       "      <td>1</td>\n",
       "      <td>22</td>\n",
       "      <td>1444</td>\n",
       "    </tr>\n",
       "    <tr>\n",
       "      <th>3</th>\n",
       "      <td>1913</td>\n",
       "      <td>1</td>\n",
       "      <td>23</td>\n",
       "      <td>1489</td>\n",
       "    </tr>\n",
       "    <tr>\n",
       "      <th>4</th>\n",
       "      <td>1913</td>\n",
       "      <td>1</td>\n",
       "      <td>24</td>\n",
       "      <td>1474</td>\n",
       "    </tr>\n",
       "    <tr>\n",
       "      <th>5</th>\n",
       "      <td>1913</td>\n",
       "      <td>1</td>\n",
       "      <td>25</td>\n",
       "      <td>1442</td>\n",
       "    </tr>\n",
       "    <tr>\n",
       "      <th>6</th>\n",
       "      <td>1913</td>\n",
       "      <td>1</td>\n",
       "      <td>26</td>\n",
       "      <td>1467</td>\n",
       "    </tr>\n",
       "  </tbody>\n",
       "</table>\n",
       "</div>"
      ],
      "text/plain": [
       "   year  month  day-of-month  sea level\n",
       "0  1913      1            20       1453\n",
       "1  1913      1            21       1439\n",
       "2  1913      1            22       1444\n",
       "3  1913      1            23       1489\n",
       "4  1913      1            24       1474\n",
       "5  1913      1            25       1442\n",
       "6  1913      1            26       1467"
      ]
     },
     "execution_count": 15,
     "metadata": {},
     "output_type": "execute_result"
    }
   ],
   "source": [
    "dfSEA = pd.read_csv('sealevel_keywest.csv', names = ['year', 'month', 'day-of-month', 'sea level'])\n",
    "dfSEA.head(7)"
   ]
  },
  {
   "cell_type": "markdown",
   "metadata": {},
   "source": [
    "**Part B:**  Plot the raw time series of sea levels. Be sure to label your axes, including units. For the $x$-axis, place the $x$ tick marks on January 2 of each year that is divisible by 10 (i.e., 1920, 1930, ...), and label with that year. You may need to do additional processing in order to grab these indices. "
   ]
  },
  {
   "cell_type": "code",
   "execution_count": 16,
   "metadata": {},
   "outputs": [
    {
     "data": {
      "text/plain": [
       "Text(0.5, 1.0, 'Key West, Florida: Sea Level')"
      ]
     },
     "execution_count": 16,
     "metadata": {},
     "output_type": "execute_result"
    },
    {
     "data": {
      "image/png": "[encoded data removed]",
      "text/plain": [
       "<Figure size 720x360 with 1 Axes>"
      ]
     },
     "metadata": {
      "needs_background": "light"
     },
     "output_type": "display_data"
    }
   ],
   "source": [
    "xtick = dfSEA.index[(dfSEA['month'] == 1) & (dfSEA['day-of-month'] == 2) & (dfSEA['year'] % 10 == 0)]\n",
    "\n",
    "fig, ax = plt.subplots(figsize=(10,5))\n",
    "dfSEA['sea level'].plot()\n",
    "\n",
    "ax.set_xticks(xtick)\n",
    "ax.set_xticklabels(dfSEA.loc[xtick, 'year'])\n",
    "ax.set_xlabel('Year', fontsize = 15)\n",
    "ax.set_ylabel('Measured Sea Level (millimeters)', fontsize = 15)\n",
    "ax.set_title('Key West, Florida: Sea Level', fontsize = 15)"
   ]
  },
  {
   "cell_type": "markdown",
   "metadata": {},
   "source": [
    "**Part C:** Your time series plot from Part B should look pretty funky. Namely, there are a bunch of spikes in it! What do you think these spikes represent?\n",
    "\n",
    "Now, clean your data set by doing the following:\n",
    "* Remove any data points associated with these spikes. You may need to look back to some of the earlier in-class notebooks and Pandas tutorials for how to drop data points from a Pandas DataFrame. \n",
    "* Include only the data point from the second day of each month.\n",
    "* Convert the sea-level data from millimeters to feet.\n",
    "\n",
    "Then, make a similar plot to Part B, but of your cleaned data set. Be sure to label axes (including units) and only label January 2 of each year that is divisible by 10."
   ]
  },
  {
   "cell_type": "markdown",
   "metadata": {},
   "source": [
    "### I think that the spikes in the plot represent missing data that is indicated by negative values. "
   ]
  },
  {
   "cell_type": "code",
   "execution_count": 17,
   "metadata": {},
   "outputs": [
    {
     "data": {
      "text/plain": [
       "Text(0.5, 1.0, 'Key West, Florida: Sea Level')"
      ]
     },
     "execution_count": 17,
     "metadata": {},
     "output_type": "execute_result"
    },
    {
     "data": {
      "image/png": "[encoded data removed]",
      "text/plain": [
       "<Figure size 720x360 with 1 Axes>"
      ]
     },
     "metadata": {
      "needs_background": "light"
     },
     "output_type": "display_data"
    }
   ],
   "source": [
    "dfSEA_clean = dfSEA.copy()\n",
    "dfSEA_clean = dfSEA_clean.loc[(dfSEA_clean['sea level'] > -5000) & (dfSEA_clean['day-of-month'] == 2)]\n",
    "xtick = dfSEA_clean.index[(dfSEA_clean['month'] == 1) & (dfSEA_clean['year'] % 10 == 0)]\n",
    "fig, ax = plt.subplots(figsize=(10,5))\n",
    "dfSEA_clean['sea level'] *= 0.0032808\n",
    "dfSEA_clean['sea level'].plot()\n",
    "\n",
    "ax.set_xticks(xtick)\n",
    "ax.set_xticklabels(dfSEA_clean.loc[xtick, 'year'])\n",
    "ax.set_xlabel('Year', fontsize = 15)\n",
    "ax.set_ylabel('Measured Sea Level (feet)', fontsize = 15)\n",
    "ax.set_title('Key West, Florida: Sea Level', fontsize = 15)"
   ]
  },
  {
   "cell_type": "markdown",
   "metadata": {},
   "source": [
    "**Part D:** Your mysterious employer owns a lot of beachfront property in Key West and does not want to see people shy away from buying real estate and spending time near the sea. So, they really want to convince others to that the mean sea level in Key West in not increasing. Toward this end, your employer wants to find a decade of data (11 years, including both end points) that has a mean sea level which is not statistically significantly different from the mean sea level in the decade 2000-2010 (including data from both 2000 and 2010). Your employer wants you to use the 99% confidence/1% significance level because it sounds catchy in a press release, and wants the *earliest* decade possible.\n",
    "\n",
    "Use your cleaned monthly data set from Part C to find the earliest decade for which you cannot conclude the mean sea level at Key West was statistically significantly different from the mean sea level in the 2000-2010 decade. You may want to write a helper function to compute the confidence intervals/perform the hypothesis test for you, because there are a LOT of possible 11-year periods to try.\n",
    "\n",
    "You may use either hypothesis tests or confidence intervals, but clearly state which method you will use, your results and show all work that leads to your conclusion. "
   ]
  },
  {
   "cell_type": "markdown",
   "metadata": {},
   "source": [
    "## I will use the two sample confidence interval to find the first decade that has a mean sea level which is not statistically significantly different from the mean sea level in the decade 2000-2010. The first decade sea level mean that contains 0 in the two sample CI will indicate that the mean is not statistically significantly different from the mean sea level in the decade 2000-2010.\n",
    "$\\large \\bar x_1 - \\bar x_2 \\pm z_{\\frac{\\alpha}{2}} \\cdot \\sqrt{\\frac{{s_1}^2}{n_1} + \\frac{{s_2}^2}{n_2}}$"
   ]
  },
  {
   "cell_type": "code",
   "execution_count": 18,
   "metadata": {},
   "outputs": [
    {
     "name": "stdout",
     "output_type": "stream",
     "text": [
      "Decade: 1984-1994\n"
     ]
    }
   ],
   "source": [
    "def helper(lowerYear, upperYear):\n",
    "    compare = dfSEA_clean.loc[(dfSEA_clean['year'] >= lowerYear) & (dfSEA_clean['year'] <= upperYear)]\n",
    "    x_2 = compare['sea level'].mean()\n",
    "    s2 = np.var(compare['sea level'], ddof = 1)\n",
    "    n2 = len(compare)\n",
    "    return x_2, s2, n2\n",
    "    \n",
    "now = dfSEA_clean.loc[(dfSEA_clean['year'] >= 2000) & (dfSEA_clean['year'] <= 2010)]\n",
    "x_1 = now['sea level'].mean()\n",
    "alpha = 1 - (0.99)\n",
    "Z = stats.norm.ppf(1-alpha/2)\n",
    "s1 = np.var(now['sea level'], ddof = 1)\n",
    "n1 = len(now)\n",
    "\n",
    "years = range(1960, 2001, 1)\n",
    "for i in years: \n",
    "    x_2, s2, n2 = helper(i, i+10) \n",
    "    CIlower = x_1 - x_2 - Z * math.sqrt(s1/n1 + s2/n2)\n",
    "    CIupper = x_1 - x_2 + Z * math.sqrt(s1/n1 + s2/n2)\n",
    "    if(CIlower <= 0 and CIupper >= 0):\n",
    "        print(\"Decade: \" + str(i) + '-' + str(i+10)) \n",
    "        break"
   ]
  },
  {
   "cell_type": "markdown",
   "metadata": {},
   "source": [
    "## The first decade that has a mean sea level which is not statistically significantly different from the mean sea level in the decade 2000-2010 is 1984-1994 because this decade contains 0 in the two sample CI which tells us that the mean is not statistically significantly different from the mean sea level in the decade 2000-2010."
   ]
  }
 ],
 "metadata": {
  "kernelspec": {
   "display_name": "Python 3",
   "language": "python",
   "name": "python3"
  },
  "language_info": {
   "codemirror_mode": {
    "name": "ipython",
    "version": 3
   },
   "file_extension": ".py",
   "mimetype": "text/x-python",
   "name": "python",
   "nbconvert_exporter": "python",
   "pygments_lexer": "ipython3",
   "version": "3.7.1"
  }
 },
 "nbformat": 4,
 "nbformat_minor": 2
}
